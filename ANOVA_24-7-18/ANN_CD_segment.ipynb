{
 "cells": [
  {
   "cell_type": "code",
   "execution_count": 1,
   "id": "ce7824c4",
   "metadata": {},
   "outputs": [],
   "source": [
    "import warnings\n",
    "warnings.simplefilter('ignore', FutureWarning)"
   ]
  },
  {
   "cell_type": "code",
   "execution_count": 2,
   "id": "eab3a947",
   "metadata": {},
   "outputs": [],
   "source": [
    "import tensorflow as tf\n",
    "import numpy as np\n",
    "import matplotlib.pyplot as plt\n",
    "import pandas as pd\n",
    "import sklearn"
   ]
  },
  {
   "cell_type": "code",
   "execution_count": 3,
   "id": "5753432b",
   "metadata": {},
   "outputs": [],
   "source": [
    "#from tensorflow.keras import models\n",
    "#from tensorflow.keras import layers\n",
    "from sklearn.model_selection import train_test_split"
   ]
  },
  {
   "cell_type": "code",
   "execution_count": 4,
   "id": "61385086",
   "metadata": {},
   "outputs": [],
   "source": [
    "df_input = pd.read_csv(\"CD3D_110℃_segment\", usecols=[1,2,3,4,5])"
   ]
  },
  {
   "cell_type": "code",
   "execution_count": 5,
   "id": "bee2e1cb",
   "metadata": {},
   "outputs": [],
   "source": [
    "df_output = pd. read_csv(\"CD3D_110℃_segment\", usecols=[6])"
   ]
  },
  {
   "cell_type": "code",
   "execution_count": 6,
   "id": "6aa258fc",
   "metadata": {},
   "outputs": [
    {
     "data": {
      "text/plain": [
       "(422394, 5)"
      ]
     },
     "execution_count": 6,
     "metadata": {},
     "output_type": "execute_result"
    }
   ],
   "source": [
    "df_input.shape"
   ]
  },
  {
   "cell_type": "code",
   "execution_count": 7,
   "id": "0c9360c2",
   "metadata": {},
   "outputs": [
    {
     "data": {
      "text/plain": [
       "(422394, 1)"
      ]
     },
     "execution_count": 7,
     "metadata": {},
     "output_type": "execute_result"
    }
   ],
   "source": [
    "df_output.shape"
   ]
  },
  {
   "cell_type": "code",
   "execution_count": 8,
   "id": "67c463de",
   "metadata": {},
   "outputs": [],
   "source": [
    "x_train, x_test, y_train, y_test = train_test_split(df_input, df_output, test_size=0.1, random_state=0)  #testとvalidとtrainにさらに分ける必要あり"
   ]
  },
  {
   "cell_type": "code",
   "execution_count": 9,
   "id": "9b16ab26",
   "metadata": {},
   "outputs": [
    {
     "name": "stdout",
     "output_type": "stream",
     "text": [
      "(380154, 5) (42240, 5)\n"
     ]
    }
   ],
   "source": [
    "print(x_train.shape,x_test.shape)"
   ]
  },
  {
   "cell_type": "code",
   "execution_count": 10,
   "id": "e2036ac2",
   "metadata": {},
   "outputs": [
    {
     "data": {
      "text/html": [
       "<div>\n",
       "<style scoped>\n",
       "    .dataframe tbody tr th:only-of-type {\n",
       "        vertical-align: middle;\n",
       "    }\n",
       "\n",
       "    .dataframe tbody tr th {\n",
       "        vertical-align: top;\n",
       "    }\n",
       "\n",
       "    .dataframe thead th {\n",
       "        text-align: right;\n",
       "    }\n",
       "</style>\n",
       "<table border=\"1\" class=\"dataframe\">\n",
       "  <thead>\n",
       "    <tr style=\"text-align: right;\">\n",
       "      <th></th>\n",
       "      <th>x座標</th>\n",
       "      <th>y座標</th>\n",
       "      <th>z座標</th>\n",
       "      <th>V[V]</th>\n",
       "      <th>Segment</th>\n",
       "    </tr>\n",
       "  </thead>\n",
       "  <tbody>\n",
       "    <tr>\n",
       "      <th>341905</th>\n",
       "      <td>0.000231</td>\n",
       "      <td>0.0163</td>\n",
       "      <td>0.001180</td>\n",
       "      <td>0.550</td>\n",
       "      <td>2.1</td>\n",
       "    </tr>\n",
       "    <tr>\n",
       "      <th>151133</th>\n",
       "      <td>0.000046</td>\n",
       "      <td>0.0145</td>\n",
       "      <td>0.001180</td>\n",
       "      <td>0.275</td>\n",
       "      <td>1.4</td>\n",
       "    </tr>\n",
       "    <tr>\n",
       "      <th>228959</th>\n",
       "      <td>0.000923</td>\n",
       "      <td>0.0075</td>\n",
       "      <td>0.001170</td>\n",
       "      <td>0.600</td>\n",
       "      <td>1.4</td>\n",
       "    </tr>\n",
       "    <tr>\n",
       "      <th>24384</th>\n",
       "      <td>0.001662</td>\n",
       "      <td>0.0073</td>\n",
       "      <td>0.001165</td>\n",
       "      <td>0.350</td>\n",
       "      <td>0.7</td>\n",
       "    </tr>\n",
       "    <tr>\n",
       "      <th>65056</th>\n",
       "      <td>0.001708</td>\n",
       "      <td>0.0057</td>\n",
       "      <td>0.001165</td>\n",
       "      <td>0.500</td>\n",
       "      <td>0.7</td>\n",
       "    </tr>\n",
       "    <tr>\n",
       "      <th>...</th>\n",
       "      <td>...</td>\n",
       "      <td>...</td>\n",
       "      <td>...</td>\n",
       "      <td>...</td>\n",
       "      <td>...</td>\n",
       "    </tr>\n",
       "    <tr>\n",
       "      <th>359783</th>\n",
       "      <td>0.000000</td>\n",
       "      <td>0.0221</td>\n",
       "      <td>0.001173</td>\n",
       "      <td>0.600</td>\n",
       "      <td>2.1</td>\n",
       "    </tr>\n",
       "    <tr>\n",
       "      <th>358083</th>\n",
       "      <td>0.000000</td>\n",
       "      <td>0.0161</td>\n",
       "      <td>0.001178</td>\n",
       "      <td>0.650</td>\n",
       "      <td>2.1</td>\n",
       "    </tr>\n",
       "    <tr>\n",
       "      <th>152315</th>\n",
       "      <td>0.000046</td>\n",
       "      <td>0.0130</td>\n",
       "      <td>0.001180</td>\n",
       "      <td>0.275</td>\n",
       "      <td>1.4</td>\n",
       "    </tr>\n",
       "    <tr>\n",
       "      <th>117952</th>\n",
       "      <td>0.001569</td>\n",
       "      <td>0.0000</td>\n",
       "      <td>0.001165</td>\n",
       "      <td>0.800</td>\n",
       "      <td>0.7</td>\n",
       "    </tr>\n",
       "    <tr>\n",
       "      <th>305711</th>\n",
       "      <td>0.001800</td>\n",
       "      <td>0.0175</td>\n",
       "      <td>0.001172</td>\n",
       "      <td>0.325</td>\n",
       "      <td>2.1</td>\n",
       "    </tr>\n",
       "  </tbody>\n",
       "</table>\n",
       "<p>380154 rows × 5 columns</p>\n",
       "</div>"
      ],
      "text/plain": [
       "             x座標     y座標       z座標   V[V]  Segment\n",
       "341905  0.000231  0.0163  0.001180  0.550      2.1\n",
       "151133  0.000046  0.0145  0.001180  0.275      1.4\n",
       "228959  0.000923  0.0075  0.001170  0.600      1.4\n",
       "24384   0.001662  0.0073  0.001165  0.350      0.7\n",
       "65056   0.001708  0.0057  0.001165  0.500      0.7\n",
       "...          ...     ...       ...    ...      ...\n",
       "359783  0.000000  0.0221  0.001173  0.600      2.1\n",
       "358083  0.000000  0.0161  0.001178  0.650      2.1\n",
       "152315  0.000046  0.0130  0.001180  0.275      1.4\n",
       "117952  0.001569  0.0000  0.001165  0.800      0.7\n",
       "305711  0.001800  0.0175  0.001172  0.325      2.1\n",
       "\n",
       "[380154 rows x 5 columns]"
      ]
     },
     "execution_count": 10,
     "metadata": {},
     "output_type": "execute_result"
    }
   ],
   "source": [
    "x_train"
   ]
  },
  {
   "cell_type": "code",
   "execution_count": 11,
   "id": "5f2b908c",
   "metadata": {},
   "outputs": [
    {
     "data": {
      "text/html": [
       "<div>\n",
       "<style scoped>\n",
       "    .dataframe tbody tr th:only-of-type {\n",
       "        vertical-align: middle;\n",
       "    }\n",
       "\n",
       "    .dataframe tbody tr th {\n",
       "        vertical-align: top;\n",
       "    }\n",
       "\n",
       "    .dataframe thead th {\n",
       "        text-align: right;\n",
       "    }\n",
       "</style>\n",
       "<table border=\"1\" class=\"dataframe\">\n",
       "  <thead>\n",
       "    <tr style=\"text-align: right;\">\n",
       "      <th></th>\n",
       "      <th>i[A/m^2]</th>\n",
       "    </tr>\n",
       "  </thead>\n",
       "  <tbody>\n",
       "    <tr>\n",
       "      <th>341905</th>\n",
       "      <td>469.630739</td>\n",
       "    </tr>\n",
       "    <tr>\n",
       "      <th>151133</th>\n",
       "      <td>892.617245</td>\n",
       "    </tr>\n",
       "    <tr>\n",
       "      <th>228959</th>\n",
       "      <td>397.248956</td>\n",
       "    </tr>\n",
       "    <tr>\n",
       "      <th>24384</th>\n",
       "      <td>776.272659</td>\n",
       "    </tr>\n",
       "    <tr>\n",
       "      <th>65056</th>\n",
       "      <td>545.922158</td>\n",
       "    </tr>\n",
       "    <tr>\n",
       "      <th>...</th>\n",
       "      <td>...</td>\n",
       "    </tr>\n",
       "    <tr>\n",
       "      <th>359783</th>\n",
       "      <td>395.606099</td>\n",
       "    </tr>\n",
       "    <tr>\n",
       "      <th>358083</th>\n",
       "      <td>324.610442</td>\n",
       "    </tr>\n",
       "    <tr>\n",
       "      <th>152315</th>\n",
       "      <td>892.907448</td>\n",
       "    </tr>\n",
       "    <tr>\n",
       "      <th>117952</th>\n",
       "      <td>130.088737</td>\n",
       "    </tr>\n",
       "    <tr>\n",
       "      <th>305711</th>\n",
       "      <td>813.507500</td>\n",
       "    </tr>\n",
       "  </tbody>\n",
       "</table>\n",
       "<p>380154 rows × 1 columns</p>\n",
       "</div>"
      ],
      "text/plain": [
       "          i[A/m^2]\n",
       "341905  469.630739\n",
       "151133  892.617245\n",
       "228959  397.248956\n",
       "24384   776.272659\n",
       "65056   545.922158\n",
       "...            ...\n",
       "359783  395.606099\n",
       "358083  324.610442\n",
       "152315  892.907448\n",
       "117952  130.088737\n",
       "305711  813.507500\n",
       "\n",
       "[380154 rows x 1 columns]"
      ]
     },
     "execution_count": 11,
     "metadata": {},
     "output_type": "execute_result"
    }
   ],
   "source": [
    "y_train"
   ]
  },
  {
   "cell_type": "code",
   "execution_count": 12,
   "id": "e8453f27",
   "metadata": {},
   "outputs": [],
   "source": [
    "from tensorflow.keras.models import Sequential\n",
    "from tensorflow.keras.layers import Dense, Activation\n",
    "from tensorflow.keras import regularizers, initializers\n",
    "\n",
    "model = Sequential()\n",
    "\n",
    "weights = [com.get_weights() for com in model.layers[0:]]  #重さを抽出（※始めに回すときだけ下の行と入れ替える）\n",
    "\n",
    "\n",
    "\n",
    "model.add(Dense(units=16, input_shape=(5,), activation='relu'))  \n",
    "model.add(Dense(units=8, activation='relu'))  #\n",
    "model.add(Dense(units=8, activation='relu'))\n",
    "model.add(Dense(units=1, activation='linear'))  #隠れ層3層でやってみる\n",
    "\n",
    "model.compile(loss='mean_absolute_error',    \n",
    "              optimizer='adam',             #とりあえずadamで\n",
    "              metrics=['mae'],\n",
    "              run_eagerly=False)   #計算時間5倍くらいかかる"
   ]
  },
  {
   "cell_type": "code",
   "execution_count": 13,
   "id": "232c27be",
   "metadata": {},
   "outputs": [
    {
     "name": "stdout",
     "output_type": "stream",
     "text": [
      "Epoch 1/20000\n",
      "1901/1901 [==============================] - 4s 2ms/step - loss: 291.7154 - mae: 291.7154 - val_loss: 32.3383 - val_mae: 32.3383 - lr: 0.0010\n",
      "Epoch 2/20000\n",
      "1901/1901 [==============================] - 3s 1ms/step - loss: 8.9541 - mae: 8.9541 - val_loss: 6.4785 - val_mae: 6.4785 - lr: 0.0010\n",
      "Epoch 3/20000\n",
      "1901/1901 [==============================] - 3s 1ms/step - loss: 6.2032 - mae: 6.2032 - val_loss: 6.1523 - val_mae: 6.1523 - lr: 0.0010\n",
      "Epoch 4/20000\n",
      "1901/1901 [==============================] - 3s 1ms/step - loss: 5.9290 - mae: 5.9290 - val_loss: 5.9255 - val_mae: 5.9255 - lr: 0.0010\n",
      "Epoch 5/20000\n",
      "1901/1901 [==============================] - 3s 1ms/step - loss: 5.7422 - mae: 5.7422 - val_loss: 5.8198 - val_mae: 5.8198 - lr: 0.0010\n",
      "Epoch 6/20000\n",
      "1901/1901 [==============================] - 3s 1ms/step - loss: 5.6280 - mae: 5.6280 - val_loss: 5.6729 - val_mae: 5.6729 - lr: 0.0010\n",
      "Epoch 7/20000\n",
      "1901/1901 [==============================] - 3s 2ms/step - loss: 5.5294 - mae: 5.5294 - val_loss: 5.6412 - val_mae: 5.6412 - lr: 0.0010\n",
      "Epoch 8/20000\n",
      "1901/1901 [==============================] - 3s 1ms/step - loss: 5.4505 - mae: 5.4505 - val_loss: 5.5265 - val_mae: 5.5265 - lr: 0.0010\n",
      "Epoch 9/20000\n",
      "1901/1901 [==============================] - 3s 1ms/step - loss: 5.3944 - mae: 5.3944 - val_loss: 5.4557 - val_mae: 5.4557 - lr: 0.0010\n",
      "Epoch 10/20000\n",
      "1901/1901 [==============================] - 3s 1ms/step - loss: 5.3489 - mae: 5.3489 - val_loss: 5.4130 - val_mae: 5.4130 - lr: 0.0010\n",
      "Epoch 11/20000\n",
      "1901/1901 [==============================] - 3s 1ms/step - loss: 5.3180 - mae: 5.3180 - val_loss: 5.4334 - val_mae: 5.4334 - lr: 0.0010\n",
      "Epoch 12/20000\n",
      "1901/1901 [==============================] - 3s 1ms/step - loss: 5.2994 - mae: 5.2994 - val_loss: 5.4130 - val_mae: 5.4130 - lr: 0.0010\n",
      "Epoch 13/20000\n",
      "1901/1901 [==============================] - 3s 1ms/step - loss: 5.2888 - mae: 5.2888 - val_loss: 5.3841 - val_mae: 5.3841 - lr: 0.0010\n",
      "Epoch 14/20000\n",
      "1901/1901 [==============================] - 3s 1ms/step - loss: 5.2725 - mae: 5.2725 - val_loss: 5.3643 - val_mae: 5.3643 - lr: 0.0010\n",
      "Epoch 15/20000\n",
      "1901/1901 [==============================] - 3s 1ms/step - loss: 5.2623 - mae: 5.2623 - val_loss: 5.3352 - val_mae: 5.3352 - lr: 0.0010\n",
      "Epoch 16/20000\n",
      "1901/1901 [==============================] - 2s 1ms/step - loss: 5.2509 - mae: 5.2509 - val_loss: 5.3202 - val_mae: 5.3202 - lr: 0.0010\n",
      "Epoch 17/20000\n",
      "1901/1901 [==============================] - 3s 1ms/step - loss: 5.2341 - mae: 5.2341 - val_loss: 5.4026 - val_mae: 5.4026 - lr: 0.0010\n",
      "Epoch 18/20000\n",
      "1901/1901 [==============================] - 3s 1ms/step - loss: 5.2258 - mae: 5.2258 - val_loss: 5.3200 - val_mae: 5.3200 - lr: 0.0010\n",
      "Epoch 19/20000\n",
      "1901/1901 [==============================] - 3s 1ms/step - loss: 5.2073 - mae: 5.2073 - val_loss: 5.2807 - val_mae: 5.2807 - lr: 0.0010\n",
      "Epoch 20/20000\n",
      "1901/1901 [==============================] - 3s 1ms/step - loss: 5.1958 - mae: 5.1958 - val_loss: 5.2846 - val_mae: 5.2846 - lr: 0.0010\n",
      "Epoch 21/20000\n",
      "1901/1901 [==============================] - 3s 1ms/step - loss: 5.1803 - mae: 5.1803 - val_loss: 5.2696 - val_mae: 5.2696 - lr: 0.0010\n",
      "Epoch 22/20000\n",
      "1901/1901 [==============================] - 3s 1ms/step - loss: 5.1652 - mae: 5.1652 - val_loss: 5.2557 - val_mae: 5.2557 - lr: 0.0010\n",
      "Epoch 23/20000\n",
      "1901/1901 [==============================] - 3s 1ms/step - loss: 5.1527 - mae: 5.1527 - val_loss: 5.2204 - val_mae: 5.2204 - lr: 0.0010\n",
      "Epoch 24/20000\n",
      "1901/1901 [==============================] - 3s 1ms/step - loss: 5.1311 - mae: 5.1311 - val_loss: 5.2350 - val_mae: 5.2350 - lr: 0.0010\n",
      "Epoch 25/20000\n",
      "1901/1901 [==============================] - 3s 1ms/step - loss: 5.1168 - mae: 5.1168 - val_loss: 5.2322 - val_mae: 5.2322 - lr: 0.0010\n",
      "Epoch 26/20000\n",
      "1901/1901 [==============================] - 3s 1ms/step - loss: 5.1091 - mae: 5.1091 - val_loss: 5.1665 - val_mae: 5.1665 - lr: 0.0010\n",
      "Epoch 27/20000\n",
      "1901/1901 [==============================] - 2s 1ms/step - loss: 5.0826 - mae: 5.0826 - val_loss: 5.1701 - val_mae: 5.1701 - lr: 0.0010\n",
      "Epoch 28/20000\n",
      "1901/1901 [==============================] - 2s 1ms/step - loss: 5.0704 - mae: 5.0704 - val_loss: 5.1356 - val_mae: 5.1356 - lr: 0.0010\n",
      "Epoch 29/20000\n",
      "1901/1901 [==============================] - 3s 1ms/step - loss: 5.0486 - mae: 5.0486 - val_loss: 5.1555 - val_mae: 5.1555 - lr: 0.0010\n",
      "Epoch 30/20000\n",
      "1901/1901 [==============================] - 3s 1ms/step - loss: 5.0281 - mae: 5.0281 - val_loss: 5.1261 - val_mae: 5.1261 - lr: 0.0010\n",
      "Epoch 31/20000\n",
      "1901/1901 [==============================] - 2s 1ms/step - loss: 5.0082 - mae: 5.0082 - val_loss: 5.1105 - val_mae: 5.1105 - lr: 0.0010\n",
      "Epoch 32/20000\n",
      "1901/1901 [==============================] - 3s 1ms/step - loss: 4.9873 - mae: 4.9873 - val_loss: 5.0568 - val_mae: 5.0568 - lr: 0.0010\n",
      "Epoch 33/20000\n",
      "1901/1901 [==============================] - 3s 1ms/step - loss: 4.9674 - mae: 4.9674 - val_loss: 5.0380 - val_mae: 5.0380 - lr: 0.0010\n",
      "Epoch 34/20000\n",
      "1901/1901 [==============================] - 3s 1ms/step - loss: 4.9469 - mae: 4.9469 - val_loss: 5.0251 - val_mae: 5.0251 - lr: 0.0010\n",
      "Epoch 35/20000\n",
      "1901/1901 [==============================] - 3s 1ms/step - loss: 4.9286 - mae: 4.9286 - val_loss: 5.0115 - val_mae: 5.0115 - lr: 0.0010\n",
      "Epoch 36/20000\n",
      "1901/1901 [==============================] - 3s 1ms/step - loss: 4.9106 - mae: 4.9106 - val_loss: 5.1541 - val_mae: 5.1541 - lr: 0.0010\n",
      "Epoch 37/20000\n",
      "1901/1901 [==============================] - 3s 1ms/step - loss: 4.8958 - mae: 4.8958 - val_loss: 5.1154 - val_mae: 5.1154 - lr: 0.0010\n",
      "Epoch 38/20000\n",
      "1901/1901 [==============================] - 3s 1ms/step - loss: 4.8879 - mae: 4.8879 - val_loss: 4.9591 - val_mae: 4.9591 - lr: 0.0010\n",
      "Epoch 39/20000\n",
      "1901/1901 [==============================] - 3s 1ms/step - loss: 4.8882 - mae: 4.8882 - val_loss: 4.9879 - val_mae: 4.9879 - lr: 0.0010\n",
      "Epoch 40/20000\n",
      "1901/1901 [==============================] - 3s 1ms/step - loss: 4.8800 - mae: 4.8800 - val_loss: 4.9655 - val_mae: 4.9655 - lr: 0.0010\n",
      "Epoch 41/20000\n",
      "1901/1901 [==============================] - 3s 1ms/step - loss: 4.8715 - mae: 4.8715 - val_loss: 4.9501 - val_mae: 4.9501 - lr: 0.0010\n",
      "Epoch 42/20000\n",
      "1901/1901 [==============================] - 3s 1ms/step - loss: 4.8758 - mae: 4.8758 - val_loss: 5.0011 - val_mae: 5.0011 - lr: 0.0010\n",
      "Epoch 43/20000\n",
      "1901/1901 [==============================] - 3s 1ms/step - loss: 4.8630 - mae: 4.8630 - val_loss: 4.9857 - val_mae: 4.9857 - lr: 0.0010\n",
      "Epoch 44/20000\n",
      "1901/1901 [==============================] - 3s 2ms/step - loss: 4.8691 - mae: 4.8691 - val_loss: 4.9771 - val_mae: 4.9771 - lr: 0.0010\n",
      "Epoch 45/20000\n",
      "1901/1901 [==============================] - 3s 1ms/step - loss: 4.8598 - mae: 4.8598 - val_loss: 4.9423 - val_mae: 4.9423 - lr: 0.0010\n",
      "Epoch 46/20000\n",
      "1901/1901 [==============================] - 3s 1ms/step - loss: 4.8679 - mae: 4.8679 - val_loss: 4.9838 - val_mae: 4.9838 - lr: 0.0010\n",
      "Epoch 47/20000\n",
      "1901/1901 [==============================] - 3s 1ms/step - loss: 4.8644 - mae: 4.8644 - val_loss: 4.9740 - val_mae: 4.9740 - lr: 0.0010\n",
      "Epoch 48/20000\n",
      "1901/1901 [==============================] - 3s 1ms/step - loss: 4.8584 - mae: 4.8584 - val_loss: 4.9448 - val_mae: 4.9448 - lr: 0.0010\n",
      "Epoch 49/20000\n",
      "1901/1901 [==============================] - 3s 1ms/step - loss: 4.8671 - mae: 4.8671 - val_loss: 4.9625 - val_mae: 4.9625 - lr: 0.0010\n",
      "Epoch 50/20000\n",
      "1901/1901 [==============================] - 3s 1ms/step - loss: 4.8600 - mae: 4.8600 - val_loss: 4.9529 - val_mae: 4.9529 - lr: 0.0010\n",
      "Epoch 51/20000\n",
      "1901/1901 [==============================] - 3s 1ms/step - loss: 4.8676 - mae: 4.8676 - val_loss: 4.9529 - val_mae: 4.9529 - lr: 0.0010\n",
      "Epoch 52/20000\n",
      "1901/1901 [==============================] - 3s 1ms/step - loss: 4.8635 - mae: 4.8635 - val_loss: 4.9481 - val_mae: 4.9481 - lr: 0.0010\n",
      "Epoch 53/20000\n",
      "1901/1901 [==============================] - 3s 1ms/step - loss: 4.8645 - mae: 4.8645 - val_loss: 5.0521 - val_mae: 5.0521 - lr: 0.0010\n",
      "Epoch 54/20000\n",
      "1901/1901 [==============================] - 3s 1ms/step - loss: 4.8610 - mae: 4.8610 - val_loss: 4.9311 - val_mae: 4.9311 - lr: 0.0010\n",
      "Epoch 55/20000\n",
      "1901/1901 [==============================] - 3s 1ms/step - loss: 4.8610 - mae: 4.8610 - val_loss: 4.9535 - val_mae: 4.9535 - lr: 0.0010\n",
      "Epoch 56/20000\n",
      "1901/1901 [==============================] - 3s 1ms/step - loss: 4.8632 - mae: 4.8632 - val_loss: 5.0016 - val_mae: 5.0016 - lr: 0.0010\n",
      "Epoch 57/20000\n",
      "1901/1901 [==============================] - 3s 1ms/step - loss: 4.8626 - mae: 4.8626 - val_loss: 4.9936 - val_mae: 4.9936 - lr: 0.0010\n",
      "Epoch 58/20000\n",
      "1901/1901 [==============================] - 3s 1ms/step - loss: 4.8626 - mae: 4.8626 - val_loss: 4.9658 - val_mae: 4.9658 - lr: 0.0010\n",
      "Epoch 59/20000\n",
      "1901/1901 [==============================] - 3s 1ms/step - loss: 4.8641 - mae: 4.8641 - val_loss: 4.9419 - val_mae: 4.9419 - lr: 0.0010\n",
      "Epoch 60/20000\n",
      "1901/1901 [==============================] - 3s 1ms/step - loss: 4.8604 - mae: 4.8604 - val_loss: 4.9436 - val_mae: 4.9436 - lr: 0.0010\n",
      "Epoch 61/20000\n",
      "1901/1901 [==============================] - 3s 1ms/step - loss: 4.8626 - mae: 4.8626 - val_loss: 4.9777 - val_mae: 4.9777 - lr: 0.0010\n",
      "Epoch 62/20000\n",
      "1901/1901 [==============================] - 3s 1ms/step - loss: 4.8613 - mae: 4.8613 - val_loss: 4.9323 - val_mae: 4.9323 - lr: 0.0010\n",
      "Epoch 63/20000\n",
      "1901/1901 [==============================] - 3s 1ms/step - loss: 4.8654 - mae: 4.8654 - val_loss: 4.9500 - val_mae: 4.9500 - lr: 0.0010\n",
      "Epoch 64/20000\n",
      "1901/1901 [==============================] - 3s 1ms/step - loss: 4.8603 - mae: 4.8603 - val_loss: 4.9631 - val_mae: 4.9631 - lr: 0.0010\n",
      "Epoch 65/20000\n",
      "1901/1901 [==============================] - 3s 1ms/step - loss: 4.8607 - mae: 4.8607 - val_loss: 4.9432 - val_mae: 4.9432 - lr: 0.0010\n",
      "Epoch 66/20000\n",
      "1901/1901 [==============================] - 3s 1ms/step - loss: 4.8625 - mae: 4.8625 - val_loss: 4.9481 - val_mae: 4.9481 - lr: 0.0010\n",
      "Epoch 67/20000\n",
      "1901/1901 [==============================] - 3s 1ms/step - loss: 4.8648 - mae: 4.8648 - val_loss: 4.9423 - val_mae: 4.9423 - lr: 0.0010\n",
      "Epoch 68/20000\n",
      "1901/1901 [==============================] - 3s 1ms/step - loss: 4.8626 - mae: 4.8626 - val_loss: 4.9407 - val_mae: 4.9407 - lr: 0.0010\n",
      "Epoch 69/20000\n",
      "1901/1901 [==============================] - 3s 1ms/step - loss: 4.8648 - mae: 4.8648 - val_loss: 4.9590 - val_mae: 4.9590 - lr: 0.0010\n",
      "Epoch 70/20000\n",
      "1901/1901 [==============================] - 3s 1ms/step - loss: 4.8648 - mae: 4.8648 - val_loss: 5.1773 - val_mae: 5.1773 - lr: 0.0010\n",
      "Epoch 71/20000\n",
      "1901/1901 [==============================] - 3s 1ms/step - loss: 4.8632 - mae: 4.8632 - val_loss: 4.9455 - val_mae: 4.9455 - lr: 0.0010\n",
      "Epoch 72/20000\n",
      "1901/1901 [==============================] - 3s 1ms/step - loss: 4.8621 - mae: 4.8621 - val_loss: 4.9345 - val_mae: 4.9345 - lr: 0.0010\n",
      "Epoch 73/20000\n",
      "1901/1901 [==============================] - 3s 1ms/step - loss: 4.8622 - mae: 4.8622 - val_loss: 4.9451 - val_mae: 4.9451 - lr: 0.0010\n",
      "Epoch 74/20000\n",
      "1901/1901 [==============================] - 3s 1ms/step - loss: 4.8642 - mae: 4.8642 - val_loss: 4.9966 - val_mae: 4.9966 - lr: 0.0010\n"
     ]
    }
   ],
   "source": [
    "callbacks1 = tf.keras.callbacks.ReduceLROnPlateau(monitor='val_mae',\n",
    "                            factor=0.2,\n",
    "                            patience=5,\n",
    "                            mode=\"auto\",\n",
    "                            min_lr=0.001)\n",
    "callbacks2 = tf.keras.callbacks.EarlyStopping(monitor=\"val_mae\",\n",
    "                                              patience=20,\n",
    "                                              mode=\"auto\")\n",
    "history =  model.fit(x=x_train,\n",
    "                     y=y_train,\n",
    "                     epochs = 20000,\n",
    "                     batch_size=200,\n",
    "                     validation_data=(x_test, y_test),\n",
    "                     callbacks=[callbacks1,callbacks2])"
   ]
  },
  {
   "cell_type": "code",
   "execution_count": 14,
   "id": "fd9f2af9",
   "metadata": {},
   "outputs": [
    {
     "data": {
      "text/plain": [
       "dict_keys(['loss', 'mae', 'val_loss', 'val_mae', 'lr'])"
      ]
     },
     "execution_count": 14,
     "metadata": {},
     "output_type": "execute_result"
    }
   ],
   "source": [
    "history_dict = history.history\n",
    "history_dict.keys()"
   ]
  },
  {
   "cell_type": "code",
   "execution_count": 20,
   "id": "de1b9df5",
   "metadata": {},
   "outputs": [
    {
     "data": {
      "image/png": "[encoded data removed]",
      "text/plain": [
       "<Figure size 1200x800 with 1 Axes>"
      ]
     },
     "metadata": {},
     "output_type": "display_data"
    }
   ],
   "source": [
    "mae = history_dict['mae']\n",
    "val_mse = history_dict['val_mae']\n",
    "epochs = range(1, len(mae) + 1)\n",
    "\n",
    "plt.rcParams[\"font.size\"] = 15\n",
    "plt.figure(figsize=(12, 8))\n",
    "plt.plot(epochs, mae, label='mae')\n",
    "plt.plot(epochs, val_mse, label='val_mae')\n",
    "plt.xlabel(\"epochs\",fontsize=20)\n",
    "plt.ylabel(\"error\",fontsize=20)\n",
    "plt.ylim((0,10))\n",
    "plt.legend(loc = 'best',fontsize=20)\n",
    "#plt.savefig('mae_transition.png')\n",
    "plt.show()"
   ]
  },
  {
   "cell_type": "code",
   "execution_count": 16,
   "id": "8cc8a390",
   "metadata": {},
   "outputs": [
    {
     "name": "stdout",
     "output_type": "stream",
     "text": [
      "13200/13200 [==============================] - 8s 604us/step\n",
      "MAPE: 46.114471435546875%\n"
     ]
    }
   ],
   "source": [
    "import tensorflow as tf\n",
    "\n",
    "# MAPEを計算する関数を定義\n",
    "def mean_absolute_percentage_error(y_true, y_pred):\n",
    "    epsilon = 1e-10  # ゼロで割ることを避けるための小さな値\n",
    "    percentage_error = tf.abs((y_true - y_pred) / (tf.maximum(tf.abs(y_true), epsilon)))\n",
    "    mape = tf.reduce_mean(percentage_error) * 100.0\n",
    "    return mape\n",
    "\n",
    "df7 = model.predict(df_input)\n",
    "# MAPEを計算\n",
    "df7 = pd.DataFrame(df7)\n",
    "df8 = pd.concat([pd.DataFrame(df_output),df7], axis=1)\n",
    "\n",
    "y_true = tf.constant(df8.iloc[:, 0].values, dtype=tf.float32)\n",
    "y_pred = tf.constant(df8.iloc[:, 1].values, dtype=tf.float32)\n",
    "mape_value = mean_absolute_percentage_error(y_true,y_pred)\n",
    "\n",
    "# 結果を表示\n",
    "print(f\"MAPE: {mape_value.numpy()}%\")"
   ]
  },
  {
   "cell_type": "code",
   "execution_count": 17,
   "id": "c937eb63",
   "metadata": {},
   "outputs": [],
   "source": [
    "weights = [com.get_weights() for com in model.layers[0:]] \n",
    "model.layers[0].set_weights(weights[0])\n",
    "model.layers[1].set_weights(weights[1])\n",
    "model.layers[2].set_weights(weights[2])"
   ]
  },
  {
   "cell_type": "code",
   "execution_count": 18,
   "id": "ce774755",
   "metadata": {},
   "outputs": [
    {
     "name": "stdout",
     "output_type": "stream",
     "text": [
      "INFO:tensorflow:Assets written to: i_predict CD_segment\\assets\n"
     ]
    }
   ],
   "source": [
    "model.save('i_predict CD_segment')"
   ]
  }
 ],
 "metadata": {
  "kernelspec": {
   "display_name": "Python 3 (ipykernel)",
   "language": "python",
   "name": "python3"
  },
  "language_info": {
   "codemirror_mode": {
    "name": "ipython",
    "version": 3
   },
   "file_extension": ".py",
   "mimetype": "text/x-python",
   "name": "python",
   "nbconvert_exporter": "python",
   "pygments_lexer": "ipython3",
   "version": "3.9.18"
  }
 },
 "nbformat": 4,
 "nbformat_minor": 5
}
