{
 "cells": [
  {
   "cell_type": "code",
   "execution_count": 3,
   "metadata": {},
   "outputs": [],
   "source": [
    "import pandas as pd\n",
    "import numpy as np\n",
    "from scipy import stats\n",
    "import matplotlib.pyplot as plt\n",
    "import seaborn as sns  "
   ]
  },
  {
   "cell_type": "code",
   "execution_count": 13,
   "metadata": {},
   "outputs": [
    {
     "name": "stdout",
     "output_type": "stream",
     "text": [
      "   Index  V_cell       P_b  T_cell  stoichi_anode  stoichi_cathode\n",
      "0      1     1.0  101330.0  373.15            1.5              2.0\n"
     ]
    }
   ],
   "source": [
    "# CSVファイルのパス\n",
    "file_path = \"/Users/user/Desktop/Oka/ML-data/24-3-21/currentdensity_ave_W0.4_D0.4\"\n",
    "\n",
    "with open(file_path, 'r') as file:\n",
    "    lines = file.readlines()\n",
    "\n",
    "# データを保持するためのリストを初期化\n",
    "data = {\n",
    "    'Index': [],\n",
    "    'V_cell': [],\n",
    "    'P_b': [],\n",
    "    'T_cell': [],\n",
    "    'stoichi_anode': [],\n",
    "    'stoichi_cathode': []\n",
    "}\n",
    "\n",
    "# データを抽出してリストに追加\n",
    "for line in lines:\n",
    "    if line.startswith('% cd.IlMag'): #'% cd.IlMag'で始まる行だけTrue、つまり処理が行われる\n",
    "        parts = line.split(':')\n",
    "        index = int(parts[0].split('@')[1].strip())\n",
    "        data['Index'].append(index)\n",
    "        \n",
    "        values = parts[1].strip().split(',')\n",
    "        data['V_cell'].append(float(values[0].split('=')[1].strip().split(' ')[0]))\n",
    "        data['P_b'].append(float(values[1].split('=')[1].strip().split(' ')[0]))\n",
    "        data['T_cell'].append(float(values[2].split('=')[1].strip().split(' ')[0]))\n",
    "        data['stoichi_anode'].append(float(values[3].split('=')[1].strip()))\n",
    "        data['stoichi_cathode'].append(float(values[4].split('=')[1].strip().split(' ')[0]))\n",
    "\n",
    "# データフレームに変換\n",
    "df = pd.DataFrame(data)\n",
    "\n",
    "# データフレームを表示\n",
    "print(df)\n"
   ]
  },
  {
   "cell_type": "code",
   "execution_count": 9,
   "metadata": {},
   "outputs": [
    {
     "name": "stdout",
     "output_type": "stream",
     "text": [
      " stoichi_cathode=2 cd.IlMag (A/m^2) @ 2\n"
     ]
    }
   ],
   "source": [
    "print(values[4])\n"
   ]
  }
 ],
 "metadata": {
  "kernelspec": {
   "display_name": "OKA",
   "language": "python",
   "name": "python3"
  },
  "language_info": {
   "codemirror_mode": {
    "name": "ipython",
    "version": 3
   },
   "file_extension": ".py",
   "mimetype": "text/x-python",
   "name": "python",
   "nbconvert_exporter": "python",
   "pygments_lexer": "ipython3",
   "version": "3.9.18"
  }
 },
 "nbformat": 4,
 "nbformat_minor": 2
}
