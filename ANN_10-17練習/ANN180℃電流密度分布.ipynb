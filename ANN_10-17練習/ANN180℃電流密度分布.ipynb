{
 "cells": [
  {
   "cell_type": "code",
   "execution_count": 15,
   "id": "ce7824c4",
   "metadata": {},
   "outputs": [],
   "source": [
    "import warnings\n",
    "warnings.simplefilter('ignore', FutureWarning)"
   ]
  },
  {
   "cell_type": "code",
   "execution_count": 16,
   "id": "eab3a947",
   "metadata": {},
   "outputs": [],
   "source": [
    "import tensorflow as tf\n",
    "import numpy as np\n",
    "import matplotlib.pyplot as plt\n",
    "import pandas as pd\n",
    "import sklearn"
   ]
  },
  {
   "cell_type": "code",
   "execution_count": 17,
   "id": "5753432b",
   "metadata": {},
   "outputs": [],
   "source": [
    "from tensorflow.keras import models\n",
    "from tensorflow.keras import layers\n",
    "from sklearn.model_selection import train_test_split"
   ]
  },
  {
   "cell_type": "code",
   "execution_count": 31,
   "id": "61385086",
   "metadata": {},
   "outputs": [],
   "source": [
    "df_input = pd.read_csv('current density 180℃ 0.4-0.9V_std', usecols=[1,2,3])"
   ]
  },
  {
   "cell_type": "code",
   "execution_count": 32,
   "id": "bee2e1cb",
   "metadata": {},
   "outputs": [],
   "source": [
    "df_output = pd. read_csv('current density 180℃ 0.4-0.9V_std', usecols=[4])"
   ]
  },
  {
   "cell_type": "code",
   "execution_count": 33,
   "id": "6aa258fc",
   "metadata": {},
   "outputs": [
    {
     "data": {
      "text/plain": [
       "(13002, 3)"
      ]
     },
     "execution_count": 33,
     "metadata": {},
     "output_type": "execute_result"
    }
   ],
   "source": [
    "df_input.shape"
   ]
  },
  {
   "cell_type": "code",
   "execution_count": 34,
   "id": "0c9360c2",
   "metadata": {},
   "outputs": [
    {
     "data": {
      "text/plain": [
       "(13002, 1)"
      ]
     },
     "execution_count": 34,
     "metadata": {},
     "output_type": "execute_result"
    }
   ],
   "source": [
    "df_output.shape"
   ]
  },
  {
   "cell_type": "code",
   "execution_count": 35,
   "id": "67c463de",
   "metadata": {},
   "outputs": [],
   "source": [
    "x_train, x_test, y_train, y_test = train_test_split(df_input, df_output, test_size=0.1, random_state=0)"
   ]
  },
  {
   "cell_type": "code",
   "execution_count": 36,
   "id": "9b16ab26",
   "metadata": {},
   "outputs": [
    {
     "name": "stdout",
     "output_type": "stream",
     "text": [
      "(11701, 3) (1301, 3)\n"
     ]
    }
   ],
   "source": [
    "print(x_train.shape,x_test.shape)"
   ]
  },
  {
   "cell_type": "code",
   "execution_count": 37,
   "id": "e2036ac2",
   "metadata": {},
   "outputs": [
    {
     "data": {
      "text/html": [
       "<div>\n",
       "<style scoped>\n",
       "    .dataframe tbody tr th:only-of-type {\n",
       "        vertical-align: middle;\n",
       "    }\n",
       "\n",
       "    .dataframe tbody tr th {\n",
       "        vertical-align: top;\n",
       "    }\n",
       "\n",
       "    .dataframe thead th {\n",
       "        text-align: right;\n",
       "    }\n",
       "</style>\n",
       "<table border=\"1\" class=\"dataframe\">\n",
       "  <thead>\n",
       "    <tr style=\"text-align: right;\">\n",
       "      <th></th>\n",
       "      <th>x座標</th>\n",
       "      <th>y座標</th>\n",
       "      <th>V[V]</th>\n",
       "    </tr>\n",
       "  </thead>\n",
       "  <tbody>\n",
       "    <tr>\n",
       "      <th>8980</th>\n",
       "      <td>0.913067</td>\n",
       "      <td>0.898794</td>\n",
       "      <td>0.702301</td>\n",
       "    </tr>\n",
       "    <tr>\n",
       "      <th>8464</th>\n",
       "      <td>0.976629</td>\n",
       "      <td>0.814851</td>\n",
       "      <td>0.702301</td>\n",
       "    </tr>\n",
       "    <tr>\n",
       "      <th>600</th>\n",
       "      <td>1.595340</td>\n",
       "      <td>0.594697</td>\n",
       "      <td>-1.792252</td>\n",
       "    </tr>\n",
       "    <tr>\n",
       "      <th>11928</th>\n",
       "      <td>1.168179</td>\n",
       "      <td>-0.755643</td>\n",
       "      <td>1.325939</td>\n",
       "    </tr>\n",
       "    <tr>\n",
       "      <th>1817</th>\n",
       "      <td>-1.370605</td>\n",
       "      <td>-1.188533</td>\n",
       "      <td>-1.168614</td>\n",
       "    </tr>\n",
       "    <tr>\n",
       "      <th>...</th>\n",
       "      <td>...</td>\n",
       "      <td>...</td>\n",
       "      <td>...</td>\n",
       "    </tr>\n",
       "    <tr>\n",
       "      <th>4859</th>\n",
       "      <td>1.043657</td>\n",
       "      <td>-0.143180</td>\n",
       "      <td>-0.233157</td>\n",
       "    </tr>\n",
       "    <tr>\n",
       "      <th>3264</th>\n",
       "      <td>-0.773090</td>\n",
       "      <td>0.284882</td>\n",
       "      <td>-0.856795</td>\n",
       "    </tr>\n",
       "    <tr>\n",
       "      <th>9845</th>\n",
       "      <td>-0.500180</td>\n",
       "      <td>-0.764206</td>\n",
       "      <td>1.014120</td>\n",
       "    </tr>\n",
       "    <tr>\n",
       "      <th>10799</th>\n",
       "      <td>-1.575116</td>\n",
       "      <td>1.220780</td>\n",
       "      <td>1.014120</td>\n",
       "    </tr>\n",
       "    <tr>\n",
       "      <th>2732</th>\n",
       "      <td>0.497867</td>\n",
       "      <td>1.380229</td>\n",
       "      <td>-0.856795</td>\n",
       "    </tr>\n",
       "  </tbody>\n",
       "</table>\n",
       "<p>11701 rows × 3 columns</p>\n",
       "</div>"
      ],
      "text/plain": [
       "            x座標       y座標      V[V]\n",
       "8980   0.913067  0.898794  0.702301\n",
       "8464   0.976629  0.814851  0.702301\n",
       "600    1.595340  0.594697 -1.792252\n",
       "11928  1.168179 -0.755643  1.325939\n",
       "1817  -1.370605 -1.188533 -1.168614\n",
       "...         ...       ...       ...\n",
       "4859   1.043657 -0.143180 -0.233157\n",
       "3264  -0.773090  0.284882 -0.856795\n",
       "9845  -0.500180 -0.764206  1.014120\n",
       "10799 -1.575116  1.220780  1.014120\n",
       "2732   0.497867  1.380229 -0.856795\n",
       "\n",
       "[11701 rows x 3 columns]"
      ]
     },
     "execution_count": 37,
     "metadata": {},
     "output_type": "execute_result"
    }
   ],
   "source": [
    "x_train"
   ]
  },
  {
   "cell_type": "code",
   "execution_count": 38,
   "id": "5f2b908c",
   "metadata": {},
   "outputs": [
    {
     "data": {
      "text/html": [
       "<div>\n",
       "<style scoped>\n",
       "    .dataframe tbody tr th:only-of-type {\n",
       "        vertical-align: middle;\n",
       "    }\n",
       "\n",
       "    .dataframe tbody tr th {\n",
       "        vertical-align: top;\n",
       "    }\n",
       "\n",
       "    .dataframe thead th {\n",
       "        text-align: right;\n",
       "    }\n",
       "</style>\n",
       "<table border=\"1\" class=\"dataframe\">\n",
       "  <thead>\n",
       "    <tr style=\"text-align: right;\">\n",
       "      <th></th>\n",
       "      <th>i[A/m^2]</th>\n",
       "    </tr>\n",
       "  </thead>\n",
       "  <tbody>\n",
       "    <tr>\n",
       "      <th>8980</th>\n",
       "      <td>-0.619500</td>\n",
       "    </tr>\n",
       "    <tr>\n",
       "      <th>8464</th>\n",
       "      <td>-0.804112</td>\n",
       "    </tr>\n",
       "    <tr>\n",
       "      <th>600</th>\n",
       "      <td>2.158022</td>\n",
       "    </tr>\n",
       "    <tr>\n",
       "      <th>11928</th>\n",
       "      <td>-1.220325</td>\n",
       "    </tr>\n",
       "    <tr>\n",
       "      <th>1817</th>\n",
       "      <td>1.629995</td>\n",
       "    </tr>\n",
       "    <tr>\n",
       "      <th>...</th>\n",
       "      <td>...</td>\n",
       "    </tr>\n",
       "    <tr>\n",
       "      <th>4859</th>\n",
       "      <td>-0.122709</td>\n",
       "    </tr>\n",
       "    <tr>\n",
       "      <th>3264</th>\n",
       "      <td>1.125626</td>\n",
       "    </tr>\n",
       "    <tr>\n",
       "      <th>9845</th>\n",
       "      <td>-1.023851</td>\n",
       "    </tr>\n",
       "    <tr>\n",
       "      <th>10799</th>\n",
       "      <td>-0.896908</td>\n",
       "    </tr>\n",
       "    <tr>\n",
       "      <th>2732</th>\n",
       "      <td>0.210646</td>\n",
       "    </tr>\n",
       "  </tbody>\n",
       "</table>\n",
       "<p>11701 rows × 1 columns</p>\n",
       "</div>"
      ],
      "text/plain": [
       "       i[A/m^2]\n",
       "8980  -0.619500\n",
       "8464  -0.804112\n",
       "600    2.158022\n",
       "11928 -1.220325\n",
       "1817   1.629995\n",
       "...         ...\n",
       "4859  -0.122709\n",
       "3264   1.125626\n",
       "9845  -1.023851\n",
       "10799 -0.896908\n",
       "2732   0.210646\n",
       "\n",
       "[11701 rows x 1 columns]"
      ]
     },
     "execution_count": 38,
     "metadata": {},
     "output_type": "execute_result"
    }
   ],
   "source": [
    "y_train"
   ]
  },
  {
   "cell_type": "code",
   "execution_count": 46,
   "id": "e8453f27",
   "metadata": {},
   "outputs": [],
   "source": [
    "from tensorflow.keras.models import Sequential\n",
    "from tensorflow.keras.layers import Dense, Activation\n",
    "from tensorflow.keras import regularizers, initializers\n",
    "\n",
    "weights = [com.get_weights() for com in model.layers[0:]]  #重さを抽出（※始めに回すときだけ下の行と入れ替える）\n",
    "model = Sequential()\n",
    "\n",
    "\n",
    "\n",
    "model.add(Dense(units=32, input_shape=(3,), activation='tanh'))  \n",
    "model.add(Dense(units=10, activation='tanh'))  #xとyが-1～1なのでtanh\n",
    "model.add(Dense(units=10, activation='tanh'))\n",
    "model.add(Dense(units=1, activation='linear'))  #隠れ層3層でやってみる\n",
    "\n",
    "model.compile(loss='mean_squared_error',    #出力は連続値なので平均二乗誤差\n",
    "              optimizer='adam',             #とりあえずadamで\n",
    "              metrics=['mse'])"
   ]
  },
  {
   "cell_type": "code",
   "execution_count": 47,
   "id": "232c27be",
   "metadata": {},
   "outputs": [
    {
     "name": "stdout",
     "output_type": "stream",
     "text": [
      "Train on 11701 samples, validate on 1301 samples\n",
      "Epoch 1/20\n",
      "11701/11701 [==============================] - 1s 54us/sample - loss: 0.2345 - mse: 0.2345 - val_loss: 0.1184 - val_mse: 0.1184\n",
      "Epoch 2/20\n",
      "11701/11701 [==============================] - 0s 10us/sample - loss: 0.1223 - mse: 0.1223 - val_loss: 0.1131 - val_mse: 0.1131\n",
      "Epoch 3/20\n",
      "11701/11701 [==============================] - 0s 10us/sample - loss: 0.1185 - mse: 0.1185 - val_loss: 0.1110 - val_mse: 0.1110\n",
      "Epoch 4/20\n",
      "11701/11701 [==============================] - 0s 11us/sample - loss: 0.1162 - mse: 0.1162 - val_loss: 0.1096 - val_mse: 0.1096\n",
      "Epoch 5/20\n",
      "11701/11701 [==============================] - 0s 10us/sample - loss: 0.1147 - mse: 0.1147 - val_loss: 0.1085 - val_mse: 0.1085\n",
      "Epoch 6/20\n",
      "11701/11701 [==============================] - 0s 11us/sample - loss: 0.1134 - mse: 0.1134 - val_loss: 0.1056 - val_mse: 0.1056\n",
      "Epoch 7/20\n",
      "11701/11701 [==============================] - 0s 11us/sample - loss: 0.1124 - mse: 0.1124 - val_loss: 0.1054 - val_mse: 0.1054\n",
      "Epoch 8/20\n",
      "11701/11701 [==============================] - 0s 10us/sample - loss: 0.1114 - mse: 0.1114 - val_loss: 0.1040 - val_mse: 0.1040\n",
      "Epoch 9/20\n",
      "11701/11701 [==============================] - 0s 11us/sample - loss: 0.1108 - mse: 0.1108 - val_loss: 0.1042 - val_mse: 0.1042\n",
      "Epoch 10/20\n",
      "11701/11701 [==============================] - 0s 11us/sample - loss: 0.1101 - mse: 0.1101 - val_loss: 0.1026 - val_mse: 0.1026\n",
      "Epoch 11/20\n",
      "11701/11701 [==============================] - 0s 11us/sample - loss: 0.1100 - mse: 0.1100 - val_loss: 0.1033 - val_mse: 0.1033\n",
      "Epoch 12/20\n",
      "11701/11701 [==============================] - 0s 11us/sample - loss: 0.1094 - mse: 0.1094 - val_loss: 0.1019 - val_mse: 0.1019\n",
      "Epoch 13/20\n",
      "11701/11701 [==============================] - 0s 11us/sample - loss: 0.1093 - mse: 0.1093 - val_loss: 0.1014 - val_mse: 0.1014\n",
      "Epoch 14/20\n",
      "11701/11701 [==============================] - 0s 11us/sample - loss: 0.1086 - mse: 0.1086 - val_loss: 0.1016 - val_mse: 0.1016\n",
      "Epoch 15/20\n",
      "11701/11701 [==============================] - 0s 11us/sample - loss: 0.1086 - mse: 0.1086 - val_loss: 0.1014 - val_mse: 0.1014\n",
      "Epoch 16/20\n",
      "11701/11701 [==============================] - 0s 11us/sample - loss: 0.1090 - mse: 0.1090 - val_loss: 0.1004 - val_mse: 0.1004\n",
      "Epoch 17/20\n",
      "11701/11701 [==============================] - 0s 11us/sample - loss: 0.1082 - mse: 0.1082 - val_loss: 0.1007 - val_mse: 0.1007\n",
      "Epoch 18/20\n",
      "11701/11701 [==============================] - 0s 11us/sample - loss: 0.1080 - mse: 0.1080 - val_loss: 0.1012 - val_mse: 0.1012\n",
      "Epoch 19/20\n",
      "11701/11701 [==============================] - 0s 11us/sample - loss: 0.1077 - mse: 0.1077 - val_loss: 0.1008 - val_mse: 0.1008\n",
      "Epoch 20/20\n",
      "11701/11701 [==============================] - 0s 11us/sample - loss: 0.1077 - mse: 0.1077 - val_loss: 0.1010 - val_mse: 0.1010\n"
     ]
    }
   ],
   "source": [
    "history = model.fit(x=x_train,\n",
    "                     y=y_train,\n",
    "                     epochs=20,\n",
    "                     batch_size=200,\n",
    "                     verbose=1,\n",
    "                     validation_data=(x_test, y_test))"
   ]
  },
  {
   "cell_type": "code",
   "execution_count": 48,
   "id": "fd9f2af9",
   "metadata": {},
   "outputs": [
    {
     "data": {
      "text/plain": [
       "dict_keys(['loss', 'mse', 'val_loss', 'val_mse'])"
      ]
     },
     "execution_count": 48,
     "metadata": {},
     "output_type": "execute_result"
    }
   ],
   "source": [
    "history_dict = history.history\n",
    "history_dict.keys()"
   ]
  },
  {
   "cell_type": "code",
   "execution_count": 49,
   "id": "dc9f31d6",
   "metadata": {},
   "outputs": [
    {
     "data": {
      "image/png": "[encoded data removed]",
      "text/plain": [
       "<Figure size 864x576 with 1 Axes>"
      ]
     },
     "metadata": {
      "needs_background": "light"
     },
     "output_type": "display_data"
    }
   ],
   "source": [
    "mse = history_dict['mse']\n",
    "val_mse = history_dict['val_mse']\n",
    "epochs = range(1, len(mse) + 1)\n",
    "\n",
    "plt.figure(figsize=(12, 8))\n",
    "plt.plot(epochs, mse, label='mse')\n",
    "plt.plot(epochs, val_mse, label='val_mse')\n",
    "plt.ylim((0,0.2))\n",
    "plt.legend(loc = 'best')\n",
    "plt.show()"
   ]
  },
  {
   "cell_type": "code",
   "execution_count": 51,
   "id": "c937eb63",
   "metadata": {},
   "outputs": [],
   "source": [
    "model.layers[0].set_weights(weights[0])\n",
    "model.layers[1].set_weights(weights[1])\n",
    "model.layers[2].set_weights(weights[2])"
   ]
  },
  {
   "cell_type": "code",
   "execution_count": 52,
   "id": "ce774755",
   "metadata": {},
   "outputs": [
    {
     "name": "stdout",
     "output_type": "stream",
     "text": [
      "WARNING:tensorflow:From C:\\Users\\aruhy\\anaconda3\\envs\\Tensorflow\\lib\\site-packages\\tensorflow_core\\python\\ops\\resource_variable_ops.py:1786: calling BaseResourceVariable.__init__ (from tensorflow.python.ops.resource_variable_ops) with constraint is deprecated and will be removed in a future version.\n",
      "Instructions for updating:\n",
      "If using Keras pass *_constraint arguments to layers.\n",
      "INFO:tensorflow:Assets written to: i_predict 180℃\\assets\n"
     ]
    }
   ],
   "source": [
    "model.save('i_predict 180℃')"
   ]
  },
  {
   "cell_type": "code",
   "execution_count": null,
   "id": "4d875e51",
   "metadata": {},
   "outputs": [],
   "source": []
  }
 ],
 "metadata": {
  "kernelspec": {
   "display_name": "Python 3",
   "language": "python",
   "name": "python3"
  },
  "language_info": {
   "codemirror_mode": {
    "name": "ipython",
    "version": 3
   },
   "file_extension": ".py",
   "mimetype": "text/x-python",
   "name": "python",
   "nbconvert_exporter": "python",
   "pygments_lexer": "ipython3",
   "version": "3.6.13"
  }
 },
 "nbformat": 4,
 "nbformat_minor": 5
}
