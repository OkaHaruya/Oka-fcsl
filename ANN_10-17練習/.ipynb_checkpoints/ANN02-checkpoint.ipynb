{
 "cells": [
  {
   "cell_type": "code",
   "execution_count": 1,
   "id": "ce7824c4",
   "metadata": {},
   "outputs": [],
   "source": [
    "import warnings\n",
    "warnings.simplefilter('ignore', FutureWarning)"
   ]
  },
  {
   "cell_type": "code",
   "execution_count": 2,
   "id": "eab3a947",
   "metadata": {},
   "outputs": [],
   "source": [
    "import tensorflow as tf\n",
    "import numpy as np\n",
    "import matplotlib.pyplot as plt\n",
    "import pandas as pd\n",
    "import sklearn"
   ]
  },
  {
   "cell_type": "code",
   "execution_count": 3,
   "id": "cd0385a8",
   "metadata": {},
   "outputs": [
    {
     "name": "stdout",
     "output_type": "stream",
     "text": [
      "2.1.0\n"
     ]
    }
   ],
   "source": [
    "print(tf.__version__)"
   ]
  },
  {
   "cell_type": "code",
   "execution_count": 4,
   "id": "5753432b",
   "metadata": {},
   "outputs": [],
   "source": [
    "from tensorflow.keras import models\n",
    "from tensorflow.keras import layers\n",
    "from sklearn.model_selection import train_test_split"
   ]
  },
  {
   "cell_type": "code",
   "execution_count": 5,
   "id": "61385086",
   "metadata": {},
   "outputs": [],
   "source": [
    "df_input = pd.read_csv('current density 0.4-0.4V', usecols=[1,2,3])"
   ]
  },
  {
   "cell_type": "code",
   "execution_count": 6,
   "id": "bee2e1cb",
   "metadata": {},
   "outputs": [],
   "source": [
    "df_output = pd. read_csv('current density 0.4-0.4V', usecols=[4])"
   ]
  },
  {
   "cell_type": "code",
   "execution_count": 7,
   "id": "6aa258fc",
   "metadata": {},
   "outputs": [
    {
     "data": {
      "text/plain": [
       "(2451, 3)"
      ]
     },
     "execution_count": 7,
     "metadata": {},
     "output_type": "execute_result"
    }
   ],
   "source": [
    "df_input.shape"
   ]
  },
  {
   "cell_type": "code",
   "execution_count": 8,
   "id": "0c9360c2",
   "metadata": {},
   "outputs": [
    {
     "data": {
      "text/plain": [
       "(2451, 1)"
      ]
     },
     "execution_count": 8,
     "metadata": {},
     "output_type": "execute_result"
    }
   ],
   "source": [
    "df_output.shape"
   ]
  },
  {
   "cell_type": "code",
   "execution_count": 9,
   "id": "67c463de",
   "metadata": {},
   "outputs": [],
   "source": [
    "x_train, x_test, y_train, y_test = train_test_split(df_input, df_output, test_size=0.1, random_state=0)"
   ]
  },
  {
   "cell_type": "code",
   "execution_count": 107,
   "id": "9b16ab26",
   "metadata": {},
   "outputs": [
    {
     "name": "stdout",
     "output_type": "stream",
     "text": [
      "(28472, 3) (3164, 3)\n"
     ]
    }
   ],
   "source": [
    "print(x_train.shape,x_test.shape)"
   ]
  },
  {
   "cell_type": "code",
   "execution_count": 108,
   "id": "e2036ac2",
   "metadata": {},
   "outputs": [
    {
     "data": {
      "text/html": [
       "<div>\n",
       "<style scoped>\n",
       "    .dataframe tbody tr th:only-of-type {\n",
       "        vertical-align: middle;\n",
       "    }\n",
       "\n",
       "    .dataframe tbody tr th {\n",
       "        vertical-align: top;\n",
       "    }\n",
       "\n",
       "    .dataframe thead th {\n",
       "        text-align: right;\n",
       "    }\n",
       "</style>\n",
       "<table border=\"1\" class=\"dataframe\">\n",
       "  <thead>\n",
       "    <tr style=\"text-align: right;\">\n",
       "      <th></th>\n",
       "      <th>x座標</th>\n",
       "      <th>y座標</th>\n",
       "      <th>V[V]</th>\n",
       "    </tr>\n",
       "  </thead>\n",
       "  <tbody>\n",
       "    <tr>\n",
       "      <th>17676</th>\n",
       "      <td>0.000204</td>\n",
       "      <td>0.006760</td>\n",
       "      <td>0.70</td>\n",
       "    </tr>\n",
       "    <tr>\n",
       "      <th>30131</th>\n",
       "      <td>0.000287</td>\n",
       "      <td>0.000788</td>\n",
       "      <td>0.90</td>\n",
       "    </tr>\n",
       "    <tr>\n",
       "      <th>11031</th>\n",
       "      <td>0.000602</td>\n",
       "      <td>0.007639</td>\n",
       "      <td>0.60</td>\n",
       "    </tr>\n",
       "    <tr>\n",
       "      <th>6840</th>\n",
       "      <td>0.000380</td>\n",
       "      <td>0.005122</td>\n",
       "      <td>0.45</td>\n",
       "    </tr>\n",
       "    <tr>\n",
       "      <th>29412</th>\n",
       "      <td>0.000540</td>\n",
       "      <td>0.001970</td>\n",
       "      <td>0.90</td>\n",
       "    </tr>\n",
       "    <tr>\n",
       "      <th>...</th>\n",
       "      <td>...</td>\n",
       "      <td>...</td>\n",
       "      <td>...</td>\n",
       "    </tr>\n",
       "    <tr>\n",
       "      <th>13123</th>\n",
       "      <td>0.000100</td>\n",
       "      <td>0.000319</td>\n",
       "      <td>0.60</td>\n",
       "    </tr>\n",
       "    <tr>\n",
       "      <th>19648</th>\n",
       "      <td>0.000427</td>\n",
       "      <td>0.004137</td>\n",
       "      <td>0.75</td>\n",
       "    </tr>\n",
       "    <tr>\n",
       "      <th>9845</th>\n",
       "      <td>0.000285</td>\n",
       "      <td>0.005713</td>\n",
       "      <td>0.55</td>\n",
       "    </tr>\n",
       "    <tr>\n",
       "      <th>10799</th>\n",
       "      <td>0.000655</td>\n",
       "      <td>0.009977</td>\n",
       "      <td>0.60</td>\n",
       "    </tr>\n",
       "    <tr>\n",
       "      <th>2732</th>\n",
       "      <td>0.000492</td>\n",
       "      <td>0.009850</td>\n",
       "      <td>0.50</td>\n",
       "    </tr>\n",
       "  </tbody>\n",
       "</table>\n",
       "<p>28472 rows × 3 columns</p>\n",
       "</div>"
      ],
      "text/plain": [
       "            x座標       y座標  V[V]\n",
       "17676  0.000204  0.006760  0.70\n",
       "30131  0.000287  0.000788  0.90\n",
       "11031  0.000602  0.007639  0.60\n",
       "6840   0.000380  0.005122  0.45\n",
       "29412  0.000540  0.001970  0.90\n",
       "...         ...       ...   ...\n",
       "13123  0.000100  0.000319  0.60\n",
       "19648  0.000427  0.004137  0.75\n",
       "9845   0.000285  0.005713  0.55\n",
       "10799  0.000655  0.009977  0.60\n",
       "2732   0.000492  0.009850  0.50\n",
       "\n",
       "[28472 rows x 3 columns]"
      ]
     },
     "execution_count": 108,
     "metadata": {},
     "output_type": "execute_result"
    }
   ],
   "source": [
    "x_train"
   ]
  },
  {
   "cell_type": "code",
   "execution_count": 109,
   "id": "f851e7e4",
   "metadata": {},
   "outputs": [],
   "source": [
    "from tensorflow.keras.models import Sequential\n",
    "from tensorflow.keras.layers import Dense, Activation\n",
    "from tensorflow.keras import regularizers, initializers\n",
    "model = Sequential()\n",
    "\n",
    "model.add(Dense(units=10, input_shape=(3,), activation='relu', kernel_initializer='he_normal'))  \n",
    "model.add(Dense(units=10, activation='relu', kernel_regularizer=regularizers.l2(0.01), kernel_initializer='he_normal'))  #L2正則化\n",
    "model.add(Dense(units=10, activation='relu', kernel_regularizer=regularizers.l2(0.01), kernel_initializer='he_normal'))\n",
    "model.add(Dense(units=1, activation='linear', kernel_regularizer=regularizers.l2(0.01), kernel_initializer='he_normal'))  #隠れ層3層でやってみる\n",
    "\n",
    "model.compile(loss='mean_squared_error',    #出力は連続値なので平均二乗誤差\n",
    "              optimizer='adam',             #とりあえずadamで\n",
    "              metrics=['accuracy'])"
   ]
  },
  {
   "cell_type": "code",
   "execution_count": 110,
   "id": "7de65c15",
   "metadata": {},
   "outputs": [
    {
     "name": "stdout",
     "output_type": "stream",
     "text": [
      "Train on 28472 samples, validate on 3164 samples\n",
      "Epoch 1/20\n",
      "28472/28472 [==============================] - 1s 52us/step - loss: 188928501.4307 - acc: 0.0000e+00 - val_loss: 187835690.8420 - val_acc: 0.0000e+00\n",
      "Epoch 2/20\n",
      "28472/28472 [==============================] - 0s 7us/step - loss: 188920025.0048 - acc: 0.0000e+00 - val_loss: 187829240.3944 - val_acc: 0.0000e+00\n",
      "Epoch 3/20\n",
      "28472/28472 [==============================] - 0s 7us/step - loss: 188911125.6825 - acc: 0.0000e+00 - val_loss: 187815766.2908 - val_acc: 0.0000e+00\n",
      "Epoch 4/20\n",
      "28472/28472 [==============================] - 0s 7us/step - loss: 188886748.6193 - acc: 0.0000e+00 - val_loss: 187774373.8862 - val_acc: 0.0000e+00\n",
      "Epoch 5/20\n",
      "28472/28472 [==============================] - 0s 7us/step - loss: 188812859.3515 - acc: 0.0000e+00 - val_loss: 187657128.9810 - val_acc: 0.0000e+00\n",
      "Epoch 6/20\n",
      "28472/28472 [==============================] - 0s 7us/step - loss: 188638050.8592 - acc: 0.0000e+00 - val_loss: 187416455.2819 - val_acc: 0.0000e+00\n",
      "Epoch 7/20\n",
      "28472/28472 [==============================] - 0s 7us/step - loss: 188316491.6482 - acc: 0.0000e+00 - val_loss: 187001308.8850 - val_acc: 0.0000e+00\n",
      "Epoch 8/20\n",
      "28472/28472 [==============================] - 0s 7us/step - loss: 187789786.8075 - acc: 0.0000e+00 - val_loss: 186350958.4627 - val_acc: 0.0000e+00\n",
      "Epoch 9/20\n",
      "28472/28472 [==============================] - 0s 8us/step - loss: 186994237.4375 - acc: 0.0000e+00 - val_loss: 185391644.6625 - val_acc: 0.0000e+00\n",
      "Epoch 10/20\n",
      "28472/28472 [==============================] - 0s 9us/step - loss: 185831125.6870 - acc: 0.0000e+00 - val_loss: 184005104.7686 - val_acc: 0.0000e+00\n",
      "Epoch 11/20\n",
      "28472/28472 [==============================] - 0s 7us/step - loss: 184194897.3981 - acc: 0.0000e+00 - val_loss: 182103210.8015 - val_acc: 0.0000e+00\n",
      "Epoch 12/20\n",
      "28472/28472 [==============================] - 0s 8us/step - loss: 182003882.2770 - acc: 0.0000e+00 - val_loss: 179612050.4071 - val_acc: 0.0000e+00\n",
      "Epoch 13/20\n",
      "28472/28472 [==============================] - 0s 8us/step - loss: 179183205.4847 - acc: 0.0000e+00 - val_loss: 176457658.8015 - val_acc: 0.0000e+00\n",
      "Epoch 14/20\n",
      "28472/28472 [==============================] - 0s 8us/step - loss: 175664363.4144 - acc: 0.0000e+00 - val_loss: 172580523.4488 - val_acc: 0.0000e+00\n",
      "Epoch 15/20\n",
      "28472/28472 [==============================] - 0s 9us/step - loss: 171397200.9666 - acc: 0.0000e+00 - val_loss: 167931074.2048 - val_acc: 0.0000e+00\n",
      "Epoch 16/20\n",
      "28472/28472 [==============================] - 0s 7us/step - loss: 166343980.8935 - acc: 0.0000e+00 - val_loss: 162500608.8091 - val_acc: 0.0000e+00\n",
      "Epoch 17/20\n",
      "28472/28472 [==============================] - 0s 7us/step - loss: 160507249.4881 - acc: 0.0000e+00 - val_loss: 156286877.1479 - val_acc: 0.0000e+00\n",
      "Epoch 18/20\n",
      "28472/28472 [==============================] - 0s 8us/step - loss: 153902342.6715 - acc: 0.0000e+00 - val_loss: 149347607.8685 - val_acc: 0.0000e+00\n",
      "Epoch 19/20\n",
      "28472/28472 [==============================] - 0s 8us/step - loss: 146591557.2464 - acc: 0.0000e+00 - val_loss: 141749968.1214 - val_acc: 0.0000e+00\n",
      "Epoch 20/20\n",
      "28472/28472 [==============================] - 0s 8us/step - loss: 138674987.3650 - acc: 0.0000e+00 - val_loss: 133584369.1429 - val_acc: 0.0000e+00\n"
     ]
    }
   ],
   "source": [
    "history = model.fit(x=x_train,\n",
    "                     y=y_train,\n",
    "                     epochs=20,\n",
    "                     batch_size=512,\n",
    "                     verbose=1,\n",
    "                     validation_data=(x_test, y_test))"
   ]
  },
  {
   "cell_type": "code",
   "execution_count": 111,
   "id": "e1728714",
   "metadata": {},
   "outputs": [
    {
     "data": {
      "text/plain": [
       "dict_keys(['val_loss', 'val_acc', 'loss', 'acc'])"
      ]
     },
     "execution_count": 111,
     "metadata": {},
     "output_type": "execute_result"
    }
   ],
   "source": [
    "history_dict = history.history\n",
    "history_dict.keys()"
   ]
  },
  {
   "cell_type": "code",
   "execution_count": 112,
   "id": "8ff4e5b5",
   "metadata": {},
   "outputs": [
    {
     "data": {
      "image/png": "[encoded data removed]",
      "text/plain": [
       "<Figure size 864x576 with 1 Axes>"
      ]
     },
     "metadata": {
      "needs_background": "light"
     },
     "output_type": "display_data"
    }
   ],
   "source": [
    "acc = history_dict['acc']\n",
    "val_acc = history_dict['val_acc']\n",
    "epochs = range(1, len(acc) + 1)\n",
    "\n",
    "plt.figure(figsize=(12, 8))\n",
    "plt.plot(epochs, acc, label='acc')\n",
    "plt.plot(epochs, val_acc, label='val_acc')\n",
    "plt.ylim((0,1))\n",
    "plt.legend(loc = 'best')\n",
    "plt.show()"
   ]
  },
  {
   "cell_type": "code",
   "execution_count": 73,
   "id": "e8453f27",
   "metadata": {},
   "outputs": [],
   "source": [
    "from tensorflow.keras.models import Sequential\n",
    "from tensorflow.keras.layers import Dense, Activation\n",
    "from tensorflow.keras import regularizers, initializers\n",
    "model = Sequential()\n",
    "\n",
    "model.add(Dense(units=32, input_shape=(3,), activation='sigmoid'))  \n",
    "model.add(Dense(units=10, activation='sigmoid'))  #L2正則化\n",
    "model.add(Dense(units=10, activation='sigmoid'))\n",
    "model.add(Dense(units=1, activation='linear'))  #隠れ層3層でやってみる\n",
    "\n",
    "model.compile(loss='mean_squared_error',    #出力は?連続値?なので平均二乗誤差\n",
    "              optimizer='adam',             #とりあえずadamで\n",
    "              metrics=['accuracy'])"
   ]
  },
  {
   "cell_type": "code",
   "execution_count": 74,
   "id": "232c27be",
   "metadata": {},
   "outputs": [
    {
     "name": "stdout",
     "output_type": "stream",
     "text": [
      "Train on 28472 samples, validate on 3164 samples\n",
      "Epoch 1/20\n",
      "28472/28472 [==============================] - 1s 42us/step - loss: 1.0025 - acc: 0.0000e+00 - val_loss: 0.9807 - val_acc: 0.0000e+00\n",
      "Epoch 2/20\n",
      "28472/28472 [==============================] - 0s 7us/step - loss: 0.9430 - acc: 0.0000e+00 - val_loss: 0.8976 - val_acc: 0.0000e+00\n",
      "Epoch 3/20\n",
      "28472/28472 [==============================] - 0s 8us/step - loss: 0.7812 - acc: 0.0000e+00 - val_loss: 0.6272 - val_acc: 0.0000e+00\n",
      "Epoch 4/20\n",
      "28472/28472 [==============================] - 0s 7us/step - loss: 0.4363 - acc: 0.0000e+00 - val_loss: 0.2701 - val_acc: 0.0000e+00\n",
      "Epoch 5/20\n",
      "28472/28472 [==============================] - 0s 9us/step - loss: 0.1935 - acc: 0.0000e+00 - val_loss: 0.1558 - val_acc: 0.0000e+00\n",
      "Epoch 6/20\n",
      "28472/28472 [==============================] - 0s 8us/step - loss: 0.1459 - acc: 0.0000e+00 - val_loss: 0.1419 - val_acc: 0.0000e+00\n",
      "Epoch 7/20\n",
      "28472/28472 [==============================] - 0s 8us/step - loss: 0.1380 - acc: 0.0000e+00 - val_loss: 0.1362 - val_acc: 0.0000e+00\n",
      "Epoch 8/20\n",
      "28472/28472 [==============================] - 0s 8us/step - loss: 0.1339 - acc: 0.0000e+00 - val_loss: 0.1325 - val_acc: 0.0000e+00\n",
      "Epoch 9/20\n",
      "28472/28472 [==============================] - 0s 7us/step - loss: 0.1308 - acc: 0.0000e+00 - val_loss: 0.1290 - val_acc: 0.0000e+00\n",
      "Epoch 10/20\n",
      "28472/28472 [==============================] - 0s 7us/step - loss: 0.1277 - acc: 0.0000e+00 - val_loss: 0.1259 - val_acc: 0.0000e+00\n",
      "Epoch 11/20\n",
      "28472/28472 [==============================] - 0s 7us/step - loss: 0.1247 - acc: 0.0000e+00 - val_loss: 0.1225 - val_acc: 0.0000e+00\n",
      "Epoch 12/20\n",
      "28472/28472 [==============================] - 0s 8us/step - loss: 0.1216 - acc: 0.0000e+00 - val_loss: 0.1193 - val_acc: 0.0000e+00\n",
      "Epoch 13/20\n",
      "28472/28472 [==============================] - 0s 8us/step - loss: 0.1185 - acc: 0.0000e+00 - val_loss: 0.1162 - val_acc: 0.0000e+00\n",
      "Epoch 14/20\n",
      "28472/28472 [==============================] - 0s 8us/step - loss: 0.1155 - acc: 0.0000e+00 - val_loss: 0.1131 - val_acc: 0.0000e+00\n",
      "Epoch 15/20\n",
      "28472/28472 [==============================] - 0s 9us/step - loss: 0.1129 - acc: 0.0000e+00 - val_loss: 0.1105 - val_acc: 0.0000e+00\n",
      "Epoch 16/20\n",
      "28472/28472 [==============================] - 0s 9us/step - loss: 0.1107 - acc: 0.0000e+00 - val_loss: 0.1083 - val_acc: 0.0000e+00\n",
      "Epoch 17/20\n",
      "28472/28472 [==============================] - 0s 8us/step - loss: 0.1089 - acc: 0.0000e+00 - val_loss: 0.1066 - val_acc: 0.0000e+00\n",
      "Epoch 18/20\n",
      "28472/28472 [==============================] - 0s 8us/step - loss: 0.1076 - acc: 0.0000e+00 - val_loss: 0.1051 - val_acc: 0.0000e+00\n",
      "Epoch 19/20\n",
      "28472/28472 [==============================] - 0s 8us/step - loss: 0.1064 - acc: 0.0000e+00 - val_loss: 0.1042 - val_acc: 0.0000e+00\n",
      "Epoch 20/20\n",
      "28472/28472 [==============================] - 0s 8us/step - loss: 0.1056 - acc: 0.0000e+00 - val_loss: 0.1034 - val_acc: 0.0000e+00\n"
     ]
    }
   ],
   "source": [
    "history = model.fit(x=x_train,\n",
    "                     y=y_train,\n",
    "                     epochs=20,\n",
    "                     batch_size=512,\n",
    "                     verbose=1,\n",
    "                     validation_data=(x_test, y_test))"
   ]
  },
  {
   "cell_type": "code",
   "execution_count": 75,
   "id": "cb9bba79",
   "metadata": {},
   "outputs": [
    {
     "data": {
      "image/png": "[encoded data removed]",
      "text/plain": [
       "<Figure size 864x576 with 1 Axes>"
      ]
     },
     "metadata": {
      "needs_background": "light"
     },
     "output_type": "display_data"
    }
   ],
   "source": [
    "acc = history_dict['acc']\n",
    "val_acc = history_dict['val_acc']\n",
    "epochs = range(1, len(acc) + 1)\n",
    "\n",
    "plt.figure(figsize=(12, 8))\n",
    "plt.plot(epochs, acc, label='acc')\n",
    "plt.plot(epochs, val_acc, label='val_acc')\n",
    "plt.ylim((0,1))\n",
    "plt.legend(loc = 'best')\n",
    "plt.show()"
   ]
  },
  {
   "cell_type": "code",
   "execution_count": null,
   "id": "dc9f31d6",
   "metadata": {},
   "outputs": [],
   "source": []
  }
 ],
 "metadata": {
  "kernelspec": {
   "display_name": "Python 3",
   "language": "python",
   "name": "python3"
  },
  "language_info": {
   "codemirror_mode": {
    "name": "ipython",
    "version": 3
   },
   "file_extension": ".py",
   "mimetype": "text/x-python",
   "name": "python",
   "nbconvert_exporter": "python",
   "pygments_lexer": "ipython3",
   "version": "3.6.13"
  }
 },
 "nbformat": 4,
 "nbformat_minor": 5
}
