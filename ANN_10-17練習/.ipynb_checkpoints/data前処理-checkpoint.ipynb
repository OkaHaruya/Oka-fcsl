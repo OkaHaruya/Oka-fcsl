{
 "cells": [
  {
   "cell_type": "code",
   "execution_count": 2,
   "id": "54be6fa7",
   "metadata": {},
   "outputs": [],
   "source": [
    "import numpy as np\n",
    "import pandas as pd"
   ]
  },
  {
   "cell_type": "code",
   "execution_count": 9,
   "id": "47c1a664",
   "metadata": {},
   "outputs": [
    {
     "name": "stdout",
     "output_type": "stream",
     "text": [
      "1.1.5\n"
     ]
    }
   ],
   "source": [
    "print(pd.__version__)"
   ]
  },
  {
   "cell_type": "code",
   "execution_count": 20,
   "id": "22a37cc3",
   "metadata": {},
   "outputs": [
    {
     "data": {
      "text/html": [
       "<div>\n",
       "<style scoped>\n",
       "    .dataframe tbody tr th:only-of-type {\n",
       "        vertical-align: middle;\n",
       "    }\n",
       "\n",
       "    .dataframe tbody tr th {\n",
       "        vertical-align: top;\n",
       "    }\n",
       "\n",
       "    .dataframe thead th {\n",
       "        text-align: right;\n",
       "    }\n",
       "</style>\n",
       "<table border=\"1\" class=\"dataframe\">\n",
       "  <thead>\n",
       "    <tr style=\"text-align: right;\">\n",
       "      <th></th>\n",
       "      <th>x座標</th>\n",
       "      <th>y座標</th>\n",
       "      <th>i[A/m^2]</th>\n",
       "    </tr>\n",
       "  </thead>\n",
       "  <tbody>\n",
       "    <tr>\n",
       "      <th>0</th>\n",
       "      <td>0.000669</td>\n",
       "      <td>0.010415</td>\n",
       "      <td>13057.283873</td>\n",
       "    </tr>\n",
       "    <tr>\n",
       "      <th>1</th>\n",
       "      <td>0.000671</td>\n",
       "      <td>0.010224</td>\n",
       "      <td>13057.283873</td>\n",
       "    </tr>\n",
       "    <tr>\n",
       "      <th>2</th>\n",
       "      <td>0.000673</td>\n",
       "      <td>0.010035</td>\n",
       "      <td>13057.283873</td>\n",
       "    </tr>\n",
       "    <tr>\n",
       "      <th>3</th>\n",
       "      <td>0.000677</td>\n",
       "      <td>0.009706</td>\n",
       "      <td>13057.283873</td>\n",
       "    </tr>\n",
       "    <tr>\n",
       "      <th>4</th>\n",
       "      <td>0.000678</td>\n",
       "      <td>0.009656</td>\n",
       "      <td>13057.283873</td>\n",
       "    </tr>\n",
       "  </tbody>\n",
       "</table>\n",
       "</div>"
      ],
      "text/plain": [
       "        x座標       y座標      i[A/m^2]\n",
       "0  0.000669  0.010415  13057.283873\n",
       "1  0.000671  0.010224  13057.283873\n",
       "2  0.000673  0.010035  13057.283873\n",
       "3  0.000677  0.009706  13057.283873\n",
       "4  0.000678  0.009656  13057.283873"
      ]
     },
     "execution_count": 20,
     "metadata": {},
     "output_type": "execute_result"
    }
   ],
   "source": [
    "df = pd.read_excel('/Users\\/aruhy/OneDrive/デスクトップ/data/current density 0.4V.xlsx',header=8, names=['x座標','y座標','i[A/m^2]'])\n",
    "df.head()"
   ]
  },
  {
   "cell_type": "code",
   "execution_count": 21,
   "id": "cd387f9a",
   "metadata": {},
   "outputs": [
    {
     "data": {
      "text/plain": [
       "(2451, 3)"
      ]
     },
     "execution_count": 21,
     "metadata": {},
     "output_type": "execute_result"
    }
   ],
   "source": [
    "df.shape"
   ]
  },
  {
   "cell_type": "code",
   "execution_count": 22,
   "id": "c27fde73",
   "metadata": {},
   "outputs": [
    {
     "data": {
      "text/html": [
       "<div>\n",
       "<style scoped>\n",
       "    .dataframe tbody tr th:only-of-type {\n",
       "        vertical-align: middle;\n",
       "    }\n",
       "\n",
       "    .dataframe tbody tr th {\n",
       "        vertical-align: top;\n",
       "    }\n",
       "\n",
       "    .dataframe thead th {\n",
       "        text-align: right;\n",
       "    }\n",
       "</style>\n",
       "<table border=\"1\" class=\"dataframe\">\n",
       "  <thead>\n",
       "    <tr style=\"text-align: right;\">\n",
       "      <th></th>\n",
       "      <th>x座標</th>\n",
       "      <th>y座標</th>\n",
       "      <th>V[V]</th>\n",
       "      <th>i[A/m^2]</th>\n",
       "    </tr>\n",
       "  </thead>\n",
       "  <tbody>\n",
       "    <tr>\n",
       "      <th>0</th>\n",
       "      <td>0.000669</td>\n",
       "      <td>0.010415</td>\n",
       "      <td>0.4</td>\n",
       "      <td>13057.283873</td>\n",
       "    </tr>\n",
       "    <tr>\n",
       "      <th>1</th>\n",
       "      <td>0.000671</td>\n",
       "      <td>0.010224</td>\n",
       "      <td>0.4</td>\n",
       "      <td>13057.283873</td>\n",
       "    </tr>\n",
       "    <tr>\n",
       "      <th>2</th>\n",
       "      <td>0.000673</td>\n",
       "      <td>0.010035</td>\n",
       "      <td>0.4</td>\n",
       "      <td>13057.283873</td>\n",
       "    </tr>\n",
       "    <tr>\n",
       "      <th>3</th>\n",
       "      <td>0.000677</td>\n",
       "      <td>0.009706</td>\n",
       "      <td>0.4</td>\n",
       "      <td>13057.283873</td>\n",
       "    </tr>\n",
       "    <tr>\n",
       "      <th>4</th>\n",
       "      <td>0.000678</td>\n",
       "      <td>0.009656</td>\n",
       "      <td>0.4</td>\n",
       "      <td>13057.283873</td>\n",
       "    </tr>\n",
       "    <tr>\n",
       "      <th>...</th>\n",
       "      <td>...</td>\n",
       "      <td>...</td>\n",
       "      <td>...</td>\n",
       "      <td>...</td>\n",
       "    </tr>\n",
       "    <tr>\n",
       "      <th>2446</th>\n",
       "      <td>0.000100</td>\n",
       "      <td>0.000788</td>\n",
       "      <td>0.4</td>\n",
       "      <td>32691.611952</td>\n",
       "    </tr>\n",
       "    <tr>\n",
       "      <th>2447</th>\n",
       "      <td>0.000107</td>\n",
       "      <td>0.000591</td>\n",
       "      <td>0.4</td>\n",
       "      <td>32691.611952</td>\n",
       "    </tr>\n",
       "    <tr>\n",
       "      <th>2448</th>\n",
       "      <td>0.000115</td>\n",
       "      <td>0.000394</td>\n",
       "      <td>0.4</td>\n",
       "      <td>32691.611952</td>\n",
       "    </tr>\n",
       "    <tr>\n",
       "      <th>2449</th>\n",
       "      <td>0.000125</td>\n",
       "      <td>0.000197</td>\n",
       "      <td>0.4</td>\n",
       "      <td>32691.611952</td>\n",
       "    </tr>\n",
       "    <tr>\n",
       "      <th>2450</th>\n",
       "      <td>0.000126</td>\n",
       "      <td>0.000000</td>\n",
       "      <td>0.4</td>\n",
       "      <td>32691.611952</td>\n",
       "    </tr>\n",
       "  </tbody>\n",
       "</table>\n",
       "<p>2451 rows × 4 columns</p>\n",
       "</div>"
      ],
      "text/plain": [
       "           x座標       y座標  V[V]      i[A/m^2]\n",
       "0     0.000669  0.010415   0.4  13057.283873\n",
       "1     0.000671  0.010224   0.4  13057.283873\n",
       "2     0.000673  0.010035   0.4  13057.283873\n",
       "3     0.000677  0.009706   0.4  13057.283873\n",
       "4     0.000678  0.009656   0.4  13057.283873\n",
       "...        ...       ...   ...           ...\n",
       "2446  0.000100  0.000788   0.4  32691.611952\n",
       "2447  0.000107  0.000591   0.4  32691.611952\n",
       "2448  0.000115  0.000394   0.4  32691.611952\n",
       "2449  0.000125  0.000197   0.4  32691.611952\n",
       "2450  0.000126  0.000000   0.4  32691.611952\n",
       "\n",
       "[2451 rows x 4 columns]"
      ]
     },
     "execution_count": 22,
     "metadata": {},
     "output_type": "execute_result"
    }
   ],
   "source": [
    "df.insert(2, 'V[V]', 0.4)\n",
    "df"
   ]
  },
  {
   "cell_type": "code",
   "execution_count": null,
   "id": "ec97279d",
   "metadata": {},
   "outputs": [],
   "source": []
  }
 ],
 "metadata": {
  "kernelspec": {
   "display_name": "Python 3",
   "language": "python",
   "name": "python3"
  },
  "language_info": {
   "codemirror_mode": {
    "name": "ipython",
    "version": 3
   },
   "file_extension": ".py",
   "mimetype": "text/x-python",
   "name": "python",
   "nbconvert_exporter": "python",
   "pygments_lexer": "ipython3",
   "version": "3.6.13"
  }
 },
 "nbformat": 4,
 "nbformat_minor": 5
}
