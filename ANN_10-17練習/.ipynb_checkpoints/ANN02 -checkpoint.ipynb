{
 "cells": [
  {
   "cell_type": "code",
   "execution_count": 2,
   "id": "ce7824c4",
   "metadata": {},
   "outputs": [],
   "source": [
    "import warnings\n",
    "warnings.simplefilter('ignore', FutureWarning)"
   ]
  },
  {
   "cell_type": "code",
   "execution_count": 3,
   "id": "eab3a947",
   "metadata": {},
   "outputs": [],
   "source": [
    "import tensorflow as tf\n",
    "import numpy as np\n",
    "import matplotlib.pyplot as plt\n",
    "import pandas as pd\n",
    "import sklearn"
   ]
  },
  {
   "cell_type": "code",
   "execution_count": 4,
   "id": "cd0385a8",
   "metadata": {},
   "outputs": [
    {
     "name": "stdout",
     "output_type": "stream",
     "text": [
      "2.1.0\n"
     ]
    }
   ],
   "source": [
    "print(tf.__version__)"
   ]
  },
  {
   "cell_type": "code",
   "execution_count": 5,
   "id": "5753432b",
   "metadata": {},
   "outputs": [],
   "source": [
    "from tensorflow.keras import models\n",
    "from tensorflow.keras import layers\n",
    "from sklearn.model_selection import train_test_split"
   ]
  },
  {
   "cell_type": "code",
   "execution_count": 6,
   "id": "61385086",
   "metadata": {},
   "outputs": [],
   "source": [
    "df_input = pd.read_csv('current density2 0.4-0.9V', usecols=[1,2,3])"
   ]
  },
  {
   "cell_type": "code",
   "execution_count": 7,
   "id": "bee2e1cb",
   "metadata": {},
   "outputs": [],
   "source": [
    "df_output = pd. read_csv('current density2 0.4-0.9V', usecols=[4])"
   ]
  },
  {
   "cell_type": "code",
   "execution_count": 8,
   "id": "6aa258fc",
   "metadata": {},
   "outputs": [
    {
     "data": {
      "text/plain": [
       "(31636, 3)"
      ]
     },
     "execution_count": 8,
     "metadata": {},
     "output_type": "execute_result"
    }
   ],
   "source": [
    "df_input.shape"
   ]
  },
  {
   "cell_type": "code",
   "execution_count": 9,
   "id": "0c9360c2",
   "metadata": {},
   "outputs": [
    {
     "data": {
      "text/plain": [
       "(31636, 1)"
      ]
     },
     "execution_count": 9,
     "metadata": {},
     "output_type": "execute_result"
    }
   ],
   "source": [
    "df_output.shape"
   ]
  },
  {
   "cell_type": "code",
   "execution_count": 10,
   "id": "67c463de",
   "metadata": {},
   "outputs": [],
   "source": [
    "x_train, x_test, y_train, y_test = train_test_split(df_input, df_output, test_size=0.1, random_state=0)"
   ]
  },
  {
   "cell_type": "code",
   "execution_count": 11,
   "id": "9b16ab26",
   "metadata": {},
   "outputs": [
    {
     "name": "stdout",
     "output_type": "stream",
     "text": [
      "(28472, 3) (3164, 3)\n"
     ]
    }
   ],
   "source": [
    "print(x_train.shape,x_test.shape)"
   ]
  },
  {
   "cell_type": "code",
   "execution_count": 12,
   "id": "e2036ac2",
   "metadata": {},
   "outputs": [
    {
     "data": {
      "text/html": [
       "<div>\n",
       "<style scoped>\n",
       "    .dataframe tbody tr th:only-of-type {\n",
       "        vertical-align: middle;\n",
       "    }\n",
       "\n",
       "    .dataframe tbody tr th {\n",
       "        vertical-align: top;\n",
       "    }\n",
       "\n",
       "    .dataframe thead th {\n",
       "        text-align: right;\n",
       "    }\n",
       "</style>\n",
       "<table border=\"1\" class=\"dataframe\">\n",
       "  <thead>\n",
       "    <tr style=\"text-align: right;\">\n",
       "      <th></th>\n",
       "      <th>x座標</th>\n",
       "      <th>y座標</th>\n",
       "      <th>V[V]</th>\n",
       "    </tr>\n",
       "  </thead>\n",
       "  <tbody>\n",
       "    <tr>\n",
       "      <th>17676</th>\n",
       "      <td>-1.063164</td>\n",
       "      <td>0.480150</td>\n",
       "      <td>0.224769</td>\n",
       "    </tr>\n",
       "    <tr>\n",
       "      <th>30131</th>\n",
       "      <td>-0.569786</td>\n",
       "      <td>-1.450546</td>\n",
       "      <td>1.493249</td>\n",
       "    </tr>\n",
       "    <tr>\n",
       "      <th>11031</th>\n",
       "      <td>1.284606</td>\n",
       "      <td>0.764567</td>\n",
       "      <td>-0.409472</td>\n",
       "    </tr>\n",
       "    <tr>\n",
       "      <th>6840</th>\n",
       "      <td>-0.022068</td>\n",
       "      <td>-0.049329</td>\n",
       "      <td>-1.360832</td>\n",
       "    </tr>\n",
       "    <tr>\n",
       "      <th>29412</th>\n",
       "      <td>0.917878</td>\n",
       "      <td>-1.068396</td>\n",
       "      <td>1.493249</td>\n",
       "    </tr>\n",
       "    <tr>\n",
       "      <th>...</th>\n",
       "      <td>...</td>\n",
       "      <td>...</td>\n",
       "      <td>...</td>\n",
       "    </tr>\n",
       "    <tr>\n",
       "      <th>13123</th>\n",
       "      <td>-1.677761</td>\n",
       "      <td>-1.602093</td>\n",
       "      <td>-0.409472</td>\n",
       "    </tr>\n",
       "    <tr>\n",
       "      <th>19648</th>\n",
       "      <td>0.253005</td>\n",
       "      <td>-0.367788</td>\n",
       "      <td>0.541889</td>\n",
       "    </tr>\n",
       "    <tr>\n",
       "      <th>9845</th>\n",
       "      <td>-0.583430</td>\n",
       "      <td>0.141746</td>\n",
       "      <td>-0.726592</td>\n",
       "    </tr>\n",
       "    <tr>\n",
       "      <th>10799</th>\n",
       "      <td>1.599377</td>\n",
       "      <td>1.520386</td>\n",
       "      <td>-0.409472</td>\n",
       "    </tr>\n",
       "    <tr>\n",
       "      <th>2732</th>\n",
       "      <td>0.639460</td>\n",
       "      <td>1.479271</td>\n",
       "      <td>-1.043712</td>\n",
       "    </tr>\n",
       "  </tbody>\n",
       "</table>\n",
       "<p>28472 rows × 3 columns</p>\n",
       "</div>"
      ],
      "text/plain": [
       "            x座標       y座標      V[V]\n",
       "17676 -1.063164  0.480150  0.224769\n",
       "30131 -0.569786 -1.450546  1.493249\n",
       "11031  1.284606  0.764567 -0.409472\n",
       "6840  -0.022068 -0.049329 -1.360832\n",
       "29412  0.917878 -1.068396  1.493249\n",
       "...         ...       ...       ...\n",
       "13123 -1.677761 -1.602093 -0.409472\n",
       "19648  0.253005 -0.367788  0.541889\n",
       "9845  -0.583430  0.141746 -0.726592\n",
       "10799  1.599377  1.520386 -0.409472\n",
       "2732   0.639460  1.479271 -1.043712\n",
       "\n",
       "[28472 rows x 3 columns]"
      ]
     },
     "execution_count": 12,
     "metadata": {},
     "output_type": "execute_result"
    }
   ],
   "source": [
    "x_train"
   ]
  },
  {
   "cell_type": "code",
   "execution_count": 13,
   "id": "5f2b908c",
   "metadata": {},
   "outputs": [
    {
     "data": {
      "text/html": [
       "<div>\n",
       "<style scoped>\n",
       "    .dataframe tbody tr th:only-of-type {\n",
       "        vertical-align: middle;\n",
       "    }\n",
       "\n",
       "    .dataframe tbody tr th {\n",
       "        vertical-align: top;\n",
       "    }\n",
       "\n",
       "    .dataframe thead th {\n",
       "        text-align: right;\n",
       "    }\n",
       "</style>\n",
       "<table border=\"1\" class=\"dataframe\">\n",
       "  <thead>\n",
       "    <tr style=\"text-align: right;\">\n",
       "      <th></th>\n",
       "      <th>i[A/m^2]</th>\n",
       "    </tr>\n",
       "  </thead>\n",
       "  <tbody>\n",
       "    <tr>\n",
       "      <th>17676</th>\n",
       "      <td>-0.240928</td>\n",
       "    </tr>\n",
       "    <tr>\n",
       "      <th>30131</th>\n",
       "      <td>-1.301885</td>\n",
       "    </tr>\n",
       "    <tr>\n",
       "      <th>11031</th>\n",
       "      <td>-0.004455</td>\n",
       "    </tr>\n",
       "    <tr>\n",
       "      <th>6840</th>\n",
       "      <td>1.578582</td>\n",
       "    </tr>\n",
       "    <tr>\n",
       "      <th>29412</th>\n",
       "      <td>-1.347140</td>\n",
       "    </tr>\n",
       "    <tr>\n",
       "      <th>...</th>\n",
       "      <td>...</td>\n",
       "    </tr>\n",
       "    <tr>\n",
       "      <th>13123</th>\n",
       "      <td>1.276845</td>\n",
       "    </tr>\n",
       "    <tr>\n",
       "      <th>19648</th>\n",
       "      <td>-0.543908</td>\n",
       "    </tr>\n",
       "    <tr>\n",
       "      <th>9845</th>\n",
       "      <td>1.211591</td>\n",
       "    </tr>\n",
       "    <tr>\n",
       "      <th>10799</th>\n",
       "      <td>-0.095977</td>\n",
       "    </tr>\n",
       "    <tr>\n",
       "      <th>2732</th>\n",
       "      <td>0.099419</td>\n",
       "    </tr>\n",
       "  </tbody>\n",
       "</table>\n",
       "<p>28472 rows × 1 columns</p>\n",
       "</div>"
      ],
      "text/plain": [
       "       i[A/m^2]\n",
       "17676 -0.240928\n",
       "30131 -1.301885\n",
       "11031 -0.004455\n",
       "6840   1.578582\n",
       "29412 -1.347140\n",
       "...         ...\n",
       "13123  1.276845\n",
       "19648 -0.543908\n",
       "9845   1.211591\n",
       "10799 -0.095977\n",
       "2732   0.099419\n",
       "\n",
       "[28472 rows x 1 columns]"
      ]
     },
     "execution_count": 13,
     "metadata": {},
     "output_type": "execute_result"
    }
   ],
   "source": [
    "y_train"
   ]
  },
  {
   "cell_type": "code",
   "execution_count": 27,
   "id": "e8453f27",
   "metadata": {},
   "outputs": [],
   "source": [
    "from tensorflow.keras.models import Sequential\n",
    "from tensorflow.keras.layers import Dense, Activation\n",
    "from tensorflow.keras import regularizers, initializers\n",
    "\n",
    "weights = [com.get_weights() for com in model.layers[0:]]\n",
    "model = Sequential()\n",
    "\n",
    "model.add(Dense(units=32, input_shape=(3,), activation='tanh'))  \n",
    "model.add(Dense(units=10, activation='tanh'))  #xとyが-1～1なのでtanh\n",
    "model.add(Dense(units=10, activation='tanh'))\n",
    "model.add(Dense(units=1, activation='linear'))  #隠れ層3層でやってみる\n",
    "\n",
    "model.compile(loss='mean_squared_error',    #出力は?連続値?なので平均二乗誤差\n",
    "              optimizer='adam',             #とりあえずadamで\n",
    "              metrics=['mse'])"
   ]
  },
  {
   "cell_type": "code",
   "execution_count": 23,
   "id": "232c27be",
   "metadata": {},
   "outputs": [
    {
     "name": "stdout",
     "output_type": "stream",
     "text": [
      "Train on 28472 samples, validate on 3164 samples\n",
      "Epoch 1/20\n",
      "28472/28472 [==============================] - 1s 23us/sample - loss: 0.1672 - mse: 0.1672 - val_loss: 0.1189 - val_mse: 0.1189\n",
      "Epoch 2/20\n",
      "28472/28472 [==============================] - 0s 10us/sample - loss: 0.1112 - mse: 0.1112 - val_loss: 0.1064 - val_mse: 0.1064\n",
      "Epoch 3/20\n",
      "28472/28472 [==============================] - 0s 11us/sample - loss: 0.1037 - mse: 0.1037 - val_loss: 0.1010 - val_mse: 0.1010\n",
      "Epoch 4/20\n",
      "28472/28472 [==============================] - 0s 10us/sample - loss: 0.1009 - mse: 0.1009 - val_loss: 0.0988 - val_mse: 0.0988\n",
      "Epoch 5/20\n",
      "28472/28472 [==============================] - 0s 9us/sample - loss: 0.0995 - mse: 0.0995 - val_loss: 0.0968 - val_mse: 0.0968\n",
      "Epoch 6/20\n",
      "28472/28472 [==============================] - 0s 11us/sample - loss: 0.0987 - mse: 0.0987 - val_loss: 0.0970 - val_mse: 0.0970\n",
      "Epoch 7/20\n",
      "28472/28472 [==============================] - 0s 13us/sample - loss: 0.0989 - mse: 0.0989 - val_loss: 0.0962 - val_mse: 0.0962\n",
      "Epoch 8/20\n",
      "28472/28472 [==============================] - 0s 13us/sample - loss: 0.0982 - mse: 0.0982 - val_loss: 0.0962 - val_mse: 0.0962\n",
      "Epoch 9/20\n",
      "28472/28472 [==============================] - 0s 13us/sample - loss: 0.0981 - mse: 0.0981 - val_loss: 0.0961 - val_mse: 0.0961\n",
      "Epoch 10/20\n",
      "28472/28472 [==============================] - 0s 11us/sample - loss: 0.0982 - mse: 0.0982 - val_loss: 0.0963 - val_mse: 0.0963\n",
      "Epoch 11/20\n",
      "28472/28472 [==============================] - 0s 9us/sample - loss: 0.0982 - mse: 0.0982 - val_loss: 0.0959 - val_mse: 0.0959\n",
      "Epoch 12/20\n",
      "28472/28472 [==============================] - 0s 9us/sample - loss: 0.0977 - mse: 0.0977 - val_loss: 0.0975 - val_mse: 0.0975\n",
      "Epoch 13/20\n",
      "28472/28472 [==============================] - 0s 9us/sample - loss: 0.0982 - mse: 0.0982 - val_loss: 0.0975 - val_mse: 0.0975\n",
      "Epoch 14/20\n",
      "28472/28472 [==============================] - 0s 10us/sample - loss: 0.0982 - mse: 0.0982 - val_loss: 0.0965 - val_mse: 0.0965\n",
      "Epoch 15/20\n",
      "28472/28472 [==============================] - 0s 11us/sample - loss: 0.0985 - mse: 0.0985 - val_loss: 0.0955 - val_mse: 0.0955\n",
      "Epoch 16/20\n",
      "28472/28472 [==============================] - 0s 10us/sample - loss: 0.0976 - mse: 0.0976 - val_loss: 0.0966 - val_mse: 0.0966\n",
      "Epoch 17/20\n",
      "28472/28472 [==============================] - 0s 11us/sample - loss: 0.0978 - mse: 0.0978 - val_loss: 0.0955 - val_mse: 0.0955\n",
      "Epoch 18/20\n",
      "28472/28472 [==============================] - 0s 11us/sample - loss: 0.0976 - mse: 0.0976 - val_loss: 0.0963 - val_mse: 0.0963\n",
      "Epoch 19/20\n",
      "28472/28472 [==============================] - 0s 12us/sample - loss: 0.0975 - mse: 0.0975 - val_loss: 0.0948 - val_mse: 0.0948\n",
      "Epoch 20/20\n",
      "28472/28472 [==============================] - 0s 13us/sample - loss: 0.0976 - mse: 0.0976 - val_loss: 0.0950 - val_mse: 0.0950\n"
     ]
    }
   ],
   "source": [
    "history = model.fit(x=x_train,\n",
    "                     y=y_train,\n",
    "                     epochs=20,\n",
    "                     batch_size=200,\n",
    "                     verbose=1,\n",
    "                     validation_data=(x_test, y_test))"
   ]
  },
  {
   "cell_type": "code",
   "execution_count": 28,
   "id": "fd9f2af9",
   "metadata": {},
   "outputs": [
    {
     "data": {
      "text/plain": [
       "dict_keys(['loss', 'mse', 'val_loss', 'val_mse'])"
      ]
     },
     "execution_count": 28,
     "metadata": {},
     "output_type": "execute_result"
    }
   ],
   "source": [
    "history_dict = history.history\n",
    "history_dict.keys()"
   ]
  },
  {
   "cell_type": "code",
   "execution_count": 29,
   "id": "dc9f31d6",
   "metadata": {},
   "outputs": [
    {
     "data": {
      "image/png": "[encoded data removed]",
      "text/plain": [
       "<Figure size 864x576 with 1 Axes>"
      ]
     },
     "metadata": {
      "needs_background": "light"
     },
     "output_type": "display_data"
    }
   ],
   "source": [
    "mse = history_dict['mse']\n",
    "val_mse = history_dict['val_mse']\n",
    "epochs = range(1, len(mse) + 1)\n",
    "\n",
    "plt.figure(figsize=(12, 8))\n",
    "plt.plot(epochs, mse, label='mse')\n",
    "plt.plot(epochs, val_mse, label='val_mse')\n",
    "plt.ylim((0,0.2))\n",
    "plt.legend(loc = 'best')\n",
    "plt.show()"
   ]
  },
  {
   "cell_type": "code",
   "execution_count": 30,
   "id": "c937eb63",
   "metadata": {},
   "outputs": [],
   "source": [
    "model.layers[0].set_weights(weights[0])\n",
    "model.layers[1].set_weights(weights[1])\n",
    "model.layers[2].set_weights(weights[2])"
   ]
  },
  {
   "cell_type": "code",
   "execution_count": 32,
   "id": "ce774755",
   "metadata": {},
   "outputs": [
    {
     "name": "stdout",
     "output_type": "stream",
     "text": [
      "INFO:tensorflow:Assets written to: i_predict\\assets\n"
     ]
    }
   ],
   "source": [
    "model.save('i_predict')"
   ]
  },
  {
   "cell_type": "code",
   "execution_count": null,
   "id": "4d875e51",
   "metadata": {},
   "outputs": [],
   "source": []
  }
 ],
 "metadata": {
  "kernelspec": {
   "display_name": "Python 3",
   "language": "python",
   "name": "python3"
  },
  "language_info": {
   "codemirror_mode": {
    "name": "ipython",
    "version": 3
   },
   "file_extension": ".py",
   "mimetype": "text/x-python",
   "name": "python",
   "nbconvert_exporter": "python",
   "pygments_lexer": "ipython3",
   "version": "3.6.13"
  }
 },
 "nbformat": 4,
 "nbformat_minor": 5
}
