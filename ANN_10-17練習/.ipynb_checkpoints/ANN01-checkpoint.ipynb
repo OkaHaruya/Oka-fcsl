{
 "cells": [
  {
   "cell_type": "code",
   "execution_count": 16,
   "id": "ce7824c4",
   "metadata": {},
   "outputs": [],
   "source": [
    "import warnings\n",
    "warnings.simplefilter('ignore', FutureWarning)"
   ]
  },
  {
   "cell_type": "code",
   "execution_count": 17,
   "id": "eab3a947",
   "metadata": {},
   "outputs": [],
   "source": [
    "import tensorflow as tf\n",
    "import numpy as np\n",
    "import matplotlib.pyplot as plt\n",
    "import pandas as pd\n",
    "import sklearn"
   ]
  },
  {
   "cell_type": "code",
   "execution_count": 18,
   "id": "cd0385a8",
   "metadata": {},
   "outputs": [
    {
     "name": "stdout",
     "output_type": "stream",
     "text": [
      "2.1.0\n"
     ]
    }
   ],
   "source": [
    "print(tf.__version__)"
   ]
  },
  {
   "cell_type": "code",
   "execution_count": 19,
   "id": "5753432b",
   "metadata": {},
   "outputs": [],
   "source": [
    "from tensorflow.keras import models\n",
    "from tensorflow.keras import layers\n",
    "from sklearn.model_selection import train_test_split"
   ]
  },
  {
   "cell_type": "code",
   "execution_count": 20,
   "id": "61385086",
   "metadata": {},
   "outputs": [],
   "source": [
    "df_input = pd.read_csv('current density 0.4-0.9V', usecols=[1,2,3])"
   ]
  },
  {
   "cell_type": "code",
   "execution_count": 21,
   "id": "bee2e1cb",
   "metadata": {},
   "outputs": [],
   "source": [
    "df_output = pd. read_csv('current density 0.4-0.9V', usecols=[4])"
   ]
  },
  {
   "cell_type": "code",
   "execution_count": 22,
   "id": "67c463de",
   "metadata": {},
   "outputs": [],
   "source": [
    "x_train, x_test, y_train, y_test = train_test_split(df_input, df_output, test_size=0.1, random_state=0)"
   ]
  },
  {
   "cell_type": "code",
   "execution_count": 23,
   "id": "9b16ab26",
   "metadata": {},
   "outputs": [
    {
     "name": "stdout",
     "output_type": "stream",
     "text": [
      "(28472, 3) (3164, 3)\n"
     ]
    }
   ],
   "source": [
    "print(x_train.shape,x_test.shape)"
   ]
  },
  {
   "cell_type": "code",
   "execution_count": 24,
   "id": "e2036ac2",
   "metadata": {},
   "outputs": [
    {
     "data": {
      "text/html": [
       "<div>\n",
       "<style scoped>\n",
       "    .dataframe tbody tr th:only-of-type {\n",
       "        vertical-align: middle;\n",
       "    }\n",
       "\n",
       "    .dataframe tbody tr th {\n",
       "        vertical-align: top;\n",
       "    }\n",
       "\n",
       "    .dataframe thead th {\n",
       "        text-align: right;\n",
       "    }\n",
       "</style>\n",
       "<table border=\"1\" class=\"dataframe\">\n",
       "  <thead>\n",
       "    <tr style=\"text-align: right;\">\n",
       "      <th></th>\n",
       "      <th>x座標</th>\n",
       "      <th>y座標</th>\n",
       "      <th>V[V]</th>\n",
       "    </tr>\n",
       "  </thead>\n",
       "  <tbody>\n",
       "    <tr>\n",
       "      <th>17676</th>\n",
       "      <td>-1.063164</td>\n",
       "      <td>0.480150</td>\n",
       "      <td>0.224769</td>\n",
       "    </tr>\n",
       "    <tr>\n",
       "      <th>30131</th>\n",
       "      <td>-0.569786</td>\n",
       "      <td>-1.450546</td>\n",
       "      <td>1.493249</td>\n",
       "    </tr>\n",
       "    <tr>\n",
       "      <th>11031</th>\n",
       "      <td>1.284606</td>\n",
       "      <td>0.764567</td>\n",
       "      <td>-0.409472</td>\n",
       "    </tr>\n",
       "    <tr>\n",
       "      <th>6840</th>\n",
       "      <td>-0.022068</td>\n",
       "      <td>-0.049329</td>\n",
       "      <td>-1.360832</td>\n",
       "    </tr>\n",
       "    <tr>\n",
       "      <th>29412</th>\n",
       "      <td>0.917878</td>\n",
       "      <td>-1.068396</td>\n",
       "      <td>1.493249</td>\n",
       "    </tr>\n",
       "    <tr>\n",
       "      <th>...</th>\n",
       "      <td>...</td>\n",
       "      <td>...</td>\n",
       "      <td>...</td>\n",
       "    </tr>\n",
       "    <tr>\n",
       "      <th>13123</th>\n",
       "      <td>-1.677761</td>\n",
       "      <td>-1.602093</td>\n",
       "      <td>-0.409472</td>\n",
       "    </tr>\n",
       "    <tr>\n",
       "      <th>19648</th>\n",
       "      <td>0.253005</td>\n",
       "      <td>-0.367788</td>\n",
       "      <td>0.541889</td>\n",
       "    </tr>\n",
       "    <tr>\n",
       "      <th>9845</th>\n",
       "      <td>-0.583430</td>\n",
       "      <td>0.141746</td>\n",
       "      <td>-0.726592</td>\n",
       "    </tr>\n",
       "    <tr>\n",
       "      <th>10799</th>\n",
       "      <td>1.599377</td>\n",
       "      <td>1.520386</td>\n",
       "      <td>-0.409472</td>\n",
       "    </tr>\n",
       "    <tr>\n",
       "      <th>2732</th>\n",
       "      <td>0.639460</td>\n",
       "      <td>1.479271</td>\n",
       "      <td>-1.043712</td>\n",
       "    </tr>\n",
       "  </tbody>\n",
       "</table>\n",
       "<p>28472 rows × 3 columns</p>\n",
       "</div>"
      ],
      "text/plain": [
       "            x座標       y座標      V[V]\n",
       "17676 -1.063164  0.480150  0.224769\n",
       "30131 -0.569786 -1.450546  1.493249\n",
       "11031  1.284606  0.764567 -0.409472\n",
       "6840  -0.022068 -0.049329 -1.360832\n",
       "29412  0.917878 -1.068396  1.493249\n",
       "...         ...       ...       ...\n",
       "13123 -1.677761 -1.602093 -0.409472\n",
       "19648  0.253005 -0.367788  0.541889\n",
       "9845  -0.583430  0.141746 -0.726592\n",
       "10799  1.599377  1.520386 -0.409472\n",
       "2732   0.639460  1.479271 -1.043712\n",
       "\n",
       "[28472 rows x 3 columns]"
      ]
     },
     "execution_count": 24,
     "metadata": {},
     "output_type": "execute_result"
    }
   ],
   "source": [
    "x_train"
   ]
  },
  {
   "cell_type": "code",
   "execution_count": 25,
   "id": "5f2b908c",
   "metadata": {},
   "outputs": [
    {
     "data": {
      "text/html": [
       "<div>\n",
       "<style scoped>\n",
       "    .dataframe tbody tr th:only-of-type {\n",
       "        vertical-align: middle;\n",
       "    }\n",
       "\n",
       "    .dataframe tbody tr th {\n",
       "        vertical-align: top;\n",
       "    }\n",
       "\n",
       "    .dataframe thead th {\n",
       "        text-align: right;\n",
       "    }\n",
       "</style>\n",
       "<table border=\"1\" class=\"dataframe\">\n",
       "  <thead>\n",
       "    <tr style=\"text-align: right;\">\n",
       "      <th></th>\n",
       "      <th>i[A/m^2]</th>\n",
       "    </tr>\n",
       "  </thead>\n",
       "  <tbody>\n",
       "    <tr>\n",
       "      <th>17676</th>\n",
       "      <td>10645.112701</td>\n",
       "    </tr>\n",
       "    <tr>\n",
       "      <th>30131</th>\n",
       "      <td>3892.976104</td>\n",
       "    </tr>\n",
       "    <tr>\n",
       "      <th>11031</th>\n",
       "      <td>12150.073859</td>\n",
       "    </tr>\n",
       "    <tr>\n",
       "      <th>6840</th>\n",
       "      <td>22224.832162</td>\n",
       "    </tr>\n",
       "    <tr>\n",
       "      <th>29412</th>\n",
       "      <td>3604.965635</td>\n",
       "    </tr>\n",
       "    <tr>\n",
       "      <th>...</th>\n",
       "      <td>...</td>\n",
       "    </tr>\n",
       "    <tr>\n",
       "      <th>13123</th>\n",
       "      <td>20304.521017</td>\n",
       "    </tr>\n",
       "    <tr>\n",
       "      <th>19648</th>\n",
       "      <td>8716.890925</td>\n",
       "    </tr>\n",
       "    <tr>\n",
       "      <th>9845</th>\n",
       "      <td>19889.231930</td>\n",
       "    </tr>\n",
       "    <tr>\n",
       "      <th>10799</th>\n",
       "      <td>11567.613347</td>\n",
       "    </tr>\n",
       "    <tr>\n",
       "      <th>2732</th>\n",
       "      <td>12811.147088</td>\n",
       "    </tr>\n",
       "  </tbody>\n",
       "</table>\n",
       "<p>28472 rows × 1 columns</p>\n",
       "</div>"
      ],
      "text/plain": [
       "           i[A/m^2]\n",
       "17676  10645.112701\n",
       "30131   3892.976104\n",
       "11031  12150.073859\n",
       "6840   22224.832162\n",
       "29412   3604.965635\n",
       "...             ...\n",
       "13123  20304.521017\n",
       "19648   8716.890925\n",
       "9845   19889.231930\n",
       "10799  11567.613347\n",
       "2732   12811.147088\n",
       "\n",
       "[28472 rows x 1 columns]"
      ]
     },
     "execution_count": 25,
     "metadata": {},
     "output_type": "execute_result"
    }
   ],
   "source": [
    "y_train"
   ]
  },
  {
   "cell_type": "code",
   "execution_count": 33,
   "id": "e8453f27",
   "metadata": {},
   "outputs": [],
   "source": [
    "from tensorflow.keras.models import Sequential\n",
    "from tensorflow.keras.layers import Dense, Activation\n",
    "from tensorflow.keras import regularizers, initializers\n",
    "model = Sequential()\n",
    "\n",
    "model.add(Dense(units=32, input_shape=(3,), activation='tanh'))  \n",
    "model.add(Dense(units=10, activation='tanh'))  #xとyが-1～1なのでtanh\n",
    "model.add(Dense(units=10, activation='tanh'))\n",
    "model.add(Dense(units=1, activation='linear'))  #隠れ層3層でやってみる\n",
    "\n",
    "model.compile(loss='mean_squared_error',    #出力は?連続値?なので平均二乗誤差\n",
    "              optimizer='adam',             #とりあえずadamで\n",
    "              metrics=['mse'])"
   ]
  },
  {
   "cell_type": "code",
   "execution_count": 34,
   "id": "232c27be",
   "metadata": {},
   "outputs": [
    {
     "name": "stdout",
     "output_type": "stream",
     "text": [
      "Train on 28472 samples, validate on 3164 samples\n",
      "Epoch 1/20\n",
      "28472/28472 [==============================] - 1s 27us/sample - loss: 188876346.9064 - mse: 188876320.0000 - val_loss: 187724281.5879 - val_mse: 187724288.0000\n",
      "Epoch 2/20\n",
      "28472/28472 [==============================] - 0s 11us/sample - loss: 188775414.5367 - mse: 188775408.0000 - val_loss: 187660843.1454 - val_mse: 187660848.0000\n",
      "Epoch 3/20\n",
      "28472/28472 [==============================] - 0s 10us/sample - loss: 188724560.7193 - mse: 188724512.0000 - val_loss: 187615639.5449 - val_mse: 187615648.0000\n",
      "Epoch 4/20\n",
      "28472/28472 [==============================] - 0s 9us/sample - loss: 188680878.2872 - mse: 188680864.0000 - val_loss: 187573397.8458 - val_mse: 187573392.0000\n",
      "Epoch 5/20\n",
      "28472/28472 [==============================] - 0s 10us/sample - loss: 188639194.4074 - mse: 188639136.0000 - val_loss: 187532502.4324 - val_mse: 187532512.0000\n",
      "Epoch 6/20\n",
      "28472/28472 [==============================] - 0s 11us/sample - loss: 188598554.1287 - mse: 188598576.0000 - val_loss: 187492433.0316 - val_mse: 187492448.0000\n",
      "Epoch 7/20\n",
      "28472/28472 [==============================] - 0s 10us/sample - loss: 188558515.4257 - mse: 188558592.0000 - val_loss: 187452798.1997 - val_mse: 187452800.0000\n",
      "Epoch 8/20\n",
      "28472/28472 [==============================] - 0s 10us/sample - loss: 188518875.9225 - mse: 188518848.0000 - val_loss: 187413495.6865 - val_mse: 187413504.0000\n",
      "Epoch 9/20\n",
      "28472/28472 [==============================] - 0s 9us/sample - loss: 188479541.0531 - mse: 188479536.0000 - val_loss: 187374493.6738 - val_mse: 187374480.0000\n",
      "Epoch 10/20\n",
      "28472/28472 [==============================] - 0s 9us/sample - loss: 188440439.4718 - mse: 188440432.0000 - val_loss: 187335615.4336 - val_mse: 187335616.0000\n",
      "Epoch 11/20\n",
      "28472/28472 [==============================] - 0s 10us/sample - loss: 188401474.2838 - mse: 188401456.0000 - val_loss: 187296893.5120 - val_mse: 187296912.0000\n",
      "Epoch 12/20\n",
      "28472/28472 [==============================] - 0s 10us/sample - loss: 188362650.3490 - mse: 188362640.0000 - val_loss: 187258323.8635 - val_mse: 187258304.0000\n",
      "Epoch 13/20\n",
      "28472/28472 [==============================] - 0s 10us/sample - loss: 188323943.4583 - mse: 188323856.0000 - val_loss: 187219849.5676 - val_mse: 187219840.0000\n",
      "Epoch 14/20\n",
      "28472/28472 [==============================] - 0s 10us/sample - loss: 188285333.8578 - mse: 188285328.0000 - val_loss: 187181448.0101 - val_mse: 187181424.0000\n",
      "Epoch 15/20\n",
      "28472/28472 [==============================] - 0s 10us/sample - loss: 188246794.3355 - mse: 188246832.0000 - val_loss: 187143079.4640 - val_mse: 187143088.0000\n",
      "Epoch 16/20\n",
      "28472/28472 [==============================] - 0s 12us/sample - loss: 188208311.7100 - mse: 188208304.0000 - val_loss: 187104785.0316 - val_mse: 187104784.0000\n",
      "Epoch 17/20\n",
      "28472/28472 [==============================] - 0s 10us/sample - loss: 188169858.2568 - mse: 188169840.0000 - val_loss: 187066547.8837 - val_mse: 187066544.0000\n",
      "Epoch 18/20\n",
      "28472/28472 [==============================] - 0s 10us/sample - loss: 188131457.5645 - mse: 188131440.0000 - val_loss: 187028321.3148 - val_mse: 187028304.0000\n",
      "Epoch 19/20\n",
      "28472/28472 [==============================] - 0s 9us/sample - loss: 188093116.6373 - mse: 188093152.0000 - val_loss: 186990195.1555 - val_mse: 186990192.0000\n",
      "Epoch 20/20\n",
      "28472/28472 [==============================] - 0s 10us/sample - loss: 188054791.6606 - mse: 188054784.0000 - val_loss: 186952063.9393 - val_mse: 186952064.0000\n"
     ]
    }
   ],
   "source": [
    "history = model.fit(x=x_train,\n",
    "                     y=y_train,\n",
    "                     epochs=20,\n",
    "                     batch_size=200,\n",
    "                     verbose=1,\n",
    "                     validation_data=(x_test, y_test))"
   ]
  },
  {
   "cell_type": "code",
   "execution_count": 35,
   "id": "a2093c05",
   "metadata": {},
   "outputs": [
    {
     "data": {
      "text/plain": [
       "dict_keys(['loss', 'mse', 'val_loss', 'val_mse'])"
      ]
     },
     "execution_count": 35,
     "metadata": {},
     "output_type": "execute_result"
    }
   ],
   "source": [
    "history_dict = history.history\n",
    "history_dict.keys()"
   ]
  },
  {
   "cell_type": "code",
   "execution_count": 39,
   "id": "dc9f31d6",
   "metadata": {},
   "outputs": [
    {
     "data": {
      "image/png": "[encoded data removed]",
      "text/plain": [
       "<Figure size 864x576 with 1 Axes>"
      ]
     },
     "metadata": {
      "needs_background": "light"
     },
     "output_type": "display_data"
    }
   ],
   "source": [
    "mse = history_dict['mse']\n",
    "val_mse = history_dict['val_mse']\n",
    "epochs = range(1, len(mse) + 1)\n",
    "\n",
    "plt.figure(figsize=(12, 8))\n",
    "plt.plot(epochs, mse, label='mse')\n",
    "plt.plot(epochs, val_mse, label='val_mse')\n",
    "plt.ylim((1e8,2e8))\n",
    "plt.legend(loc = 'best')\n",
    "plt.show()"
   ]
  },
  {
   "cell_type": "code",
   "execution_count": null,
   "id": "c937eb63",
   "metadata": {},
   "outputs": [],
   "source": []
  }
 ],
 "metadata": {
  "kernelspec": {
   "display_name": "Python 3",
   "language": "python",
   "name": "python3"
  },
  "language_info": {
   "codemirror_mode": {
    "name": "ipython",
    "version": 3
   },
   "file_extension": ".py",
   "mimetype": "text/x-python",
   "name": "python",
   "nbconvert_exporter": "python",
   "pygments_lexer": "ipython3",
   "version": "3.6.13"
  }
 },
 "nbformat": 4,
 "nbformat_minor": 5
}
