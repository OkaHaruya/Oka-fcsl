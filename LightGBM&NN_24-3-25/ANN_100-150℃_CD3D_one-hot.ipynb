{
 "cells": [
  {
   "cell_type": "code",
   "execution_count": 1,
   "id": "ce7824c4",
   "metadata": {},
   "outputs": [],
   "source": [
    "import warnings\n",
    "warnings.simplefilter('ignore', FutureWarning)"
   ]
  },
  {
   "cell_type": "code",
   "execution_count": 2,
   "id": "eab3a947",
   "metadata": {},
   "outputs": [],
   "source": [
    "import tensorflow as tf\n",
    "import numpy as np\n",
    "import matplotlib.pyplot as plt\n",
    "import pandas as pd\n",
    "import sklearn \n",
    "import time"
   ]
  },
  {
   "cell_type": "code",
   "execution_count": 3,
   "id": "5753432b",
   "metadata": {},
   "outputs": [],
   "source": [
    "#from tensorflow.keras import models\n",
    "#from tensorflow.keras import layers\n",
    "from sklearn.model_selection import train_test_split"
   ]
  },
  {
   "cell_type": "code",
   "execution_count": 5,
   "id": "61385086",
   "metadata": {},
   "outputs": [],
   "source": [
    "df_input = pd.read_csv(\"CD3D_one-hot_std\", usecols=[1,2,3,4,5,6,7,8] )"
   ]
  },
  {
   "cell_type": "code",
   "execution_count": 6,
   "id": "bee2e1cb",
   "metadata": {},
   "outputs": [],
   "source": [
    "df_output = pd. read_csv(\"CD3D_one-hot\", usecols=[9])"
   ]
  },
  {
   "cell_type": "code",
   "execution_count": 7,
   "id": "6aa258fc",
   "metadata": {},
   "outputs": [
    {
     "data": {
      "text/plain": [
       "(5880000, 8)"
      ]
     },
     "execution_count": 7,
     "metadata": {},
     "output_type": "execute_result"
    }
   ],
   "source": [
    "df_input.shape #0.45V20℃1.5ms1.6mmと0.65V130℃1.5ms1.6mmのデータなし"
   ]
  },
  {
   "cell_type": "code",
   "execution_count": 8,
   "id": "0c9360c2",
   "metadata": {},
   "outputs": [
    {
     "data": {
      "text/plain": [
       "(5880000, 1)"
      ]
     },
     "execution_count": 8,
     "metadata": {},
     "output_type": "execute_result"
    }
   ],
   "source": [
    "df_output.shape"
   ]
  },
  {
   "cell_type": "code",
   "execution_count": 9,
   "id": "67c463de",
   "metadata": {},
   "outputs": [],
   "source": [
    "x_train, x_test, y_train, y_test = train_test_split(df_input, df_output, test_size=0.1, random_state=0)"
   ]
  },
  {
   "cell_type": "code",
   "execution_count": 10,
   "id": "9b16ab26",
   "metadata": {},
   "outputs": [
    {
     "name": "stdout",
     "output_type": "stream",
     "text": [
      "(5292000, 8) (588000, 8)\n"
     ]
    }
   ],
   "source": [
    "print(x_train.shape,x_test.shape)"
   ]
  },
  {
   "cell_type": "code",
   "execution_count": 11,
   "id": "e2036ac2",
   "metadata": {},
   "outputs": [
    {
     "data": {
      "text/html": [
       "<div>\n",
       "<style scoped>\n",
       "    .dataframe tbody tr th:only-of-type {\n",
       "        vertical-align: middle;\n",
       "    }\n",
       "\n",
       "    .dataframe tbody tr th {\n",
       "        vertical-align: top;\n",
       "    }\n",
       "\n",
       "    .dataframe thead th {\n",
       "        text-align: right;\n",
       "    }\n",
       "</style>\n",
       "<table border=\"1\" class=\"dataframe\">\n",
       "  <thead>\n",
       "    <tr style=\"text-align: right;\">\n",
       "      <th></th>\n",
       "      <th>x座標</th>\n",
       "      <th>y座標</th>\n",
       "      <th>z座標</th>\n",
       "      <th>V[V]</th>\n",
       "      <th>T_cell[℃]</th>\n",
       "      <th>W_ch[mm]_0.4</th>\n",
       "      <th>W_ch[mm]_0.8</th>\n",
       "      <th>W_ch[mm]_1.6</th>\n",
       "    </tr>\n",
       "  </thead>\n",
       "  <tbody>\n",
       "    <tr>\n",
       "      <th>5471191</th>\n",
       "      <td>-0.069578</td>\n",
       "      <td>-0.570213</td>\n",
       "      <td>-0.139521</td>\n",
       "      <td>1.257201</td>\n",
       "      <td>1.453669</td>\n",
       "      <td>0</td>\n",
       "      <td>1</td>\n",
       "      <td>0</td>\n",
       "    </tr>\n",
       "    <tr>\n",
       "      <th>2868884</th>\n",
       "      <td>-0.194979</td>\n",
       "      <td>0.126826</td>\n",
       "      <td>-0.656985</td>\n",
       "      <td>0.941289</td>\n",
       "      <td>-0.297883</td>\n",
       "      <td>0</td>\n",
       "      <td>0</td>\n",
       "      <td>1</td>\n",
       "    </tr>\n",
       "    <tr>\n",
       "      <th>5733272</th>\n",
       "      <td>1.727839</td>\n",
       "      <td>-0.619956</td>\n",
       "      <td>-1.429954</td>\n",
       "      <td>0.625377</td>\n",
       "      <td>1.453669</td>\n",
       "      <td>0</td>\n",
       "      <td>0</td>\n",
       "      <td>1</td>\n",
       "    </tr>\n",
       "    <tr>\n",
       "      <th>200929</th>\n",
       "      <td>-0.792724</td>\n",
       "      <td>0.229164</td>\n",
       "      <td>1.567722</td>\n",
       "      <td>0.625377</td>\n",
       "      <td>-1.465584</td>\n",
       "      <td>1</td>\n",
       "      <td>0</td>\n",
       "      <td>0</td>\n",
       "    </tr>\n",
       "    <tr>\n",
       "      <th>90277</th>\n",
       "      <td>-0.174079</td>\n",
       "      <td>-0.506846</td>\n",
       "      <td>1.408998</td>\n",
       "      <td>-0.954184</td>\n",
       "      <td>-1.465584</td>\n",
       "      <td>1</td>\n",
       "      <td>0</td>\n",
       "      <td>0</td>\n",
       "    </tr>\n",
       "    <tr>\n",
       "      <th>...</th>\n",
       "      <td>...</td>\n",
       "      <td>...</td>\n",
       "      <td>...</td>\n",
       "      <td>...</td>\n",
       "      <td>...</td>\n",
       "      <td>...</td>\n",
       "      <td>...</td>\n",
       "      <td>...</td>\n",
       "    </tr>\n",
       "    <tr>\n",
       "      <th>2249467</th>\n",
       "      <td>0.110164</td>\n",
       "      <td>1.520903</td>\n",
       "      <td>1.056710</td>\n",
       "      <td>0.941289</td>\n",
       "      <td>-0.297883</td>\n",
       "      <td>1</td>\n",
       "      <td>0</td>\n",
       "      <td>0</td>\n",
       "    </tr>\n",
       "    <tr>\n",
       "      <th>5157699</th>\n",
       "      <td>-0.658963</td>\n",
       "      <td>1.013966</td>\n",
       "      <td>1.150912</td>\n",
       "      <td>1.257201</td>\n",
       "      <td>1.453669</td>\n",
       "      <td>1</td>\n",
       "      <td>0</td>\n",
       "      <td>0</td>\n",
       "    </tr>\n",
       "    <tr>\n",
       "      <th>2215104</th>\n",
       "      <td>-1.277609</td>\n",
       "      <td>0.687308</td>\n",
       "      <td>1.110908</td>\n",
       "      <td>1.257201</td>\n",
       "      <td>-0.297883</td>\n",
       "      <td>1</td>\n",
       "      <td>0</td>\n",
       "      <td>0</td>\n",
       "    </tr>\n",
       "    <tr>\n",
       "      <th>1484405</th>\n",
       "      <td>0.181225</td>\n",
       "      <td>0.269402</td>\n",
       "      <td>-0.494390</td>\n",
       "      <td>-0.322359</td>\n",
       "      <td>-0.881734</td>\n",
       "      <td>0</td>\n",
       "      <td>1</td>\n",
       "      <td>0</td>\n",
       "    </tr>\n",
       "    <tr>\n",
       "      <th>4500015</th>\n",
       "      <td>1.109193</td>\n",
       "      <td>1.451832</td>\n",
       "      <td>-0.397608</td>\n",
       "      <td>0.941289</td>\n",
       "      <td>0.869818</td>\n",
       "      <td>0</td>\n",
       "      <td>1</td>\n",
       "      <td>0</td>\n",
       "    </tr>\n",
       "  </tbody>\n",
       "</table>\n",
       "<p>5292000 rows × 8 columns</p>\n",
       "</div>"
      ],
      "text/plain": [
       "              x座標       y座標       z座標      V[V]  T_cell[℃]  W_ch[mm]_0.4  \\\n",
       "5471191 -0.069578 -0.570213 -0.139521  1.257201   1.453669             0   \n",
       "2868884 -0.194979  0.126826 -0.656985  0.941289  -0.297883             0   \n",
       "5733272  1.727839 -0.619956 -1.429954  0.625377   1.453669             0   \n",
       "200929  -0.792724  0.229164  1.567722  0.625377  -1.465584             1   \n",
       "90277   -0.174079 -0.506846  1.408998 -0.954184  -1.465584             1   \n",
       "...           ...       ...       ...       ...        ...           ...   \n",
       "2249467  0.110164  1.520903  1.056710  0.941289  -0.297883             1   \n",
       "5157699 -0.658963  1.013966  1.150912  1.257201   1.453669             1   \n",
       "2215104 -1.277609  0.687308  1.110908  1.257201  -0.297883             1   \n",
       "1484405  0.181225  0.269402 -0.494390 -0.322359  -0.881734             0   \n",
       "4500015  1.109193  1.451832 -0.397608  0.941289   0.869818             0   \n",
       "\n",
       "         W_ch[mm]_0.8  W_ch[mm]_1.6  \n",
       "5471191             1             0  \n",
       "2868884             0             1  \n",
       "5733272             0             1  \n",
       "200929              0             0  \n",
       "90277               0             0  \n",
       "...               ...           ...  \n",
       "2249467             0             0  \n",
       "5157699             0             0  \n",
       "2215104             0             0  \n",
       "1484405             1             0  \n",
       "4500015             1             0  \n",
       "\n",
       "[5292000 rows x 8 columns]"
      ]
     },
     "execution_count": 11,
     "metadata": {},
     "output_type": "execute_result"
    }
   ],
   "source": [
    "x_train"
   ]
  },
  {
   "cell_type": "code",
   "execution_count": 12,
   "id": "5f2b908c",
   "metadata": {},
   "outputs": [
    {
     "data": {
      "text/html": [
       "<div>\n",
       "<style scoped>\n",
       "    .dataframe tbody tr th:only-of-type {\n",
       "        vertical-align: middle;\n",
       "    }\n",
       "\n",
       "    .dataframe tbody tr th {\n",
       "        vertical-align: top;\n",
       "    }\n",
       "\n",
       "    .dataframe thead th {\n",
       "        text-align: right;\n",
       "    }\n",
       "</style>\n",
       "<table border=\"1\" class=\"dataframe\">\n",
       "  <thead>\n",
       "    <tr style=\"text-align: right;\">\n",
       "      <th></th>\n",
       "      <th>i[A/m^2]</th>\n",
       "    </tr>\n",
       "  </thead>\n",
       "  <tbody>\n",
       "    <tr>\n",
       "      <th>5471191</th>\n",
       "      <td>3193.395506</td>\n",
       "    </tr>\n",
       "    <tr>\n",
       "      <th>2868884</th>\n",
       "      <td>1833.576864</td>\n",
       "    </tr>\n",
       "    <tr>\n",
       "      <th>5733272</th>\n",
       "      <td>5049.719448</td>\n",
       "    </tr>\n",
       "    <tr>\n",
       "      <th>200929</th>\n",
       "      <td>2450.012296</td>\n",
       "    </tr>\n",
       "    <tr>\n",
       "      <th>90277</th>\n",
       "      <td>14160.899682</td>\n",
       "    </tr>\n",
       "    <tr>\n",
       "      <th>...</th>\n",
       "      <td>...</td>\n",
       "    </tr>\n",
       "    <tr>\n",
       "      <th>2249467</th>\n",
       "      <td>2664.900433</td>\n",
       "    </tr>\n",
       "    <tr>\n",
       "      <th>5157699</th>\n",
       "      <td>3588.543249</td>\n",
       "    </tr>\n",
       "    <tr>\n",
       "      <th>2215104</th>\n",
       "      <td>1342.625145</td>\n",
       "    </tr>\n",
       "    <tr>\n",
       "      <th>1484405</th>\n",
       "      <td>8230.383981</td>\n",
       "    </tr>\n",
       "    <tr>\n",
       "      <th>4500015</th>\n",
       "      <td>4485.451221</td>\n",
       "    </tr>\n",
       "  </tbody>\n",
       "</table>\n",
       "<p>5292000 rows × 1 columns</p>\n",
       "</div>"
      ],
      "text/plain": [
       "             i[A/m^2]\n",
       "5471191   3193.395506\n",
       "2868884   1833.576864\n",
       "5733272   5049.719448\n",
       "200929    2450.012296\n",
       "90277    14160.899682\n",
       "...               ...\n",
       "2249467   2664.900433\n",
       "5157699   3588.543249\n",
       "2215104   1342.625145\n",
       "1484405   8230.383981\n",
       "4500015   4485.451221\n",
       "\n",
       "[5292000 rows x 1 columns]"
      ]
     },
     "execution_count": 12,
     "metadata": {},
     "output_type": "execute_result"
    }
   ],
   "source": [
    "y_train"
   ]
  },
  {
   "cell_type": "code",
   "execution_count": 13,
   "id": "e8453f27",
   "metadata": {},
   "outputs": [],
   "source": [
    "from tensorflow.keras.models import Sequential\n",
    "from tensorflow.keras.layers import Dense, Activation\n",
    "from tensorflow.keras import regularizers, initializers\n",
    "\n",
    "model = Sequential()\n",
    "\n",
    "weights = [com.get_weights() for com in model.layers[0:]]  \n",
    "\n",
    "model.add(Dense(units=32, input_shape=(8,), activation='relu'))  \n",
    "model.add(Dense(units=10, activation='relu'))  \n",
    "model.add(Dense(units=10, activation='relu'))\n",
    "model.add(Dense(units=1, activation='linear'))  #隠れ層3層でやってみる\n",
    "\n",
    "model.compile(loss='mean_absolute_error',    \n",
    "              optimizer='adam',             #とりあえずadamで\n",
    "              metrics=['mae'],\n",
    "              run_eagerly=False)   #計算時間5倍くらいかかる"
   ]
  },
  {
   "cell_type": "code",
   "execution_count": 14,
   "id": "232c27be",
   "metadata": {},
   "outputs": [
    {
     "name": "stdout",
     "output_type": "stream",
     "text": [
      "Epoch 1/20000\n",
      "26460/26460 [==============================] - 114s 4ms/step - loss: 657.6004 - mae: 657.6004 - val_loss: 291.0118 - val_mae: 291.0118 - lr: 0.0010\n",
      "Epoch 2/20000\n",
      "26460/26460 [==============================] - 104s 4ms/step - loss: 224.8413 - mae: 224.8413 - val_loss: 189.2511 - val_mae: 189.2511 - lr: 0.0010\n",
      "Epoch 3/20000\n",
      "26460/26460 [==============================] - 103s 4ms/step - loss: 178.7345 - mae: 178.7345 - val_loss: 171.4428 - val_mae: 171.4428 - lr: 0.0010\n",
      "Epoch 4/20000\n",
      "26460/26460 [==============================] - 97s 4ms/step - loss: 169.3211 - mae: 169.3211 - val_loss: 165.3257 - val_mae: 165.3257 - lr: 0.0010\n",
      "Epoch 5/20000\n",
      "26460/26460 [==============================] - 93s 4ms/step - loss: 160.7853 - mae: 160.7853 - val_loss: 155.6922 - val_mae: 155.6922 - lr: 0.0010\n",
      "Epoch 6/20000\n",
      "26460/26460 [==============================] - 96s 4ms/step - loss: 153.4875 - mae: 153.4875 - val_loss: 149.8104 - val_mae: 149.8104 - lr: 0.0010\n",
      "Epoch 7/20000\n",
      "26460/26460 [==============================] - 94s 4ms/step - loss: 147.2972 - mae: 147.2972 - val_loss: 140.1110 - val_mae: 140.1110 - lr: 0.0010\n",
      "Epoch 8/20000\n",
      "26460/26460 [==============================] - 99s 4ms/step - loss: 136.6673 - mae: 136.6673 - val_loss: 132.7808 - val_mae: 132.7808 - lr: 0.0010\n",
      "Epoch 9/20000\n",
      "26460/26460 [==============================] - 115s 4ms/step - loss: 133.1333 - mae: 133.1333 - val_loss: 129.6858 - val_mae: 129.6858 - lr: 0.0010\n",
      "Epoch 10/20000\n",
      "26460/26460 [==============================] - 107s 4ms/step - loss: 130.2830 - mae: 130.2830 - val_loss: 127.4144 - val_mae: 127.4144 - lr: 0.0010\n",
      "Epoch 11/20000\n",
      "26460/26460 [==============================] - 110s 4ms/step - loss: 127.4358 - mae: 127.4358 - val_loss: 124.2858 - val_mae: 124.2858 - lr: 0.0010\n",
      "Epoch 12/20000\n",
      "26460/26460 [==============================] - 101s 4ms/step - loss: 124.2089 - mae: 124.2089 - val_loss: 123.6290 - val_mae: 123.6290 - lr: 0.0010\n",
      "Epoch 13/20000\n",
      "26460/26460 [==============================] - 107s 4ms/step - loss: 120.2254 - mae: 120.2254 - val_loss: 116.7397 - val_mae: 116.7397 - lr: 0.0010\n",
      "Epoch 14/20000\n",
      "26460/26460 [==============================] - 111s 4ms/step - loss: 117.1281 - mae: 117.1281 - val_loss: 116.1351 - val_mae: 116.1351 - lr: 0.0010\n",
      "Epoch 15/20000\n",
      "26460/26460 [==============================] - 118s 4ms/step - loss: 114.8213 - mae: 114.8213 - val_loss: 112.2986 - val_mae: 112.2986 - lr: 0.0010\n",
      "Epoch 16/20000\n",
      "26460/26460 [==============================] - 109s 4ms/step - loss: 113.2747 - mae: 113.2747 - val_loss: 111.6830 - val_mae: 111.6830 - lr: 0.0010\n",
      "Epoch 17/20000\n",
      "26460/26460 [==============================] - 115s 4ms/step - loss: 111.9991 - mae: 111.9991 - val_loss: 112.8730 - val_mae: 112.8730 - lr: 0.0010\n",
      "Epoch 18/20000\n",
      "26460/26460 [==============================] - 89s 3ms/step - loss: 110.7134 - mae: 110.7134 - val_loss: 109.9177 - val_mae: 109.9177 - lr: 0.0010\n",
      "Epoch 19/20000\n",
      "26460/26460 [==============================] - 111s 4ms/step - loss: 109.3546 - mae: 109.3546 - val_loss: 108.7768 - val_mae: 108.7768 - lr: 0.0010\n",
      "Epoch 20/20000\n",
      "26460/26460 [==============================] - 114s 4ms/step - loss: 108.5194 - mae: 108.5194 - val_loss: 107.1195 - val_mae: 107.1195 - lr: 0.0010\n",
      "Epoch 21/20000\n",
      "26460/26460 [==============================] - 115s 4ms/step - loss: 107.7155 - mae: 107.7155 - val_loss: 107.3493 - val_mae: 107.3493 - lr: 0.0010\n",
      "Epoch 22/20000\n",
      "26460/26460 [==============================] - 109s 4ms/step - loss: 106.8566 - mae: 106.8566 - val_loss: 105.0413 - val_mae: 105.0413 - lr: 0.0010\n",
      "Epoch 23/20000\n",
      "26460/26460 [==============================] - 98s 4ms/step - loss: 106.0614 - mae: 106.0614 - val_loss: 106.3064 - val_mae: 106.3064 - lr: 0.0010\n",
      "Epoch 24/20000\n",
      "26460/26460 [==============================] - 100s 4ms/step - loss: 105.0930 - mae: 105.0930 - val_loss: 103.7165 - val_mae: 103.7165 - lr: 0.0010\n",
      "Epoch 25/20000\n",
      "26460/26460 [==============================] - 106s 4ms/step - loss: 103.5934 - mae: 103.5934 - val_loss: 103.3583 - val_mae: 103.3583 - lr: 0.0010\n",
      "Epoch 26/20000\n",
      "26460/26460 [==============================] - 119s 4ms/step - loss: 95.7075 - mae: 95.7075 - val_loss: 84.4376 - val_mae: 84.4376 - lr: 0.0010\n",
      "Epoch 27/20000\n",
      "26460/26460 [==============================] - 115s 4ms/step - loss: 83.5290 - mae: 83.5290 - val_loss: 84.8418 - val_mae: 84.8418 - lr: 0.0010\n",
      "Epoch 28/20000\n",
      "26460/26460 [==============================] - 113s 4ms/step - loss: 81.4408 - mae: 81.4408 - val_loss: 81.2571 - val_mae: 81.2571 - lr: 0.0010\n",
      "Epoch 29/20000\n",
      "26460/26460 [==============================] - 114s 4ms/step - loss: 80.4189 - mae: 80.4189 - val_loss: 79.7568 - val_mae: 79.7568 - lr: 0.0010\n",
      "Epoch 30/20000\n",
      "26460/26460 [==============================] - 100s 4ms/step - loss: 79.6109 - mae: 79.6109 - val_loss: 78.6199 - val_mae: 78.6199 - lr: 0.0010\n",
      "Epoch 31/20000\n",
      "26460/26460 [==============================] - 92s 3ms/step - loss: 78.8709 - mae: 78.8709 - val_loss: 77.3155 - val_mae: 77.3155 - lr: 0.0010\n",
      "Epoch 32/20000\n",
      "26460/26460 [==============================] - 91s 3ms/step - loss: 78.0138 - mae: 78.0138 - val_loss: 77.7807 - val_mae: 77.7807 - lr: 0.0010\n",
      "Epoch 33/20000\n",
      "26460/26460 [==============================] - 91s 3ms/step - loss: 77.3335 - mae: 77.3335 - val_loss: 75.4156 - val_mae: 75.4156 - lr: 0.0010\n",
      "Epoch 34/20000\n",
      "26460/26460 [==============================] - 87s 3ms/step - loss: 76.8166 - mae: 76.8166 - val_loss: 77.7945 - val_mae: 77.7945 - lr: 0.0010\n",
      "Epoch 35/20000\n",
      "26460/26460 [==============================] - 94s 4ms/step - loss: 76.4307 - mae: 76.4307 - val_loss: 84.4523 - val_mae: 84.4523 - lr: 0.0010\n",
      "Epoch 36/20000\n",
      "26460/26460 [==============================] - 120s 5ms/step - loss: 76.0886 - mae: 76.0886 - val_loss: 74.0854 - val_mae: 74.0854 - lr: 0.0010\n",
      "Epoch 37/20000\n",
      "26460/26460 [==============================] - 143s 5ms/step - loss: 75.8027 - mae: 75.8027 - val_loss: 74.3479 - val_mae: 74.3479 - lr: 0.0010\n",
      "Epoch 38/20000\n",
      "26460/26460 [==============================] - 139s 5ms/step - loss: 75.5033 - mae: 75.5033 - val_loss: 75.7297 - val_mae: 75.7297 - lr: 0.0010\n",
      "Epoch 39/20000\n",
      "26460/26460 [==============================] - 146s 6ms/step - loss: 75.2999 - mae: 75.2999 - val_loss: 75.8939 - val_mae: 75.8939 - lr: 0.0010\n",
      "Epoch 40/20000\n",
      "26460/26460 [==============================] - 122s 5ms/step - loss: 75.0244 - mae: 75.0244 - val_loss: 73.6882 - val_mae: 73.6882 - lr: 0.0010\n",
      "Epoch 41/20000\n",
      "26460/26460 [==============================] - 101s 4ms/step - loss: 74.8604 - mae: 74.8604 - val_loss: 78.4392 - val_mae: 78.4392 - lr: 0.0010\n",
      "Epoch 42/20000\n",
      "26460/26460 [==============================] - 106s 4ms/step - loss: 74.6359 - mae: 74.6359 - val_loss: 72.7273 - val_mae: 72.7273 - lr: 0.0010\n",
      "Epoch 43/20000\n",
      "26460/26460 [==============================] - 102s 4ms/step - loss: 74.4499 - mae: 74.4499 - val_loss: 73.8865 - val_mae: 73.8865 - lr: 0.0010\n",
      "Epoch 44/20000\n",
      "26460/26460 [==============================] - 98s 4ms/step - loss: 74.1963 - mae: 74.1963 - val_loss: 72.8462 - val_mae: 72.8462 - lr: 0.0010\n",
      "Epoch 45/20000\n",
      "26460/26460 [==============================] - 110s 4ms/step - loss: 74.0234 - mae: 74.0234 - val_loss: 72.2062 - val_mae: 72.2062 - lr: 0.0010\n",
      "Epoch 46/20000\n",
      "26460/26460 [==============================] - 103s 4ms/step - loss: 73.8225 - mae: 73.8225 - val_loss: 72.2196 - val_mae: 72.2196 - lr: 0.0010\n",
      "Epoch 47/20000\n",
      "26460/26460 [==============================] - 109s 4ms/step - loss: 73.6494 - mae: 73.6495 - val_loss: 73.1813 - val_mae: 73.1813 - lr: 0.0010\n",
      "Epoch 48/20000\n",
      "26460/26460 [==============================] - 118s 4ms/step - loss: 73.4193 - mae: 73.4193 - val_loss: 74.6298 - val_mae: 74.6298 - lr: 0.0010\n",
      "Epoch 49/20000\n",
      "26460/26460 [==============================] - 116s 4ms/step - loss: 73.2597 - mae: 73.2597 - val_loss: 72.7267 - val_mae: 72.7267 - lr: 0.0010\n",
      "Epoch 50/20000\n",
      "26460/26460 [==============================] - 93s 4ms/step - loss: 73.0525 - mae: 73.0525 - val_loss: 71.5222 - val_mae: 71.5222 - lr: 0.0010\n",
      "Epoch 51/20000\n",
      "26460/26460 [==============================] - 102s 4ms/step - loss: 72.8344 - mae: 72.8344 - val_loss: 71.5767 - val_mae: 71.5767 - lr: 0.0010\n",
      "Epoch 52/20000\n",
      "26460/26460 [==============================] - 100s 4ms/step - loss: 72.5830 - mae: 72.5830 - val_loss: 71.3631 - val_mae: 71.3631 - lr: 0.0010\n",
      "Epoch 53/20000\n",
      "26460/26460 [==============================] - 91s 3ms/step - loss: 72.2978 - mae: 72.2978 - val_loss: 70.6813 - val_mae: 70.6813 - lr: 0.0010\n",
      "Epoch 54/20000\n",
      "26460/26460 [==============================] - 96s 4ms/step - loss: 71.9956 - mae: 71.9956 - val_loss: 70.9483 - val_mae: 70.9483 - lr: 0.0010\n",
      "Epoch 55/20000\n",
      "26460/26460 [==============================] - 92s 3ms/step - loss: 71.6852 - mae: 71.6852 - val_loss: 72.0299 - val_mae: 72.0299 - lr: 0.0010\n",
      "Epoch 56/20000\n",
      "26460/26460 [==============================] - 89s 3ms/step - loss: 71.4172 - mae: 71.4172 - val_loss: 69.2354 - val_mae: 69.2354 - lr: 0.0010\n",
      "Epoch 57/20000\n",
      "26460/26460 [==============================] - 91s 3ms/step - loss: 71.1333 - mae: 71.1333 - val_loss: 70.0099 - val_mae: 70.0099 - lr: 0.0010\n",
      "Epoch 58/20000\n",
      "26460/26460 [==============================] - 98s 4ms/step - loss: 70.8689 - mae: 70.8689 - val_loss: 72.4905 - val_mae: 72.4905 - lr: 0.0010\n",
      "Epoch 59/20000\n",
      "26460/26460 [==============================] - 91s 3ms/step - loss: 70.6232 - mae: 70.6232 - val_loss: 69.6879 - val_mae: 69.6879 - lr: 0.0010\n",
      "Epoch 60/20000\n",
      "26460/26460 [==============================] - 85s 3ms/step - loss: 70.4004 - mae: 70.4004 - val_loss: 70.0054 - val_mae: 70.0054 - lr: 0.0010\n",
      "Epoch 61/20000\n",
      "26460/26460 [==============================] - 90s 3ms/step - loss: 70.1657 - mae: 70.1657 - val_loss: 69.5476 - val_mae: 69.5476 - lr: 0.0010\n",
      "計算にかかった時間: 6404.0619649887085秒\n"
     ]
    }
   ],
   "source": [
    "start_time = time.time()\n",
    "callbacks1 = tf.keras.callbacks.ReduceLROnPlateau(monitor='val_mae',\n",
    "                            factor=0.2,\n",
    "                            patience=5,\n",
    "                            mode=\"auto\",\n",
    "                            min_lr=0.001) #最初は0.001だった\n",
    "callbacks2 = tf.keras.callbacks.EarlyStopping(monitor=\"val_mae\",\n",
    "                                              patience=5, #20→5\n",
    "                                              mode=\"auto\")\n",
    "history =  model.fit(x=x_train,\n",
    "                     y=y_train,\n",
    "                     epochs = 20000,\n",
    "                     batch_size=200,\n",
    "                     validation_data=(x_test, y_test),\n",
    "                     callbacks=[callbacks1,callbacks2])\n",
    "end_time = time.time()\n",
    "elapsed_time = end_time - start_time   #経過時間を計算して表示\n",
    "print(f\"計算にかかった時間: {elapsed_time}秒\")"
   ]
  },
  {
   "cell_type": "code",
   "execution_count": 15,
   "id": "fd9f2af9",
   "metadata": {},
   "outputs": [
    {
     "data": {
      "text/plain": [
       "dict_keys(['loss', 'mae', 'val_loss', 'val_mae', 'lr'])"
      ]
     },
     "execution_count": 15,
     "metadata": {},
     "output_type": "execute_result"
    }
   ],
   "source": [
    "history_dict = history.history\n",
    "history_dict.keys()"
   ]
  },
  {
   "cell_type": "code",
   "execution_count": 16,
   "id": "b2421dc8",
   "metadata": {},
   "outputs": [
    {
     "data": {
      "image/png": "[encoded data removed]",
      "text/plain": [
       "<Figure size 1200x800 with 1 Axes>"
      ]
     },
     "metadata": {},
     "output_type": "display_data"
    }
   ],
   "source": [
    "mae = history_dict['mae']\n",
    "val_mse = history_dict['val_mae']\n",
    "epochs = range(1, len(mae) + 1)\n",
    "\n",
    "plt.rcParams[\"font.size\"] = 15\n",
    "plt.figure(figsize=(12, 8))\n",
    "plt.plot(epochs, mae, label='mae')\n",
    "plt.plot(epochs, val_mse, label='val_mae')\n",
    "plt.xlabel(\"epochs\",fontsize=20)\n",
    "plt.ylabel(\"error\",fontsize=20)\n",
    "plt.ylim((0,750))\n",
    "plt.legend(loc = 'best',fontsize=20)\n",
    "#plt.savefig('mae_transition.png')\n",
    "plt.show()"
   ]
  },
  {
   "cell_type": "code",
   "execution_count": 17,
   "id": "c937eb63",
   "metadata": {},
   "outputs": [],
   "source": [
    "weights = [com.get_weights() for com in model.layers[0:]] \n",
    "model.layers[0].set_weights(weights[0])\n",
    "model.layers[1].set_weights(weights[1])\n",
    "model.layers[2].set_weights(weights[2])"
   ]
  },
  {
   "cell_type": "code",
   "execution_count": 18,
   "id": "ce774755",
   "metadata": {},
   "outputs": [
    {
     "name": "stdout",
     "output_type": "stream",
     "text": [
      "INFO:tensorflow:Assets written to: i_predict CD_3Ddist_one-hot\\assets\n"
     ]
    }
   ],
   "source": [
    "model.save('i_predict CD_3Ddist_one-hot')"
   ]
  },
  {
   "cell_type": "code",
   "execution_count": 19,
   "id": "3668960d",
   "metadata": {},
   "outputs": [
    {
     "name": "stdout",
     "output_type": "stream",
     "text": [
      "183750/183750 [==============================] - 396s 2ms/step\n",
      "MAPE: 1.8146382570266724%\n"
     ]
    }
   ],
   "source": [
    "import tensorflow as tf\n",
    "\n",
    "# MAPEを計算する関数を定義\n",
    "def mean_absolute_percentage_error(y_true, y_pred):\n",
    "    epsilon = 1e-10  # ゼロで割ることを避けるための小さな値\n",
    "    percentage_error = tf.abs((y_true - y_pred) / (tf.maximum(tf.abs(y_true), epsilon)))\n",
    "    mape = tf.reduce_mean(percentage_error) * 100.0\n",
    "    return mape\n",
    "\n",
    "df7 = model.predict(df_input)\n",
    "# MAPEを計算\n",
    "df7 = pd.DataFrame(df7)\n",
    "df8 = pd.concat([pd.DataFrame(df_output),df7], axis=1)\n",
    "\n",
    "y_true = tf.constant(df8.iloc[:, 0].values, dtype=tf.float32)\n",
    "y_pred = tf.constant(df8.iloc[:, 1].values, dtype=tf.float32)\n",
    "mape_value = mean_absolute_percentage_error(y_true,y_pred)\n",
    "\n",
    "# 結果を表示\n",
    "print(f\"MAPE: {mape_value.numpy()}%\")"
   ]
  }
 ],
 "metadata": {
  "kernelspec": {
   "display_name": "Python 3 (ipykernel)",
   "language": "python",
   "name": "python3"
  },
  "language_info": {
   "codemirror_mode": {
    "name": "ipython",
    "version": 3
   },
   "file_extension": ".py",
   "mimetype": "text/x-python",
   "name": "python",
   "nbconvert_exporter": "python",
   "pygments_lexer": "ipython3",
   "version": "3.9.18"
  }
 },
 "nbformat": 4,
 "nbformat_minor": 5
}
