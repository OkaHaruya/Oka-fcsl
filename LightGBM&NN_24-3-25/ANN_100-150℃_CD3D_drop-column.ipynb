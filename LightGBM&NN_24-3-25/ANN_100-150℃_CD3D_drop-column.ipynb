{
 "cells": [
  {
   "cell_type": "code",
   "execution_count": 1,
   "id": "ce7824c4",
   "metadata": {},
   "outputs": [],
   "source": [
    "import warnings\n",
    "warnings.simplefilter('ignore', FutureWarning)"
   ]
  },
  {
   "cell_type": "code",
   "execution_count": 2,
   "id": "eab3a947",
   "metadata": {},
   "outputs": [],
   "source": [
    "import tensorflow as tf\n",
    "import numpy as np\n",
    "import matplotlib.pyplot as plt\n",
    "import pandas as pd\n",
    "import sklearn \n",
    "import time"
   ]
  },
  {
   "cell_type": "code",
   "execution_count": 3,
   "id": "5753432b",
   "metadata": {},
   "outputs": [],
   "source": [
    "#from tensorflow.keras import models\n",
    "#from tensorflow.keras import layers\n",
    "from sklearn.model_selection import train_test_split"
   ]
  },
  {
   "cell_type": "code",
   "execution_count": 5,
   "id": "61385086",
   "metadata": {},
   "outputs": [],
   "source": [
    "df_input = pd.read_csv(\"CD3D_100-150℃_0.2-1.6mm_0.4-0.9V_std\", usecols=[1,2,3,4,5] )#col[6]:W_chをdrop"
   ]
  },
  {
   "cell_type": "code",
   "execution_count": 6,
   "id": "bee2e1cb",
   "metadata": {},
   "outputs": [],
   "source": [
    "df_output = pd. read_csv(\"CD3D_100-150℃_0.2-1.6mm_0.4-0.9V\", usecols=[7])"
   ]
  },
  {
   "cell_type": "code",
   "execution_count": 7,
   "id": "6aa258fc",
   "metadata": {},
   "outputs": [
    {
     "data": {
      "text/plain": [
       "(5880000, 5)"
      ]
     },
     "execution_count": 7,
     "metadata": {},
     "output_type": "execute_result"
    }
   ],
   "source": [
    "df_input.shape #0.45V20℃1.5ms1.6mmと0.65V130℃1.5ms1.6mmのデータなし"
   ]
  },
  {
   "cell_type": "code",
   "execution_count": 8,
   "id": "0c9360c2",
   "metadata": {},
   "outputs": [
    {
     "data": {
      "text/plain": [
       "(5880000, 1)"
      ]
     },
     "execution_count": 8,
     "metadata": {},
     "output_type": "execute_result"
    }
   ],
   "source": [
    "df_output.shape"
   ]
  },
  {
   "cell_type": "code",
   "execution_count": 9,
   "id": "67c463de",
   "metadata": {},
   "outputs": [],
   "source": [
    "x_train, x_test, y_train, y_test = train_test_split(df_input, df_output, test_size=0.1, random_state=0)"
   ]
  },
  {
   "cell_type": "code",
   "execution_count": 10,
   "id": "9b16ab26",
   "metadata": {},
   "outputs": [
    {
     "name": "stdout",
     "output_type": "stream",
     "text": [
      "(5292000, 5) (588000, 5)\n"
     ]
    }
   ],
   "source": [
    "print(x_train.shape,x_test.shape)"
   ]
  },
  {
   "cell_type": "code",
   "execution_count": 11,
   "id": "e2036ac2",
   "metadata": {},
   "outputs": [
    {
     "data": {
      "text/html": [
       "<div>\n",
       "<style scoped>\n",
       "    .dataframe tbody tr th:only-of-type {\n",
       "        vertical-align: middle;\n",
       "    }\n",
       "\n",
       "    .dataframe tbody tr th {\n",
       "        vertical-align: top;\n",
       "    }\n",
       "\n",
       "    .dataframe thead th {\n",
       "        text-align: right;\n",
       "    }\n",
       "</style>\n",
       "<table border=\"1\" class=\"dataframe\">\n",
       "  <thead>\n",
       "    <tr style=\"text-align: right;\">\n",
       "      <th></th>\n",
       "      <th>x座標</th>\n",
       "      <th>y座標</th>\n",
       "      <th>z座標</th>\n",
       "      <th>V[V]</th>\n",
       "      <th>T_cell[℃]</th>\n",
       "    </tr>\n",
       "  </thead>\n",
       "  <tbody>\n",
       "    <tr>\n",
       "      <th>5471191</th>\n",
       "      <td>0.306461</td>\n",
       "      <td>0.706739</td>\n",
       "      <td>-0.636484</td>\n",
       "      <td>1.257201</td>\n",
       "      <td>1.453669</td>\n",
       "    </tr>\n",
       "    <tr>\n",
       "      <th>2868884</th>\n",
       "      <td>0.055646</td>\n",
       "      <td>-1.646762</td>\n",
       "      <td>-0.913934</td>\n",
       "      <td>0.941289</td>\n",
       "      <td>-0.297883</td>\n",
       "    </tr>\n",
       "    <tr>\n",
       "      <th>5733272</th>\n",
       "      <td>-0.153366</td>\n",
       "      <td>-1.262536</td>\n",
       "      <td>-1.155252</td>\n",
       "      <td>0.625377</td>\n",
       "      <td>1.453669</td>\n",
       "    </tr>\n",
       "    <tr>\n",
       "      <th>200929</th>\n",
       "      <td>-0.274593</td>\n",
       "      <td>0.738098</td>\n",
       "      <td>1.150813</td>\n",
       "      <td>0.625377</td>\n",
       "      <td>-1.465584</td>\n",
       "    </tr>\n",
       "    <tr>\n",
       "      <th>90277</th>\n",
       "      <td>-0.926713</td>\n",
       "      <td>-0.216606</td>\n",
       "      <td>1.557310</td>\n",
       "      <td>-0.954184</td>\n",
       "      <td>-1.465584</td>\n",
       "    </tr>\n",
       "    <tr>\n",
       "      <th>...</th>\n",
       "      <td>...</td>\n",
       "      <td>...</td>\n",
       "      <td>...</td>\n",
       "      <td>...</td>\n",
       "      <td>...</td>\n",
       "    </tr>\n",
       "    <tr>\n",
       "      <th>2249467</th>\n",
       "      <td>-1.194249</td>\n",
       "      <td>0.031731</td>\n",
       "      <td>1.020476</td>\n",
       "      <td>0.941289</td>\n",
       "      <td>-0.297883</td>\n",
       "    </tr>\n",
       "    <tr>\n",
       "      <th>5157699</th>\n",
       "      <td>-0.291314</td>\n",
       "      <td>-0.663866</td>\n",
       "      <td>1.666999</td>\n",
       "      <td>1.257201</td>\n",
       "      <td>1.453669</td>\n",
       "    </tr>\n",
       "    <tr>\n",
       "      <th>2215104</th>\n",
       "      <td>-1.127365</td>\n",
       "      <td>1.268348</td>\n",
       "      <td>1.408906</td>\n",
       "      <td>1.257201</td>\n",
       "      <td>-0.297883</td>\n",
       "    </tr>\n",
       "    <tr>\n",
       "      <th>1484405</th>\n",
       "      <td>-0.320576</td>\n",
       "      <td>-0.316384</td>\n",
       "      <td>0.073273</td>\n",
       "      <td>-0.322359</td>\n",
       "      <td>-0.881734</td>\n",
       "    </tr>\n",
       "    <tr>\n",
       "      <th>4500015</th>\n",
       "      <td>-0.571391</td>\n",
       "      <td>1.574652</td>\n",
       "      <td>-0.397748</td>\n",
       "      <td>0.941289</td>\n",
       "      <td>0.869818</td>\n",
       "    </tr>\n",
       "  </tbody>\n",
       "</table>\n",
       "<p>5292000 rows × 5 columns</p>\n",
       "</div>"
      ],
      "text/plain": [
       "              x座標       y座標       z座標      V[V]  T_cell[℃]\n",
       "5471191  0.306461  0.706739 -0.636484  1.257201   1.453669\n",
       "2868884  0.055646 -1.646762 -0.913934  0.941289  -0.297883\n",
       "5733272 -0.153366 -1.262536 -1.155252  0.625377   1.453669\n",
       "200929  -0.274593  0.738098  1.150813  0.625377  -1.465584\n",
       "90277   -0.926713 -0.216606  1.557310 -0.954184  -1.465584\n",
       "...           ...       ...       ...       ...        ...\n",
       "2249467 -1.194249  0.031731  1.020476  0.941289  -0.297883\n",
       "5157699 -0.291314 -0.663866  1.666999  1.257201   1.453669\n",
       "2215104 -1.127365  1.268348  1.408906  1.257201  -0.297883\n",
       "1484405 -0.320576 -0.316384  0.073273 -0.322359  -0.881734\n",
       "4500015 -0.571391  1.574652 -0.397748  0.941289   0.869818\n",
       "\n",
       "[5292000 rows x 5 columns]"
      ]
     },
     "execution_count": 11,
     "metadata": {},
     "output_type": "execute_result"
    }
   ],
   "source": [
    "x_train"
   ]
  },
  {
   "cell_type": "code",
   "execution_count": 12,
   "id": "5f2b908c",
   "metadata": {},
   "outputs": [
    {
     "data": {
      "text/html": [
       "<div>\n",
       "<style scoped>\n",
       "    .dataframe tbody tr th:only-of-type {\n",
       "        vertical-align: middle;\n",
       "    }\n",
       "\n",
       "    .dataframe tbody tr th {\n",
       "        vertical-align: top;\n",
       "    }\n",
       "\n",
       "    .dataframe thead th {\n",
       "        text-align: right;\n",
       "    }\n",
       "</style>\n",
       "<table border=\"1\" class=\"dataframe\">\n",
       "  <thead>\n",
       "    <tr style=\"text-align: right;\">\n",
       "      <th></th>\n",
       "      <th>i[A/m^2]</th>\n",
       "    </tr>\n",
       "  </thead>\n",
       "  <tbody>\n",
       "    <tr>\n",
       "      <th>5471191</th>\n",
       "      <td>3258.260193</td>\n",
       "    </tr>\n",
       "    <tr>\n",
       "      <th>2868884</th>\n",
       "      <td>1838.461275</td>\n",
       "    </tr>\n",
       "    <tr>\n",
       "      <th>5733272</th>\n",
       "      <td>4839.370980</td>\n",
       "    </tr>\n",
       "    <tr>\n",
       "      <th>200929</th>\n",
       "      <td>2443.410761</td>\n",
       "    </tr>\n",
       "    <tr>\n",
       "      <th>90277</th>\n",
       "      <td>14124.447796</td>\n",
       "    </tr>\n",
       "    <tr>\n",
       "      <th>...</th>\n",
       "      <td>...</td>\n",
       "    </tr>\n",
       "    <tr>\n",
       "      <th>2249467</th>\n",
       "      <td>2682.287846</td>\n",
       "    </tr>\n",
       "    <tr>\n",
       "      <th>5157699</th>\n",
       "      <td>3674.578790</td>\n",
       "    </tr>\n",
       "    <tr>\n",
       "      <th>2215104</th>\n",
       "      <td>1330.409154</td>\n",
       "    </tr>\n",
       "    <tr>\n",
       "      <th>1484405</th>\n",
       "      <td>8191.613778</td>\n",
       "    </tr>\n",
       "    <tr>\n",
       "      <th>4500015</th>\n",
       "      <td>3934.114313</td>\n",
       "    </tr>\n",
       "  </tbody>\n",
       "</table>\n",
       "<p>5292000 rows × 1 columns</p>\n",
       "</div>"
      ],
      "text/plain": [
       "             i[A/m^2]\n",
       "5471191   3258.260193\n",
       "2868884   1838.461275\n",
       "5733272   4839.370980\n",
       "200929    2443.410761\n",
       "90277    14124.447796\n",
       "...               ...\n",
       "2249467   2682.287846\n",
       "5157699   3674.578790\n",
       "2215104   1330.409154\n",
       "1484405   8191.613778\n",
       "4500015   3934.114313\n",
       "\n",
       "[5292000 rows x 1 columns]"
      ]
     },
     "execution_count": 12,
     "metadata": {},
     "output_type": "execute_result"
    }
   ],
   "source": [
    "y_train"
   ]
  },
  {
   "cell_type": "code",
   "execution_count": 13,
   "id": "e8453f27",
   "metadata": {},
   "outputs": [],
   "source": [
    "from tensorflow.keras.models import Sequential\n",
    "from tensorflow.keras.layers import Dense, Activation\n",
    "from tensorflow.keras import regularizers, initializers\n",
    "\n",
    "model = Sequential()\n",
    "\n",
    "weights = [com.get_weights() for com in model.layers[0:]]  #重さを抽出（※始めに回すときだけ下の行と入れ替える）\n",
    "\n",
    "\n",
    "\n",
    "model.add(Dense(units=32, input_shape=(5,), activation='relu'))  \n",
    "model.add(Dense(units=10, activation='relu'))  #\n",
    "model.add(Dense(units=10, activation='relu'))\n",
    "model.add(Dense(units=1, activation='linear'))  #隠れ層3層でやってみる\n",
    "\n",
    "model.compile(loss='mean_absolute_error',    \n",
    "              optimizer='adam',             #とりあえずadamで\n",
    "              metrics=['mae'],\n",
    "              run_eagerly=False)   #計算時間5倍くらいかかる"
   ]
  },
  {
   "cell_type": "code",
   "execution_count": 14,
   "id": "232c27be",
   "metadata": {},
   "outputs": [
    {
     "name": "stdout",
     "output_type": "stream",
     "text": [
      "Epoch 1/20000\n",
      "26460/26460 [==============================] - 102s 4ms/step - loss: 1073.9500 - mae: 1073.9500 - val_loss: 575.0779 - val_mae: 575.0779 - lr: 0.0010\n",
      "Epoch 2/20000\n",
      "26460/26460 [==============================] - 116s 4ms/step - loss: 465.9876 - mae: 465.9876 - val_loss: 407.8036 - val_mae: 407.8036 - lr: 0.0010\n",
      "Epoch 3/20000\n",
      "26460/26460 [==============================] - 102s 4ms/step - loss: 378.3651 - mae: 378.3651 - val_loss: 358.2047 - val_mae: 358.2047 - lr: 0.0010\n",
      "Epoch 4/20000\n",
      "26460/26460 [==============================] - 89s 3ms/step - loss: 350.7094 - mae: 350.7094 - val_loss: 343.9042 - val_mae: 343.9042 - lr: 0.0010\n",
      "Epoch 5/20000\n",
      "26460/26460 [==============================] - 84s 3ms/step - loss: 339.0235 - mae: 339.0235 - val_loss: 331.2126 - val_mae: 331.2126 - lr: 0.0010\n",
      "Epoch 6/20000\n",
      "26460/26460 [==============================] - 79s 3ms/step - loss: 325.3401 - mae: 325.3401 - val_loss: 319.4379 - val_mae: 319.4379 - lr: 0.0010\n",
      "Epoch 7/20000\n",
      "26460/26460 [==============================] - 80s 3ms/step - loss: 314.3739 - mae: 314.3739 - val_loss: 309.1567 - val_mae: 309.1567 - lr: 0.0010\n",
      "Epoch 8/20000\n",
      "26460/26460 [==============================] - 81s 3ms/step - loss: 306.0961 - mae: 306.0961 - val_loss: 302.8112 - val_mae: 302.8112 - lr: 0.0010\n",
      "Epoch 9/20000\n",
      "26460/26460 [==============================] - 80s 3ms/step - loss: 299.0222 - mae: 299.0222 - val_loss: 295.2674 - val_mae: 295.2674 - lr: 0.0010\n",
      "Epoch 10/20000\n",
      "26460/26460 [==============================] - 80s 3ms/step - loss: 290.6447 - mae: 290.6447 - val_loss: 287.0337 - val_mae: 287.0337 - lr: 0.0010\n",
      "Epoch 11/20000\n",
      "26460/26460 [==============================] - 80s 3ms/step - loss: 283.5041 - mae: 283.5041 - val_loss: 281.4866 - val_mae: 281.4866 - lr: 0.0010\n",
      "Epoch 12/20000\n",
      "26460/26460 [==============================] - 80s 3ms/step - loss: 278.3985 - mae: 278.3985 - val_loss: 274.6660 - val_mae: 274.6660 - lr: 0.0010\n",
      "Epoch 13/20000\n",
      "26460/26460 [==============================] - 79s 3ms/step - loss: 271.8194 - mae: 271.8194 - val_loss: 267.9676 - val_mae: 267.9676 - lr: 0.0010\n",
      "Epoch 14/20000\n",
      "26460/26460 [==============================] - 80s 3ms/step - loss: 259.9436 - mae: 259.9436 - val_loss: 251.6090 - val_mae: 251.6090 - lr: 0.0010\n",
      "Epoch 15/20000\n",
      "26460/26460 [==============================] - 82s 3ms/step - loss: 246.9100 - mae: 246.9100 - val_loss: 241.7754 - val_mae: 241.7754 - lr: 0.0010\n",
      "Epoch 16/20000\n",
      "26460/26460 [==============================] - 84s 3ms/step - loss: 239.7071 - mae: 239.7071 - val_loss: 236.8964 - val_mae: 236.8964 - lr: 0.0010\n",
      "Epoch 17/20000\n",
      "26460/26460 [==============================] - 84s 3ms/step - loss: 234.5988 - mae: 234.5988 - val_loss: 234.7797 - val_mae: 234.7797 - lr: 0.0010\n",
      "Epoch 18/20000\n",
      "26460/26460 [==============================] - 85s 3ms/step - loss: 229.8186 - mae: 229.8186 - val_loss: 229.6174 - val_mae: 229.6174 - lr: 0.0010\n",
      "Epoch 19/20000\n",
      "26460/26460 [==============================] - 84s 3ms/step - loss: 226.6613 - mae: 226.6613 - val_loss: 227.0182 - val_mae: 227.0182 - lr: 0.0010\n",
      "Epoch 20/20000\n",
      "26460/26460 [==============================] - 84s 3ms/step - loss: 224.4524 - mae: 224.4524 - val_loss: 225.9774 - val_mae: 225.9774 - lr: 0.0010\n",
      "Epoch 21/20000\n",
      "26460/26460 [==============================] - 88s 3ms/step - loss: 221.5634 - mae: 221.5634 - val_loss: 219.6126 - val_mae: 219.6126 - lr: 0.0010\n",
      "Epoch 22/20000\n",
      "26460/26460 [==============================] - 86s 3ms/step - loss: 218.3573 - mae: 218.3573 - val_loss: 225.1731 - val_mae: 225.1731 - lr: 0.0010\n",
      "Epoch 23/20000\n",
      "26460/26460 [==============================] - 81s 3ms/step - loss: 215.9878 - mae: 215.9878 - val_loss: 215.5146 - val_mae: 215.5146 - lr: 0.0010\n",
      "Epoch 24/20000\n",
      "26460/26460 [==============================] - 80s 3ms/step - loss: 214.3208 - mae: 214.3208 - val_loss: 214.1121 - val_mae: 214.1121 - lr: 0.0010\n",
      "Epoch 25/20000\n",
      "26460/26460 [==============================] - 82s 3ms/step - loss: 212.7523 - mae: 212.7523 - val_loss: 210.5108 - val_mae: 210.5108 - lr: 0.0010\n",
      "Epoch 26/20000\n",
      "26460/26460 [==============================] - 80s 3ms/step - loss: 211.3739 - mae: 211.3739 - val_loss: 214.0405 - val_mae: 214.0405 - lr: 0.0010\n",
      "Epoch 27/20000\n",
      "26460/26460 [==============================] - 81s 3ms/step - loss: 210.3824 - mae: 210.3824 - val_loss: 210.3426 - val_mae: 210.3426 - lr: 0.0010\n",
      "Epoch 28/20000\n",
      "26460/26460 [==============================] - 81s 3ms/step - loss: 209.4536 - mae: 209.4536 - val_loss: 208.0833 - val_mae: 208.0833 - lr: 0.0010\n",
      "Epoch 29/20000\n",
      "26460/26460 [==============================] - 80s 3ms/step - loss: 208.7411 - mae: 208.7411 - val_loss: 207.9543 - val_mae: 207.9543 - lr: 0.0010\n",
      "Epoch 30/20000\n",
      "26460/26460 [==============================] - 81s 3ms/step - loss: 208.2020 - mae: 208.2020 - val_loss: 207.4296 - val_mae: 207.4296 - lr: 0.0010\n",
      "Epoch 31/20000\n",
      "26460/26460 [==============================] - 82s 3ms/step - loss: 207.9684 - mae: 207.9684 - val_loss: 207.3021 - val_mae: 207.3021 - lr: 0.0010\n",
      "Epoch 32/20000\n",
      "26460/26460 [==============================] - 96s 4ms/step - loss: 207.5173 - mae: 207.5173 - val_loss: 205.4707 - val_mae: 205.4707 - lr: 0.0010\n",
      "Epoch 33/20000\n",
      "26460/26460 [==============================] - 86s 3ms/step - loss: 207.1371 - mae: 207.1371 - val_loss: 206.9639 - val_mae: 206.9639 - lr: 0.0010\n",
      "Epoch 34/20000\n",
      "26460/26460 [==============================] - 80s 3ms/step - loss: 207.0741 - mae: 207.0741 - val_loss: 206.1883 - val_mae: 206.1883 - lr: 0.0010\n",
      "Epoch 35/20000\n",
      "26460/26460 [==============================] - 80s 3ms/step - loss: 206.6984 - mae: 206.6984 - val_loss: 206.7666 - val_mae: 206.7666 - lr: 0.0010\n",
      "Epoch 36/20000\n",
      "26460/26460 [==============================] - 85s 3ms/step - loss: 206.4057 - mae: 206.4057 - val_loss: 205.5154 - val_mae: 205.5154 - lr: 0.0010\n",
      "Epoch 37/20000\n",
      "26460/26460 [==============================] - 82s 3ms/step - loss: 206.3042 - mae: 206.3042 - val_loss: 206.2538 - val_mae: 206.2538 - lr: 0.0010\n",
      "計算にかかった時間: 3127.0869286060333秒\n"
     ]
    }
   ],
   "source": [
    "start_time = time.time()\n",
    "callbacks1 = tf.keras.callbacks.ReduceLROnPlateau(monitor='val_mae',\n",
    "                            factor=0.2,\n",
    "                            patience=5,\n",
    "                            mode=\"auto\",\n",
    "                            min_lr=0.001) #最初は0.001だった\n",
    "callbacks2 = tf.keras.callbacks.EarlyStopping(monitor=\"val_mae\",\n",
    "                                              patience=5, #20→5\n",
    "                                              mode=\"auto\")\n",
    "history =  model.fit(x=x_train,\n",
    "                     y=y_train,\n",
    "                     epochs = 20000,\n",
    "                     batch_size=200,\n",
    "                     validation_data=(x_test, y_test),\n",
    "                     callbacks=[callbacks1,callbacks2])\n",
    "end_time = time.time()\n",
    "elapsed_time = end_time - start_time   #経過時間を計算して表示\n",
    "print(f\"計算にかかった時間: {elapsed_time}秒\")"
   ]
  },
  {
   "cell_type": "code",
   "execution_count": 18,
   "id": "fd9f2af9",
   "metadata": {},
   "outputs": [
    {
     "data": {
      "text/plain": [
       "dict_keys(['loss', 'mae', 'val_loss', 'val_mae', 'lr'])"
      ]
     },
     "execution_count": 18,
     "metadata": {},
     "output_type": "execute_result"
    }
   ],
   "source": [
    "history_dict = history.history\n",
    "history_dict.keys()"
   ]
  },
  {
   "cell_type": "code",
   "execution_count": 19,
   "id": "b2421dc8",
   "metadata": {},
   "outputs": [
    {
     "data": {
      "image/png": "[encoded data removed]",
      "text/plain": [
       "<Figure size 1200x800 with 1 Axes>"
      ]
     },
     "metadata": {},
     "output_type": "display_data"
    }
   ],
   "source": [
    "mae = history_dict['mae']\n",
    "val_mse = history_dict['val_mae']\n",
    "epochs = range(1, len(mae) + 1)\n",
    "\n",
    "plt.rcParams[\"font.size\"] = 15\n",
    "plt.figure(figsize=(12, 8))\n",
    "plt.plot(epochs, mae, label='mae')\n",
    "plt.plot(epochs, val_mse, label='val_mae')\n",
    "plt.xlabel(\"epochs\",fontsize=20)\n",
    "plt.ylabel(\"error\",fontsize=20)\n",
    "plt.ylim((0,750))\n",
    "plt.legend(loc = 'best',fontsize=20)\n",
    "#plt.savefig('mae_transition.png')\n",
    "plt.show()"
   ]
  },
  {
   "cell_type": "code",
   "execution_count": 20,
   "id": "c937eb63",
   "metadata": {},
   "outputs": [],
   "source": [
    "weights = [com.get_weights() for com in model.layers[0:]] \n",
    "model.layers[0].set_weights(weights[0])\n",
    "model.layers[1].set_weights(weights[1])\n",
    "model.layers[2].set_weights(weights[2])"
   ]
  },
  {
   "cell_type": "code",
   "execution_count": 21,
   "id": "ce774755",
   "metadata": {},
   "outputs": [
    {
     "name": "stdout",
     "output_type": "stream",
     "text": [
      "INFO:tensorflow:Assets written to: i_predict CD_3Ddist_drop-column\\assets\n"
     ]
    }
   ],
   "source": [
    "model.save('i_predict CD_3Ddist_drop-column')"
   ]
  },
  {
   "cell_type": "code",
   "execution_count": 21,
   "id": "59641780",
   "metadata": {},
   "outputs": [
    {
     "name": "stderr",
     "output_type": "stream",
     "text": [
      "c:\\Users\\aruhy\\anaconda3\\envs\\MLMO\\lib\\site-packages\\tqdm\\auto.py:21: TqdmWarning: IProgress not found. Please update jupyter and ipywidgets. See https://ipywidgets.readthedocs.io/en/stable/user_install.html\n",
      "  from .autonotebook import tqdm as notebook_tqdm\n"
     ]
    }
   ],
   "source": [
    "import shap"
   ]
  },
  {
   "cell_type": "code",
   "execution_count": null,
   "id": "13ce06e4",
   "metadata": {},
   "outputs": [],
   "source": [
    "# SHAPの準備\n",
    "explainer = shap.Explainer(model, x_train)\n",
    "\n",
    "# SHAP値の計算\n",
    "shap_values = explainer(x_train)\n",
    "\n",
    "# SHAP値をプロットする\n",
    "shap.summary_plot(shap_values, x_train)"
   ]
  },
  {
   "cell_type": "code",
   "execution_count": 35,
   "id": "c4c47912",
   "metadata": {},
   "outputs": [
    {
     "ename": "MemoryError",
     "evalue": "Unable to allocate 1.48 GiB for an array with shape (198000000,) and data type float64",
     "output_type": "error",
     "traceback": [
      "\u001b[1;31m---------------------------------------------------------------------------\u001b[0m",
      "\u001b[1;31mMemoryError\u001b[0m                               Traceback (most recent call last)",
      "Cell \u001b[1;32mIn[35], line 6\u001b[0m\n\u001b[0;32m      2\u001b[0m \u001b[38;5;28;01mfrom\u001b[39;00m \u001b[38;5;21;01msklearn\u001b[39;00m\u001b[38;5;21;01m.\u001b[39;00m\u001b[38;5;21;01minspection\u001b[39;00m \u001b[38;5;28;01mimport\u001b[39;00m partial_dependence\n\u001b[0;32m      3\u001b[0m \u001b[38;5;66;03m# 部分依存プロットを計算する\u001b[39;00m\n\u001b[0;32m      4\u001b[0m \u001b[38;5;66;03m# feature_idxは目的の特徴量のインデックス、ここでは 0 と仮定しています\u001b[39;00m\n\u001b[0;32m      5\u001b[0m \u001b[38;5;66;03m# もし複数の特徴量を調べたい場合は、feature_idx=[0, 1, ...] のようにインデックスを指定します\u001b[39;00m\n\u001b[1;32m----> 6\u001b[0m \u001b[43mpartial_dependence\u001b[49m\u001b[43m(\u001b[49m\u001b[43mmodel\u001b[49m\u001b[43m,\u001b[49m\u001b[43m \u001b[49m\u001b[43mx_train\u001b[49m\u001b[43m,\u001b[49m\u001b[43m \u001b[49m\u001b[43mfeatures\u001b[49m\u001b[38;5;241;43m=\u001b[39;49m\u001b[43m[\u001b[49m\u001b[38;5;124;43m'\u001b[39;49m\u001b[38;5;124;43mx座標\u001b[39;49m\u001b[38;5;124;43m'\u001b[39;49m\u001b[43m,\u001b[49m\u001b[38;5;124;43m'\u001b[39;49m\u001b[38;5;124;43my座標\u001b[39;49m\u001b[38;5;124;43m'\u001b[39;49m\u001b[43m,\u001b[49m\u001b[38;5;124;43m'\u001b[39;49m\u001b[38;5;124;43mz座標\u001b[39;49m\u001b[38;5;124;43m'\u001b[39;49m\u001b[43m,\u001b[49m\u001b[38;5;124;43m'\u001b[39;49m\u001b[38;5;124;43mV[V]\u001b[39;49m\u001b[38;5;124;43m'\u001b[39;49m\u001b[43m,\u001b[49m\u001b[38;5;124;43m'\u001b[39;49m\u001b[38;5;124;43mT_cell[℃]\u001b[39;49m\u001b[38;5;124;43m'\u001b[39;49m\u001b[43m,\u001b[49m\u001b[38;5;124;43m'\u001b[39;49m\u001b[38;5;124;43mW_ch[mm]\u001b[39;49m\u001b[38;5;124;43m'\u001b[39;49m\u001b[43m]\u001b[49m\u001b[43m)\u001b[49m\n",
      "File \u001b[1;32mc:\\Users\\aruhy\\anaconda3\\envs\\MLMO\\lib\\site-packages\\sklearn\\utils\\_param_validation.py:211\u001b[0m, in \u001b[0;36mvalidate_params.<locals>.decorator.<locals>.wrapper\u001b[1;34m(*args, **kwargs)\u001b[0m\n\u001b[0;32m    205\u001b[0m \u001b[38;5;28;01mtry\u001b[39;00m:\n\u001b[0;32m    206\u001b[0m     \u001b[38;5;28;01mwith\u001b[39;00m config_context(\n\u001b[0;32m    207\u001b[0m         skip_parameter_validation\u001b[38;5;241m=\u001b[39m(\n\u001b[0;32m    208\u001b[0m             prefer_skip_nested_validation \u001b[38;5;129;01mor\u001b[39;00m global_skip_validation\n\u001b[0;32m    209\u001b[0m         )\n\u001b[0;32m    210\u001b[0m     ):\n\u001b[1;32m--> 211\u001b[0m         \u001b[38;5;28;01mreturn\u001b[39;00m func(\u001b[38;5;241m*\u001b[39margs, \u001b[38;5;241m*\u001b[39m\u001b[38;5;241m*\u001b[39mkwargs)\n\u001b[0;32m    212\u001b[0m \u001b[38;5;28;01mexcept\u001b[39;00m InvalidParameterError \u001b[38;5;28;01mas\u001b[39;00m e:\n\u001b[0;32m    213\u001b[0m     \u001b[38;5;66;03m# When the function is just a wrapper around an estimator, we allow\u001b[39;00m\n\u001b[0;32m    214\u001b[0m     \u001b[38;5;66;03m# the function to delegate validation to the estimator, but we replace\u001b[39;00m\n\u001b[0;32m    215\u001b[0m     \u001b[38;5;66;03m# the name of the estimator by the name of the function in the error\u001b[39;00m\n\u001b[0;32m    216\u001b[0m     \u001b[38;5;66;03m# message to avoid confusion.\u001b[39;00m\n\u001b[0;32m    217\u001b[0m     msg \u001b[38;5;241m=\u001b[39m re\u001b[38;5;241m.\u001b[39msub(\n\u001b[0;32m    218\u001b[0m         \u001b[38;5;124mr\u001b[39m\u001b[38;5;124m\"\u001b[39m\u001b[38;5;124mparameter of \u001b[39m\u001b[38;5;124m\\\u001b[39m\u001b[38;5;124mw+ must be\u001b[39m\u001b[38;5;124m\"\u001b[39m,\n\u001b[0;32m    219\u001b[0m         \u001b[38;5;124mf\u001b[39m\u001b[38;5;124m\"\u001b[39m\u001b[38;5;124mparameter of \u001b[39m\u001b[38;5;132;01m{\u001b[39;00mfunc\u001b[38;5;241m.\u001b[39m\u001b[38;5;18m__qualname__\u001b[39m\u001b[38;5;132;01m}\u001b[39;00m\u001b[38;5;124m must be\u001b[39m\u001b[38;5;124m\"\u001b[39m,\n\u001b[0;32m    220\u001b[0m         \u001b[38;5;28mstr\u001b[39m(e),\n\u001b[0;32m    221\u001b[0m     )\n",
      "File \u001b[1;32mc:\\Users\\aruhy\\anaconda3\\envs\\MLMO\\lib\\site-packages\\sklearn\\inspection\\_partial_dependence.py:698\u001b[0m, in \u001b[0;36mpartial_dependence\u001b[1;34m(estimator, X, features, sample_weight, categorical_features, feature_names, response_method, percentiles, grid_resolution, method, kind)\u001b[0m\n\u001b[0;32m    692\u001b[0m     \u001b[38;5;28;01melse\u001b[39;00m:\n\u001b[0;32m    693\u001b[0m         \u001b[38;5;28;01mraise\u001b[39;00m \u001b[38;5;167;01mValueError\u001b[39;00m(\n\u001b[0;32m    694\u001b[0m             \u001b[38;5;124m\"\u001b[39m\u001b[38;5;124mExpected `categorical_features` to be an array-like of boolean,\u001b[39m\u001b[38;5;124m\"\u001b[39m\n\u001b[0;32m    695\u001b[0m             \u001b[38;5;124mf\u001b[39m\u001b[38;5;124m\"\u001b[39m\u001b[38;5;124m integer, or string. Got \u001b[39m\u001b[38;5;132;01m{\u001b[39;00mcategorical_features\u001b[38;5;241m.\u001b[39mdtype\u001b[38;5;132;01m}\u001b[39;00m\u001b[38;5;124m instead.\u001b[39m\u001b[38;5;124m\"\u001b[39m\n\u001b[0;32m    696\u001b[0m         )\n\u001b[1;32m--> 698\u001b[0m grid, values \u001b[38;5;241m=\u001b[39m \u001b[43m_grid_from_X\u001b[49m\u001b[43m(\u001b[49m\n\u001b[0;32m    699\u001b[0m \u001b[43m    \u001b[49m\u001b[43m_safe_indexing\u001b[49m\u001b[43m(\u001b[49m\u001b[43mX\u001b[49m\u001b[43m,\u001b[49m\u001b[43m \u001b[49m\u001b[43mfeatures_indices\u001b[49m\u001b[43m,\u001b[49m\u001b[43m \u001b[49m\u001b[43maxis\u001b[49m\u001b[38;5;241;43m=\u001b[39;49m\u001b[38;5;241;43m1\u001b[39;49m\u001b[43m)\u001b[49m\u001b[43m,\u001b[49m\n\u001b[0;32m    700\u001b[0m \u001b[43m    \u001b[49m\u001b[43mpercentiles\u001b[49m\u001b[43m,\u001b[49m\n\u001b[0;32m    701\u001b[0m \u001b[43m    \u001b[49m\u001b[43mis_categorical\u001b[49m\u001b[43m,\u001b[49m\n\u001b[0;32m    702\u001b[0m \u001b[43m    \u001b[49m\u001b[43mgrid_resolution\u001b[49m\u001b[43m,\u001b[49m\n\u001b[0;32m    703\u001b[0m \u001b[43m\u001b[49m\u001b[43m)\u001b[49m\n\u001b[0;32m    705\u001b[0m \u001b[38;5;28;01mif\u001b[39;00m method \u001b[38;5;241m==\u001b[39m \u001b[38;5;124m\"\u001b[39m\u001b[38;5;124mbrute\u001b[39m\u001b[38;5;124m\"\u001b[39m:\n\u001b[0;32m    706\u001b[0m     averaged_predictions, predictions \u001b[38;5;241m=\u001b[39m _partial_dependence_brute(\n\u001b[0;32m    707\u001b[0m         estimator, grid, features_indices, X, response_method, sample_weight\n\u001b[0;32m    708\u001b[0m     )\n",
      "File \u001b[1;32mc:\\Users\\aruhy\\anaconda3\\envs\\MLMO\\lib\\site-packages\\sklearn\\inspection\\_partial_dependence.py:136\u001b[0m, in \u001b[0;36m_grid_from_X\u001b[1;34m(X, percentiles, is_categorical, grid_resolution)\u001b[0m\n\u001b[0;32m    128\u001b[0m         axis \u001b[38;5;241m=\u001b[39m np\u001b[38;5;241m.\u001b[39mlinspace(\n\u001b[0;32m    129\u001b[0m             emp_percentiles[\u001b[38;5;241m0\u001b[39m],\n\u001b[0;32m    130\u001b[0m             emp_percentiles[\u001b[38;5;241m1\u001b[39m],\n\u001b[0;32m    131\u001b[0m             num\u001b[38;5;241m=\u001b[39mgrid_resolution,\n\u001b[0;32m    132\u001b[0m             endpoint\u001b[38;5;241m=\u001b[39m\u001b[38;5;28;01mTrue\u001b[39;00m,\n\u001b[0;32m    133\u001b[0m         )\n\u001b[0;32m    134\u001b[0m     values\u001b[38;5;241m.\u001b[39mappend(axis)\n\u001b[1;32m--> 136\u001b[0m \u001b[38;5;28;01mreturn\u001b[39;00m \u001b[43mcartesian\u001b[49m\u001b[43m(\u001b[49m\u001b[43mvalues\u001b[49m\u001b[43m)\u001b[49m, values\n",
      "File \u001b[1;32mc:\\Users\\aruhy\\anaconda3\\envs\\MLMO\\lib\\site-packages\\sklearn\\utils\\extmath.py:765\u001b[0m, in \u001b[0;36mcartesian\u001b[1;34m(arrays, out)\u001b[0m\n\u001b[0;32m    762\u001b[0m     out \u001b[38;5;241m=\u001b[39m np\u001b[38;5;241m.\u001b[39mempty_like(ix, dtype\u001b[38;5;241m=\u001b[39mdtype)\n\u001b[0;32m    764\u001b[0m \u001b[38;5;28;01mfor\u001b[39;00m n, arr \u001b[38;5;129;01min\u001b[39;00m \u001b[38;5;28menumerate\u001b[39m(arrays):\n\u001b[1;32m--> 765\u001b[0m     out[:, n] \u001b[38;5;241m=\u001b[39m \u001b[43marrays\u001b[49m\u001b[43m[\u001b[49m\u001b[43mn\u001b[49m\u001b[43m]\u001b[49m\u001b[43m[\u001b[49m\u001b[43mix\u001b[49m\u001b[43m[\u001b[49m\u001b[43m:\u001b[49m\u001b[43m,\u001b[49m\u001b[43m \u001b[49m\u001b[43mn\u001b[49m\u001b[43m]\u001b[49m\u001b[43m]\u001b[49m\n\u001b[0;32m    767\u001b[0m \u001b[38;5;28;01mreturn\u001b[39;00m out\n",
      "\u001b[1;31mMemoryError\u001b[0m: Unable to allocate 1.48 GiB for an array with shape (198000000,) and data type float64"
     ]
    }
   ],
   "source": [
    "from sklearn.ensemble import RandomForestRegressor\n",
    "from sklearn.inspection import partial_dependence\n",
    "# 部分依存プロットを計算する\n",
    "# feature_idxは目的の特徴量のインデックス、ここでは 0 と仮定しています\n",
    "# もし複数の特徴量を調べたい場合は、feature_idx=[0, 1, ...] のようにインデックスを指定します\n",
    "partial_dependence(model, x_train, features=['x座標','y座標','z座標','V[V]','T_cell[℃]','W_ch[mm]'])\n"
   ]
  }
 ],
 "metadata": {
  "kernelspec": {
   "display_name": "Python 3 (ipykernel)",
   "language": "python",
   "name": "python3"
  },
  "language_info": {
   "codemirror_mode": {
    "name": "ipython",
    "version": 3
   },
   "file_extension": ".py",
   "mimetype": "text/x-python",
   "name": "python",
   "nbconvert_exporter": "python",
   "pygments_lexer": "ipython3",
   "version": "3.9.18"
  }
 },
 "nbformat": 4,
 "nbformat_minor": 5
}
