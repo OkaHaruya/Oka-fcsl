{
 "cells": [
  {
   "cell_type": "code",
   "execution_count": 1,
   "id": "ce7824c4",
   "metadata": {},
   "outputs": [],
   "source": [
    "import warnings\n",
    "warnings.simplefilter('ignore', FutureWarning)"
   ]
  },
  {
   "cell_type": "code",
   "execution_count": 2,
   "id": "eab3a947",
   "metadata": {},
   "outputs": [],
   "source": [
    "import tensorflow as tf\n",
    "import numpy as np\n",
    "import matplotlib.pyplot as plt\n",
    "import pandas as pd\n",
    "import sklearn\n",
    "import time"
   ]
  },
  {
   "cell_type": "code",
   "execution_count": 3,
   "id": "5753432b",
   "metadata": {},
   "outputs": [],
   "source": [
    "#from tensorflow.keras import models\n",
    "#from tensorflow.keras import layers\n",
    "from sklearn.model_selection import train_test_split"
   ]
  },
  {
   "cell_type": "code",
   "execution_count": 4,
   "id": "61385086",
   "metadata": {},
   "outputs": [],
   "source": [
    "df_input = pd.read_csv(\"CD3D_100-150℃_0.2-1.6mm_0.4-0.9V_std\", usecols=[1,2,3,4,5,6])"
   ]
  },
  {
   "cell_type": "code",
   "execution_count": 5,
   "id": "bee2e1cb",
   "metadata": {},
   "outputs": [],
   "source": [
    "df_output = pd. read_csv(\"CD3D_100-150℃_0.2-1.6mm_0.4-0.9V\", usecols=[7])"
   ]
  },
  {
   "cell_type": "code",
   "execution_count": 6,
   "id": "6aa258fc",
   "metadata": {},
   "outputs": [
    {
     "data": {
      "text/plain": [
       "(591000, 6)"
      ]
     },
     "execution_count": 6,
     "metadata": {},
     "output_type": "execute_result"
    }
   ],
   "source": [
    "df_input.shape"
   ]
  },
  {
   "cell_type": "code",
   "execution_count": 7,
   "id": "0c9360c2",
   "metadata": {},
   "outputs": [
    {
     "data": {
      "text/plain": [
       "(591000, 1)"
      ]
     },
     "execution_count": 7,
     "metadata": {},
     "output_type": "execute_result"
    }
   ],
   "source": [
    "df_output.shape"
   ]
  },
  {
   "cell_type": "code",
   "execution_count": 8,
   "id": "67c463de",
   "metadata": {},
   "outputs": [],
   "source": [
    "x_train, x_test, y_train, y_test = train_test_split(df_input, df_output, test_size=0.1, random_state=0)"
   ]
  },
  {
   "cell_type": "code",
   "execution_count": 9,
   "id": "9b16ab26",
   "metadata": {},
   "outputs": [
    {
     "name": "stdout",
     "output_type": "stream",
     "text": [
      "(531900, 6) (59100, 6)\n"
     ]
    }
   ],
   "source": [
    "print(x_train.shape,x_test.shape)"
   ]
  },
  {
   "cell_type": "code",
   "execution_count": 10,
   "id": "e2036ac2",
   "metadata": {},
   "outputs": [
    {
     "data": {
      "text/html": [
       "<div>\n",
       "<style scoped>\n",
       "    .dataframe tbody tr th:only-of-type {\n",
       "        vertical-align: middle;\n",
       "    }\n",
       "\n",
       "    .dataframe tbody tr th {\n",
       "        vertical-align: top;\n",
       "    }\n",
       "\n",
       "    .dataframe thead th {\n",
       "        text-align: right;\n",
       "    }\n",
       "</style>\n",
       "<table border=\"1\" class=\"dataframe\">\n",
       "  <thead>\n",
       "    <tr style=\"text-align: right;\">\n",
       "      <th></th>\n",
       "      <th>x座標</th>\n",
       "      <th>y座標</th>\n",
       "      <th>z座標</th>\n",
       "      <th>V[V]</th>\n",
       "      <th>T_cell[℃]</th>\n",
       "      <th>W_ch[mm]</th>\n",
       "    </tr>\n",
       "  </thead>\n",
       "  <tbody>\n",
       "    <tr>\n",
       "      <th>33202</th>\n",
       "      <td>-0.270628</td>\n",
       "      <td>-0.444370</td>\n",
       "      <td>-0.655849</td>\n",
       "      <td>-1.273299</td>\n",
       "      <td>-1.461949</td>\n",
       "      <td>-0.261005</td>\n",
       "    </tr>\n",
       "    <tr>\n",
       "      <th>470526</th>\n",
       "      <td>-0.988935</td>\n",
       "      <td>-0.634556</td>\n",
       "      <td>-1.172046</td>\n",
       "      <td>-0.956582</td>\n",
       "      <td>0.874797</td>\n",
       "      <td>1.345807</td>\n",
       "    </tr>\n",
       "    <tr>\n",
       "      <th>251619</th>\n",
       "      <td>-1.197745</td>\n",
       "      <td>1.203909</td>\n",
       "      <td>-0.481632</td>\n",
       "      <td>0.627003</td>\n",
       "      <td>-0.293576</td>\n",
       "      <td>-0.261005</td>\n",
       "    </tr>\n",
       "    <tr>\n",
       "      <th>23259</th>\n",
       "      <td>-1.327207</td>\n",
       "      <td>0.760141</td>\n",
       "      <td>1.150841</td>\n",
       "      <td>0.310286</td>\n",
       "      <td>-1.461949</td>\n",
       "      <td>-1.064411</td>\n",
       "    </tr>\n",
       "    <tr>\n",
       "      <th>530961</th>\n",
       "      <td>-0.696601</td>\n",
       "      <td>0.630181</td>\n",
       "      <td>-0.017055</td>\n",
       "      <td>-1.590016</td>\n",
       "      <td>1.458984</td>\n",
       "      <td>-0.261005</td>\n",
       "    </tr>\n",
       "    <tr>\n",
       "      <th>...</th>\n",
       "      <td>...</td>\n",
       "      <td>...</td>\n",
       "      <td>...</td>\n",
       "      <td>...</td>\n",
       "      <td>...</td>\n",
       "      <td>...</td>\n",
       "    </tr>\n",
       "    <tr>\n",
       "      <th>359783</th>\n",
       "      <td>-0.245571</td>\n",
       "      <td>-1.193068</td>\n",
       "      <td>-0.631329</td>\n",
       "      <td>1.577154</td>\n",
       "      <td>0.290611</td>\n",
       "      <td>-0.261005</td>\n",
       "    </tr>\n",
       "    <tr>\n",
       "      <th>152315</th>\n",
       "      <td>-0.245571</td>\n",
       "      <td>-1.712276</td>\n",
       "      <td>-0.373231</td>\n",
       "      <td>0.627003</td>\n",
       "      <td>-0.877763</td>\n",
       "      <td>-0.261005</td>\n",
       "    </tr>\n",
       "    <tr>\n",
       "      <th>117952</th>\n",
       "      <td>-0.224690</td>\n",
       "      <td>1.647676</td>\n",
       "      <td>1.408940</td>\n",
       "      <td>0.627003</td>\n",
       "      <td>-0.877763</td>\n",
       "      <td>-1.064411</td>\n",
       "    </tr>\n",
       "    <tr>\n",
       "      <th>435829</th>\n",
       "      <td>0.957174</td>\n",
       "      <td>-0.391752</td>\n",
       "      <td>0.118447</td>\n",
       "      <td>-0.956582</td>\n",
       "      <td>0.874797</td>\n",
       "      <td>-0.261005</td>\n",
       "    </tr>\n",
       "    <tr>\n",
       "      <th>305711</th>\n",
       "      <td>-0.675720</td>\n",
       "      <td>0.126188</td>\n",
       "      <td>1.408940</td>\n",
       "      <td>-0.956582</td>\n",
       "      <td>0.290611</td>\n",
       "      <td>-1.064411</td>\n",
       "    </tr>\n",
       "  </tbody>\n",
       "</table>\n",
       "<p>531900 rows × 6 columns</p>\n",
       "</div>"
      ],
      "text/plain": [
       "             x座標       y座標       z座標      V[V]  T_cell[℃]  W_ch[mm]\n",
       "33202  -0.270628 -0.444370 -0.655849 -1.273299  -1.461949 -0.261005\n",
       "470526 -0.988935 -0.634556 -1.172046 -0.956582   0.874797  1.345807\n",
       "251619 -1.197745  1.203909 -0.481632  0.627003  -0.293576 -0.261005\n",
       "23259  -1.327207  0.760141  1.150841  0.310286  -1.461949 -1.064411\n",
       "530961 -0.696601  0.630181 -0.017055 -1.590016   1.458984 -0.261005\n",
       "...          ...       ...       ...       ...        ...       ...\n",
       "359783 -0.245571 -1.193068 -0.631329  1.577154   0.290611 -0.261005\n",
       "152315 -0.245571 -1.712276 -0.373231  0.627003  -0.877763 -0.261005\n",
       "117952 -0.224690  1.647676  1.408940  0.627003  -0.877763 -1.064411\n",
       "435829  0.957174 -0.391752  0.118447 -0.956582   0.874797 -0.261005\n",
       "305711 -0.675720  0.126188  1.408940 -0.956582   0.290611 -1.064411\n",
       "\n",
       "[531900 rows x 6 columns]"
      ]
     },
     "execution_count": 10,
     "metadata": {},
     "output_type": "execute_result"
    }
   ],
   "source": [
    "x_train"
   ]
  },
  {
   "cell_type": "code",
   "execution_count": 11,
   "id": "5f2b908c",
   "metadata": {},
   "outputs": [
    {
     "data": {
      "text/html": [
       "<div>\n",
       "<style scoped>\n",
       "    .dataframe tbody tr th:only-of-type {\n",
       "        vertical-align: middle;\n",
       "    }\n",
       "\n",
       "    .dataframe tbody tr th {\n",
       "        vertical-align: top;\n",
       "    }\n",
       "\n",
       "    .dataframe thead th {\n",
       "        text-align: right;\n",
       "    }\n",
       "</style>\n",
       "<table border=\"1\" class=\"dataframe\">\n",
       "  <thead>\n",
       "    <tr style=\"text-align: right;\">\n",
       "      <th></th>\n",
       "      <th>i[A/m^2]</th>\n",
       "    </tr>\n",
       "  </thead>\n",
       "  <tbody>\n",
       "    <tr>\n",
       "      <th>33202</th>\n",
       "      <td>13249.076174</td>\n",
       "    </tr>\n",
       "    <tr>\n",
       "      <th>470526</th>\n",
       "      <td>14707.850425</td>\n",
       "    </tr>\n",
       "    <tr>\n",
       "      <th>251619</th>\n",
       "      <td>4351.175516</td>\n",
       "    </tr>\n",
       "    <tr>\n",
       "      <th>23259</th>\n",
       "      <td>4281.451239</td>\n",
       "    </tr>\n",
       "    <tr>\n",
       "      <th>530961</th>\n",
       "      <td>23260.282649</td>\n",
       "    </tr>\n",
       "    <tr>\n",
       "      <th>...</th>\n",
       "      <td>...</td>\n",
       "    </tr>\n",
       "    <tr>\n",
       "      <th>359783</th>\n",
       "      <td>839.423396</td>\n",
       "    </tr>\n",
       "    <tr>\n",
       "      <th>152315</th>\n",
       "      <td>2944.455891</td>\n",
       "    </tr>\n",
       "    <tr>\n",
       "      <th>117952</th>\n",
       "      <td>3336.558641</td>\n",
       "    </tr>\n",
       "    <tr>\n",
       "      <th>435829</th>\n",
       "      <td>19685.454044</td>\n",
       "    </tr>\n",
       "    <tr>\n",
       "      <th>305711</th>\n",
       "      <td>17948.264113</td>\n",
       "    </tr>\n",
       "  </tbody>\n",
       "</table>\n",
       "<p>531900 rows × 1 columns</p>\n",
       "</div>"
      ],
      "text/plain": [
       "            i[A/m^2]\n",
       "33202   13249.076174\n",
       "470526  14707.850425\n",
       "251619   4351.175516\n",
       "23259    4281.451239\n",
       "530961  23260.282649\n",
       "...              ...\n",
       "359783    839.423396\n",
       "152315   2944.455891\n",
       "117952   3336.558641\n",
       "435829  19685.454044\n",
       "305711  17948.264113\n",
       "\n",
       "[531900 rows x 1 columns]"
      ]
     },
     "execution_count": 11,
     "metadata": {},
     "output_type": "execute_result"
    }
   ],
   "source": [
    "y_train"
   ]
  },
  {
   "cell_type": "code",
   "execution_count": 12,
   "id": "e8453f27",
   "metadata": {},
   "outputs": [],
   "source": [
    "from tensorflow.keras.models import Sequential\n",
    "from tensorflow.keras.layers import Dense, Activation\n",
    "from tensorflow.keras import regularizers, initializers\n",
    "\n",
    "model = Sequential()\n",
    "\n",
    "weights = [com.get_weights() for com in model.layers[0:]]  #重さを抽出（※始めに回すときだけ下の行と入れ替える）\n",
    "\n",
    "\n",
    "\n",
    "model.add(Dense(units=32, input_shape=(6,), activation='relu'))  \n",
    "model.add(Dense(units=10, activation='relu'))  #\n",
    "model.add(Dense(units=10, activation='relu'))\n",
    "model.add(Dense(units=1, activation='linear'))  #隠れ層3層でやってみる\n",
    "\n",
    "model.compile(loss='mean_absolute_error',    \n",
    "              optimizer='adam',             #とりあえずadamで\n",
    "              metrics=['mae'],\n",
    "              run_eagerly=False)   #計算時間5倍くらいかかる"
   ]
  },
  {
   "cell_type": "code",
   "execution_count": 20,
   "id": "232c27be",
   "metadata": {},
   "outputs": [
    {
     "name": "stdout",
     "output_type": "stream",
     "text": [
      "Epoch 1/20000\n",
      "2660/2660 [==============================] - 8s 3ms/step - loss: 5535.0669 - mae: 5535.0669 - val_loss: 5489.4946 - val_mae: 5489.4946 - lr: 1.0000e-05\n",
      "Epoch 2/20000\n",
      "2660/2660 [==============================] - 7s 3ms/step - loss: 5535.0718 - mae: 5535.0718 - val_loss: 5489.4946 - val_mae: 5489.4946 - lr: 1.0000e-05\n",
      "Epoch 3/20000\n",
      "2660/2660 [==============================] - 9s 3ms/step - loss: 5535.0757 - mae: 5535.0757 - val_loss: 5489.4946 - val_mae: 5489.4946 - lr: 1.0000e-05\n",
      "Epoch 4/20000\n",
      "2660/2660 [==============================] - 9s 3ms/step - loss: 5535.0781 - mae: 5535.0781 - val_loss: 5489.4927 - val_mae: 5489.4927 - lr: 1.0000e-05\n",
      "Epoch 5/20000\n",
      "2660/2660 [==============================] - 9s 3ms/step - loss: 5535.0811 - mae: 5535.0806 - val_loss: 5489.4946 - val_mae: 5489.4946 - lr: 1.0000e-05\n",
      "Epoch 6/20000\n",
      "2660/2660 [==============================] - 9s 3ms/step - loss: 5535.0757 - mae: 5535.0757 - val_loss: 5489.4946 - val_mae: 5489.4946 - lr: 1.0000e-05\n",
      "Epoch 7/20000\n",
      "2660/2660 [==============================] - 9s 3ms/step - loss: 5535.0767 - mae: 5535.0767 - val_loss: 5489.4932 - val_mae: 5489.4932 - lr: 1.0000e-05\n",
      "Epoch 8/20000\n",
      "2660/2660 [==============================] - 11s 4ms/step - loss: 5535.0776 - mae: 5535.0776 - val_loss: 5489.4932 - val_mae: 5489.4932 - lr: 1.0000e-05\n",
      "Epoch 9/20000\n",
      "2660/2660 [==============================] - 9s 3ms/step - loss: 5535.0728 - mae: 5535.0728 - val_loss: 5489.4946 - val_mae: 5489.4946 - lr: 1.0000e-05\n",
      "Epoch 10/20000\n",
      "2660/2660 [==============================] - 9s 3ms/step - loss: 5535.0693 - mae: 5535.0693 - val_loss: 5489.4937 - val_mae: 5489.4937 - lr: 1.0000e-05\n",
      "Epoch 11/20000\n",
      "2660/2660 [==============================] - 10s 4ms/step - loss: 5535.0752 - mae: 5535.0752 - val_loss: 5489.4946 - val_mae: 5489.4946 - lr: 1.0000e-05\n",
      "Epoch 12/20000\n",
      "2660/2660 [==============================] - 9s 3ms/step - loss: 5535.0645 - mae: 5535.0645 - val_loss: 5489.4946 - val_mae: 5489.4946 - lr: 1.0000e-05\n",
      "Epoch 13/20000\n",
      "2660/2660 [==============================] - 9s 3ms/step - loss: 5535.0752 - mae: 5535.0752 - val_loss: 5489.4946 - val_mae: 5489.4946 - lr: 1.0000e-05\n",
      "Epoch 14/20000\n",
      "2660/2660 [==============================] - 9s 3ms/step - loss: 5535.0708 - mae: 5535.0708 - val_loss: 5489.4946 - val_mae: 5489.4946 - lr: 1.0000e-05\n",
      "Epoch 15/20000\n",
      "2660/2660 [==============================] - 9s 4ms/step - loss: 5535.0757 - mae: 5535.0757 - val_loss: 5489.4937 - val_mae: 5489.4937 - lr: 1.0000e-05\n",
      "Epoch 16/20000\n",
      "2660/2660 [==============================] - 9s 3ms/step - loss: 5535.0757 - mae: 5535.0757 - val_loss: 5489.4946 - val_mae: 5489.4946 - lr: 1.0000e-05\n",
      "Epoch 17/20000\n",
      "2660/2660 [==============================] - 9s 3ms/step - loss: 5535.0669 - mae: 5535.0669 - val_loss: 5489.4946 - val_mae: 5489.4946 - lr: 1.0000e-05\n",
      "Epoch 18/20000\n",
      "2660/2660 [==============================] - 9s 3ms/step - loss: 5535.0806 - mae: 5535.0806 - val_loss: 5489.4946 - val_mae: 5489.4946 - lr: 1.0000e-05\n",
      "Epoch 19/20000\n",
      "2660/2660 [==============================] - 9s 3ms/step - loss: 5535.0752 - mae: 5535.0752 - val_loss: 5489.4946 - val_mae: 5489.4946 - lr: 1.0000e-05\n",
      "Epoch 20/20000\n",
      "2660/2660 [==============================] - 8s 3ms/step - loss: 5535.0806 - mae: 5535.0806 - val_loss: 5489.4956 - val_mae: 5489.4961 - lr: 1.0000e-05\n",
      "Epoch 21/20000\n",
      "2660/2660 [==============================] - 9s 3ms/step - loss: 5535.0742 - mae: 5535.0742 - val_loss: 5489.4951 - val_mae: 5489.4951 - lr: 1.0000e-05\n",
      "Epoch 22/20000\n",
      "2660/2660 [==============================] - 9s 3ms/step - loss: 5535.0723 - mae: 5535.0723 - val_loss: 5489.4951 - val_mae: 5489.4961 - lr: 1.0000e-05\n",
      "Epoch 23/20000\n",
      "2660/2660 [==============================] - 10s 4ms/step - loss: 5535.0771 - mae: 5535.0771 - val_loss: 5489.4956 - val_mae: 5489.4961 - lr: 1.0000e-05\n",
      "Epoch 24/20000\n",
      "2660/2660 [==============================] - 9s 3ms/step - loss: 5535.0698 - mae: 5535.0698 - val_loss: 5489.4946 - val_mae: 5489.4946 - lr: 1.0000e-05\n",
      "計算にかかった時間: 214.26222443580627秒\n"
     ]
    }
   ],
   "source": [
    "start_time = time.time()\n",
    "callbacks1 = tf.keras.callbacks.ReduceLROnPlateau(monitor='val_mae',\n",
    "                            factor=0.2,\n",
    "                            patience=5,\n",
    "                            mode=\"auto\",\n",
    "                            min_lr=0.001) #最初は0.001だった\n",
    "callbacks2 = tf.keras.callbacks.EarlyStopping(monitor=\"val_mae\",\n",
    "                                              patience=20, #20→5\n",
    "                                              mode=\"auto\")\n",
    "history =  model.fit(x=x_train,\n",
    "                     y=y_train,\n",
    "                     epochs = 20000,\n",
    "                     batch_size=200,\n",
    "                     validation_data=(x_test, y_test),\n",
    "                     callbacks=[callbacks1,callbacks2])\n",
    "end_time = time.time()\n",
    "elapsed_time = end_time - start_time   #経過時間を計算して表示\n",
    "print(f\"計算にかかった時間: {elapsed_time}秒\")"
   ]
  },
  {
   "cell_type": "code",
   "execution_count": 14,
   "id": "fd9f2af9",
   "metadata": {},
   "outputs": [
    {
     "data": {
      "text/plain": [
       "dict_keys(['loss', 'mae', 'val_loss', 'val_mae', 'lr'])"
      ]
     },
     "execution_count": 14,
     "metadata": {},
     "output_type": "execute_result"
    }
   ],
   "source": [
    "history_dict = history.history\n",
    "history_dict.keys()"
   ]
  },
  {
   "cell_type": "code",
   "execution_count": 15,
   "id": "b2421dc8",
   "metadata": {},
   "outputs": [
    {
     "data": {
      "image/png": "[encoded data removed]",
      "text/plain": [
       "<Figure size 1200x800 with 1 Axes>"
      ]
     },
     "metadata": {},
     "output_type": "display_data"
    }
   ],
   "source": [
    "mae = history_dict['mae']\n",
    "val_mse = history_dict['val_mae']\n",
    "epochs = range(1, len(mae) + 1)\n",
    "\n",
    "plt.rcParams[\"font.size\"] = 15\n",
    "plt.figure(figsize=(12, 8))\n",
    "plt.plot(epochs, mae, label='mae')\n",
    "plt.plot(epochs, val_mse, label='val_mae')\n",
    "plt.xlabel(\"epochs\",fontsize=20)\n",
    "plt.ylabel(\"error\",fontsize=20)\n",
    "plt.ylim((0,750))\n",
    "plt.legend(loc = 'best',fontsize=20)\n",
    "#plt.savefig('mae_transition.png')\n",
    "plt.show()"
   ]
  },
  {
   "cell_type": "code",
   "execution_count": 16,
   "id": "c937eb63",
   "metadata": {},
   "outputs": [],
   "source": [
    "weights = [com.get_weights() for com in model.layers[0:]] \n",
    "model.layers[0].set_weights(weights[0])\n",
    "model.layers[1].set_weights(weights[1])\n",
    "model.layers[2].set_weights(weights[2])"
   ]
  },
  {
   "cell_type": "code",
   "execution_count": 18,
   "id": "ce774755",
   "metadata": {},
   "outputs": [
    {
     "name": "stdout",
     "output_type": "stream",
     "text": [
      "INFO:tensorflow:Assets written to: i_predict CD_3Ddist-3000\\assets\n"
     ]
    }
   ],
   "source": [
    "model.save('i_predict CD_3Ddist-3000')"
   ]
  }
 ],
 "metadata": {
  "kernelspec": {
   "display_name": "Python 3 (ipykernel)",
   "language": "python",
   "name": "python3"
  },
  "language_info": {
   "codemirror_mode": {
    "name": "ipython",
    "version": 3
   },
   "file_extension": ".py",
   "mimetype": "text/x-python",
   "name": "python",
   "nbconvert_exporter": "python",
   "pygments_lexer": "ipython3",
   "version": "3.9.18"
  }
 },
 "nbformat": 4,
 "nbformat_minor": 5
}
