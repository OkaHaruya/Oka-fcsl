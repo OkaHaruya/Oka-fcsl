{
 "cells": [
  {
   "cell_type": "code",
   "execution_count": 27,
   "id": "ce7824c4",
   "metadata": {},
   "outputs": [],
   "source": [
    "import warnings\n",
    "warnings.simplefilter('ignore', FutureWarning)"
   ]
  },
  {
   "cell_type": "code",
   "execution_count": 1,
   "id": "eab3a947",
   "metadata": {},
   "outputs": [],
   "source": [
    "import tensorflow as tf\n",
    "import numpy as np\n",
    "import matplotlib.pyplot as plt\n",
    "import pandas as pd\n",
    "import sklearn \n",
    "import time"
   ]
  },
  {
   "cell_type": "code",
   "execution_count": 2,
   "id": "5753432b",
   "metadata": {},
   "outputs": [],
   "source": [
    "#from tensorflow.keras import models\n",
    "#from tensorflow.keras import layers\n",
    "from sklearn.model_selection import train_test_split"
   ]
  },
  {
   "cell_type": "code",
   "execution_count": 3,
   "id": "61385086",
   "metadata": {},
   "outputs": [],
   "source": [
    "df_input = pd.read_csv(\"CD3D_100-150℃_0.2-1.6mm_0.4-0.9V_std\", usecols=[1,2,3,4,5,6])"
   ]
  },
  {
   "cell_type": "code",
   "execution_count": 4,
   "id": "bee2e1cb",
   "metadata": {},
   "outputs": [],
   "source": [
    "df_output = pd. read_csv(\"CD3D_100-150℃_0.2-1.6mm_0.4-0.9V\", usecols=[7])"
   ]
  },
  {
   "cell_type": "code",
   "execution_count": 5,
   "id": "6aa258fc",
   "metadata": {},
   "outputs": [
    {
     "data": {
      "text/plain": [
       "(5880000, 6)"
      ]
     },
     "execution_count": 5,
     "metadata": {},
     "output_type": "execute_result"
    }
   ],
   "source": [
    "df_input.shape #0.45V20℃1.5ms1.6mmと0.65V130℃1.5ms1.6mmのデータなし"
   ]
  },
  {
   "cell_type": "code",
   "execution_count": 6,
   "id": "0c9360c2",
   "metadata": {},
   "outputs": [
    {
     "data": {
      "text/plain": [
       "(5880000, 1)"
      ]
     },
     "execution_count": 6,
     "metadata": {},
     "output_type": "execute_result"
    }
   ],
   "source": [
    "df_output.shape"
   ]
  },
  {
   "cell_type": "code",
   "execution_count": 7,
   "id": "67c463de",
   "metadata": {},
   "outputs": [],
   "source": [
    "x_train, x_test, y_train, y_test = train_test_split(df_input, df_output, test_size=0.1, random_state=0)"
   ]
  },
  {
   "cell_type": "code",
   "execution_count": 8,
   "id": "9b16ab26",
   "metadata": {},
   "outputs": [
    {
     "name": "stdout",
     "output_type": "stream",
     "text": [
      "(5292000, 6) (588000, 6)\n"
     ]
    }
   ],
   "source": [
    "print(x_train.shape,x_test.shape)"
   ]
  },
  {
   "cell_type": "code",
   "execution_count": 9,
   "id": "e2036ac2",
   "metadata": {},
   "outputs": [
    {
     "data": {
      "text/html": [
       "<div>\n",
       "<style scoped>\n",
       "    .dataframe tbody tr th:only-of-type {\n",
       "        vertical-align: middle;\n",
       "    }\n",
       "\n",
       "    .dataframe tbody tr th {\n",
       "        vertical-align: top;\n",
       "    }\n",
       "\n",
       "    .dataframe thead th {\n",
       "        text-align: right;\n",
       "    }\n",
       "</style>\n",
       "<table border=\"1\" class=\"dataframe\">\n",
       "  <thead>\n",
       "    <tr style=\"text-align: right;\">\n",
       "      <th></th>\n",
       "      <th>x座標</th>\n",
       "      <th>y座標</th>\n",
       "      <th>z座標</th>\n",
       "      <th>V[V]</th>\n",
       "      <th>T_cell[℃]</th>\n",
       "      <th>W_ch[mm]</th>\n",
       "    </tr>\n",
       "  </thead>\n",
       "  <tbody>\n",
       "    <tr>\n",
       "      <th>5471191</th>\n",
       "      <td>0.306461</td>\n",
       "      <td>0.706739</td>\n",
       "      <td>-0.636484</td>\n",
       "      <td>1.257201</td>\n",
       "      <td>1.453669</td>\n",
       "      <td>-0.254672</td>\n",
       "    </tr>\n",
       "    <tr>\n",
       "      <th>2868884</th>\n",
       "      <td>0.055646</td>\n",
       "      <td>-1.646762</td>\n",
       "      <td>-0.913934</td>\n",
       "      <td>0.941289</td>\n",
       "      <td>-0.297883</td>\n",
       "      <td>1.355513</td>\n",
       "    </tr>\n",
       "    <tr>\n",
       "      <th>5733272</th>\n",
       "      <td>-0.153366</td>\n",
       "      <td>-1.262536</td>\n",
       "      <td>-1.155252</td>\n",
       "      <td>0.625377</td>\n",
       "      <td>1.453669</td>\n",
       "      <td>1.355513</td>\n",
       "    </tr>\n",
       "    <tr>\n",
       "      <th>200929</th>\n",
       "      <td>-0.274593</td>\n",
       "      <td>0.738098</td>\n",
       "      <td>1.150813</td>\n",
       "      <td>0.625377</td>\n",
       "      <td>-1.465584</td>\n",
       "      <td>-1.059765</td>\n",
       "    </tr>\n",
       "    <tr>\n",
       "      <th>90277</th>\n",
       "      <td>-0.926713</td>\n",
       "      <td>-0.216606</td>\n",
       "      <td>1.557310</td>\n",
       "      <td>-0.954184</td>\n",
       "      <td>-1.465584</td>\n",
       "      <td>-1.059765</td>\n",
       "    </tr>\n",
       "    <tr>\n",
       "      <th>...</th>\n",
       "      <td>...</td>\n",
       "      <td>...</td>\n",
       "      <td>...</td>\n",
       "      <td>...</td>\n",
       "      <td>...</td>\n",
       "      <td>...</td>\n",
       "    </tr>\n",
       "    <tr>\n",
       "      <th>2249467</th>\n",
       "      <td>-1.194249</td>\n",
       "      <td>0.031731</td>\n",
       "      <td>1.020476</td>\n",
       "      <td>0.941289</td>\n",
       "      <td>-0.297883</td>\n",
       "      <td>-1.059765</td>\n",
       "    </tr>\n",
       "    <tr>\n",
       "      <th>5157699</th>\n",
       "      <td>-0.291314</td>\n",
       "      <td>-0.663866</td>\n",
       "      <td>1.666999</td>\n",
       "      <td>1.257201</td>\n",
       "      <td>1.453669</td>\n",
       "      <td>-1.059765</td>\n",
       "    </tr>\n",
       "    <tr>\n",
       "      <th>2215104</th>\n",
       "      <td>-1.127365</td>\n",
       "      <td>1.268348</td>\n",
       "      <td>1.408906</td>\n",
       "      <td>1.257201</td>\n",
       "      <td>-0.297883</td>\n",
       "      <td>-1.059765</td>\n",
       "    </tr>\n",
       "    <tr>\n",
       "      <th>1484405</th>\n",
       "      <td>-0.320576</td>\n",
       "      <td>-0.316384</td>\n",
       "      <td>0.073273</td>\n",
       "      <td>-0.322359</td>\n",
       "      <td>-0.881734</td>\n",
       "      <td>-0.254672</td>\n",
       "    </tr>\n",
       "    <tr>\n",
       "      <th>4500015</th>\n",
       "      <td>-0.571391</td>\n",
       "      <td>1.574652</td>\n",
       "      <td>-0.397748</td>\n",
       "      <td>0.941289</td>\n",
       "      <td>0.869818</td>\n",
       "      <td>-0.254672</td>\n",
       "    </tr>\n",
       "  </tbody>\n",
       "</table>\n",
       "<p>5292000 rows × 6 columns</p>\n",
       "</div>"
      ],
      "text/plain": [
       "              x座標       y座標       z座標      V[V]  T_cell[℃]  W_ch[mm]\n",
       "5471191  0.306461  0.706739 -0.636484  1.257201   1.453669 -0.254672\n",
       "2868884  0.055646 -1.646762 -0.913934  0.941289  -0.297883  1.355513\n",
       "5733272 -0.153366 -1.262536 -1.155252  0.625377   1.453669  1.355513\n",
       "200929  -0.274593  0.738098  1.150813  0.625377  -1.465584 -1.059765\n",
       "90277   -0.926713 -0.216606  1.557310 -0.954184  -1.465584 -1.059765\n",
       "...           ...       ...       ...       ...        ...       ...\n",
       "2249467 -1.194249  0.031731  1.020476  0.941289  -0.297883 -1.059765\n",
       "5157699 -0.291314 -0.663866  1.666999  1.257201   1.453669 -1.059765\n",
       "2215104 -1.127365  1.268348  1.408906  1.257201  -0.297883 -1.059765\n",
       "1484405 -0.320576 -0.316384  0.073273 -0.322359  -0.881734 -0.254672\n",
       "4500015 -0.571391  1.574652 -0.397748  0.941289   0.869818 -0.254672\n",
       "\n",
       "[5292000 rows x 6 columns]"
      ]
     },
     "execution_count": 9,
     "metadata": {},
     "output_type": "execute_result"
    }
   ],
   "source": [
    "x_train"
   ]
  },
  {
   "cell_type": "code",
   "execution_count": 10,
   "id": "5f2b908c",
   "metadata": {},
   "outputs": [
    {
     "data": {
      "text/html": [
       "<div>\n",
       "<style scoped>\n",
       "    .dataframe tbody tr th:only-of-type {\n",
       "        vertical-align: middle;\n",
       "    }\n",
       "\n",
       "    .dataframe tbody tr th {\n",
       "        vertical-align: top;\n",
       "    }\n",
       "\n",
       "    .dataframe thead th {\n",
       "        text-align: right;\n",
       "    }\n",
       "</style>\n",
       "<table border=\"1\" class=\"dataframe\">\n",
       "  <thead>\n",
       "    <tr style=\"text-align: right;\">\n",
       "      <th></th>\n",
       "      <th>i[A/m^2]</th>\n",
       "    </tr>\n",
       "  </thead>\n",
       "  <tbody>\n",
       "    <tr>\n",
       "      <th>5471191</th>\n",
       "      <td>3258.260193</td>\n",
       "    </tr>\n",
       "    <tr>\n",
       "      <th>2868884</th>\n",
       "      <td>1838.461275</td>\n",
       "    </tr>\n",
       "    <tr>\n",
       "      <th>5733272</th>\n",
       "      <td>4839.370980</td>\n",
       "    </tr>\n",
       "    <tr>\n",
       "      <th>200929</th>\n",
       "      <td>2443.410761</td>\n",
       "    </tr>\n",
       "    <tr>\n",
       "      <th>90277</th>\n",
       "      <td>14124.447796</td>\n",
       "    </tr>\n",
       "    <tr>\n",
       "      <th>...</th>\n",
       "      <td>...</td>\n",
       "    </tr>\n",
       "    <tr>\n",
       "      <th>2249467</th>\n",
       "      <td>2682.287846</td>\n",
       "    </tr>\n",
       "    <tr>\n",
       "      <th>5157699</th>\n",
       "      <td>3674.578790</td>\n",
       "    </tr>\n",
       "    <tr>\n",
       "      <th>2215104</th>\n",
       "      <td>1330.409154</td>\n",
       "    </tr>\n",
       "    <tr>\n",
       "      <th>1484405</th>\n",
       "      <td>8191.613778</td>\n",
       "    </tr>\n",
       "    <tr>\n",
       "      <th>4500015</th>\n",
       "      <td>3934.114313</td>\n",
       "    </tr>\n",
       "  </tbody>\n",
       "</table>\n",
       "<p>5292000 rows × 1 columns</p>\n",
       "</div>"
      ],
      "text/plain": [
       "             i[A/m^2]\n",
       "5471191   3258.260193\n",
       "2868884   1838.461275\n",
       "5733272   4839.370980\n",
       "200929    2443.410761\n",
       "90277    14124.447796\n",
       "...               ...\n",
       "2249467   2682.287846\n",
       "5157699   3674.578790\n",
       "2215104   1330.409154\n",
       "1484405   8191.613778\n",
       "4500015   3934.114313\n",
       "\n",
       "[5292000 rows x 1 columns]"
      ]
     },
     "execution_count": 10,
     "metadata": {},
     "output_type": "execute_result"
    }
   ],
   "source": [
    "y_train"
   ]
  },
  {
   "cell_type": "code",
   "execution_count": 11,
   "id": "e8453f27",
   "metadata": {},
   "outputs": [],
   "source": [
    "from tensorflow.keras.models import Sequential\n",
    "from tensorflow.keras.layers import Dense, Activation\n",
    "from tensorflow.keras import regularizers, initializers\n",
    "\n",
    "model = Sequential()\n",
    "\n",
    "weights = [com.get_weights() for com in model.layers[0:]]  #重さを抽出（※始めに回すときだけ下の行と入れ替える）\n",
    "\n",
    "\n",
    "\n",
    "model.add(Dense(units=32, input_shape=(6,), activation='relu'))  \n",
    "model.add(Dense(units=10, activation='relu'))  #\n",
    "model.add(Dense(units=10, activation='relu'))\n",
    "model.add(Dense(units=1, activation='linear'))  #隠れ層3層でやってみる\n",
    "\n",
    "model.compile(loss='mean_absolute_error',    \n",
    "              optimizer='adam',             #とりあえずadamで\n",
    "              metrics=['mae'],\n",
    "              run_eagerly=False)   #計算時間5倍くらいかかる"
   ]
  },
  {
   "cell_type": "code",
   "execution_count": 12,
   "id": "232c27be",
   "metadata": {},
   "outputs": [
    {
     "name": "stdout",
     "output_type": "stream",
     "text": [
      "Epoch 1/20000\n",
      "26460/26460 [==============================] - 82s 3ms/step - loss: 646.3245 - mae: 646.3245 - val_loss: 164.5838 - val_mae: 164.5838 - lr: 0.0010\n",
      "Epoch 2/20000\n",
      "26460/26460 [==============================] - 77s 3ms/step - loss: 122.6727 - mae: 122.6727 - val_loss: 97.5479 - val_mae: 97.5479 - lr: 0.0010\n",
      "Epoch 3/20000\n",
      "26460/26460 [==============================] - 78s 3ms/step - loss: 89.9782 - mae: 89.9782 - val_loss: 83.9635 - val_mae: 83.9635 - lr: 0.0010\n",
      "Epoch 4/20000\n",
      "26460/26460 [==============================] - 78s 3ms/step - loss: 82.5209 - mae: 82.5209 - val_loss: 79.5768 - val_mae: 79.5768 - lr: 0.0010\n",
      "Epoch 5/20000\n",
      "26460/26460 [==============================] - 78s 3ms/step - loss: 78.8069 - mae: 78.8069 - val_loss: 78.1800 - val_mae: 78.1800 - lr: 0.0010\n",
      "Epoch 6/20000\n",
      "26460/26460 [==============================] - 78s 3ms/step - loss: 75.8612 - mae: 75.8612 - val_loss: 74.7939 - val_mae: 74.7939 - lr: 0.0010\n",
      "Epoch 7/20000\n",
      "26460/26460 [==============================] - 78s 3ms/step - loss: 73.8013 - mae: 73.8013 - val_loss: 73.2446 - val_mae: 73.2446 - lr: 0.0010\n",
      "Epoch 8/20000\n",
      "26460/26460 [==============================] - 78s 3ms/step - loss: 72.4405 - mae: 72.4405 - val_loss: 71.3034 - val_mae: 71.3034 - lr: 0.0010\n",
      "Epoch 9/20000\n",
      "26460/26460 [==============================] - 87s 3ms/step - loss: 71.5016 - mae: 71.5016 - val_loss: 70.2175 - val_mae: 70.2175 - lr: 0.0010\n",
      "Epoch 10/20000\n",
      "26460/26460 [==============================] - 81s 3ms/step - loss: 70.6093 - mae: 70.6093 - val_loss: 70.5718 - val_mae: 70.5718 - lr: 0.0010\n",
      "Epoch 11/20000\n",
      "26460/26460 [==============================] - 81s 3ms/step - loss: 69.7616 - mae: 69.7616 - val_loss: 69.2163 - val_mae: 69.2163 - lr: 0.0010\n",
      "Epoch 12/20000\n",
      "26460/26460 [==============================] - 84s 3ms/step - loss: 69.0512 - mae: 69.0512 - val_loss: 70.5887 - val_mae: 70.5887 - lr: 0.0010\n",
      "Epoch 13/20000\n",
      "26460/26460 [==============================] - 77s 3ms/step - loss: 68.3581 - mae: 68.3581 - val_loss: 67.1964 - val_mae: 67.1964 - lr: 0.0010\n",
      "Epoch 14/20000\n",
      "26460/26460 [==============================] - 78s 3ms/step - loss: 67.7260 - mae: 67.7260 - val_loss: 67.3906 - val_mae: 67.3906 - lr: 0.0010\n",
      "Epoch 15/20000\n",
      "26460/26460 [==============================] - 85s 3ms/step - loss: 67.2276 - mae: 67.2276 - val_loss: 67.7312 - val_mae: 67.7312 - lr: 0.0010\n",
      "Epoch 16/20000\n",
      "26460/26460 [==============================] - 83s 3ms/step - loss: 66.8504 - mae: 66.8504 - val_loss: 67.4913 - val_mae: 67.4913 - lr: 0.0010\n",
      "Epoch 17/20000\n",
      "26460/26460 [==============================] - 82s 3ms/step - loss: 66.3756 - mae: 66.3756 - val_loss: 65.4820 - val_mae: 65.4820 - lr: 0.0010\n",
      "Epoch 18/20000\n",
      "26460/26460 [==============================] - 94s 4ms/step - loss: 65.9506 - mae: 65.9506 - val_loss: 67.9223 - val_mae: 67.9223 - lr: 0.0010\n",
      "Epoch 19/20000\n",
      "26460/26460 [==============================] - 87s 3ms/step - loss: 65.6551 - mae: 65.6551 - val_loss: 65.1683 - val_mae: 65.1683 - lr: 0.0010\n",
      "Epoch 20/20000\n",
      "26460/26460 [==============================] - 82s 3ms/step - loss: 65.4420 - mae: 65.4420 - val_loss: 65.6628 - val_mae: 65.6628 - lr: 0.0010\n",
      "Epoch 21/20000\n",
      "26460/26460 [==============================] - 80s 3ms/step - loss: 65.2374 - mae: 65.2374 - val_loss: 66.3917 - val_mae: 66.3917 - lr: 0.0010\n",
      "Epoch 22/20000\n",
      "26460/26460 [==============================] - 81s 3ms/step - loss: 65.0000 - mae: 65.0000 - val_loss: 65.8614 - val_mae: 65.8614 - lr: 0.0010\n",
      "Epoch 23/20000\n",
      "26460/26460 [==============================] - 81s 3ms/step - loss: 64.8575 - mae: 64.8575 - val_loss: 64.2783 - val_mae: 64.2783 - lr: 0.0010\n",
      "Epoch 24/20000\n",
      "26460/26460 [==============================] - 81s 3ms/step - loss: 64.6641 - mae: 64.6641 - val_loss: 64.1887 - val_mae: 64.1887 - lr: 0.0010\n",
      "Epoch 25/20000\n",
      "26460/26460 [==============================] - 81s 3ms/step - loss: 64.5324 - mae: 64.5324 - val_loss: 63.4957 - val_mae: 63.4957 - lr: 0.0010\n",
      "Epoch 26/20000\n",
      "26460/26460 [==============================] - 81s 3ms/step - loss: 64.3609 - mae: 64.3609 - val_loss: 63.9047 - val_mae: 63.9047 - lr: 0.0010\n",
      "Epoch 27/20000\n",
      "26460/26460 [==============================] - 81s 3ms/step - loss: 64.2656 - mae: 64.2656 - val_loss: 63.3050 - val_mae: 63.3050 - lr: 0.0010\n",
      "Epoch 28/20000\n",
      "26460/26460 [==============================] - 81s 3ms/step - loss: 64.1336 - mae: 64.1336 - val_loss: 63.1696 - val_mae: 63.1696 - lr: 0.0010\n",
      "Epoch 29/20000\n",
      "26460/26460 [==============================] - 81s 3ms/step - loss: 63.9649 - mae: 63.9649 - val_loss: 63.6433 - val_mae: 63.6433 - lr: 0.0010\n",
      "Epoch 30/20000\n",
      "26460/26460 [==============================] - 81s 3ms/step - loss: 63.8801 - mae: 63.8801 - val_loss: 63.9984 - val_mae: 63.9984 - lr: 0.0010\n",
      "Epoch 31/20000\n",
      "26460/26460 [==============================] - 87s 3ms/step - loss: 63.7379 - mae: 63.7379 - val_loss: 63.0651 - val_mae: 63.0651 - lr: 0.0010\n",
      "Epoch 32/20000\n",
      "26460/26460 [==============================] - 83s 3ms/step - loss: 63.5786 - mae: 63.5786 - val_loss: 62.3597 - val_mae: 62.3597 - lr: 0.0010\n",
      "Epoch 33/20000\n",
      "26460/26460 [==============================] - 83s 3ms/step - loss: 63.4722 - mae: 63.4722 - val_loss: 63.6476 - val_mae: 63.6476 - lr: 0.0010\n",
      "Epoch 34/20000\n",
      "26460/26460 [==============================] - 82s 3ms/step - loss: 63.2918 - mae: 63.2918 - val_loss: 61.9936 - val_mae: 61.9936 - lr: 0.0010\n",
      "Epoch 35/20000\n",
      "26460/26460 [==============================] - 85s 3ms/step - loss: 63.1528 - mae: 63.1528 - val_loss: 62.8710 - val_mae: 62.8710 - lr: 0.0010\n",
      "Epoch 36/20000\n",
      "26460/26460 [==============================] - 79s 3ms/step - loss: 63.0112 - mae: 63.0112 - val_loss: 62.1845 - val_mae: 62.1845 - lr: 0.0010\n",
      "Epoch 37/20000\n",
      "26460/26460 [==============================] - 79s 3ms/step - loss: 62.8521 - mae: 62.8521 - val_loss: 63.8773 - val_mae: 63.8773 - lr: 0.0010\n",
      "Epoch 38/20000\n",
      "26460/26460 [==============================] - 81s 3ms/step - loss: 62.7677 - mae: 62.7677 - val_loss: 61.7991 - val_mae: 61.7991 - lr: 0.0010\n",
      "Epoch 39/20000\n",
      "26460/26460 [==============================] - 82s 3ms/step - loss: 62.6438 - mae: 62.6438 - val_loss: 61.9658 - val_mae: 61.9658 - lr: 0.0010\n",
      "Epoch 40/20000\n",
      "26460/26460 [==============================] - 82s 3ms/step - loss: 62.5100 - mae: 62.5100 - val_loss: 61.9490 - val_mae: 61.9490 - lr: 0.0010\n",
      "Epoch 41/20000\n",
      "26460/26460 [==============================] - 78s 3ms/step - loss: 62.3863 - mae: 62.3863 - val_loss: 63.3102 - val_mae: 63.3102 - lr: 0.0010\n",
      "Epoch 42/20000\n",
      "26460/26460 [==============================] - 78s 3ms/step - loss: 62.3278 - mae: 62.3278 - val_loss: 62.6338 - val_mae: 62.6338 - lr: 0.0010\n",
      "Epoch 43/20000\n",
      "26460/26460 [==============================] - 84s 3ms/step - loss: 62.2312 - mae: 62.2312 - val_loss: 61.2267 - val_mae: 61.2267 - lr: 0.0010\n",
      "Epoch 44/20000\n",
      "26460/26460 [==============================] - 81s 3ms/step - loss: 62.0959 - mae: 62.0959 - val_loss: 62.4545 - val_mae: 62.4545 - lr: 0.0010\n",
      "Epoch 45/20000\n",
      "26460/26460 [==============================] - 79s 3ms/step - loss: 62.0437 - mae: 62.0437 - val_loss: 61.4109 - val_mae: 61.4109 - lr: 0.0010\n",
      "Epoch 46/20000\n",
      "26460/26460 [==============================] - 82s 3ms/step - loss: 61.9554 - mae: 61.9554 - val_loss: 60.7244 - val_mae: 60.7244 - lr: 0.0010\n",
      "Epoch 47/20000\n",
      "26460/26460 [==============================] - 80s 3ms/step - loss: 61.8372 - mae: 61.8372 - val_loss: 61.8558 - val_mae: 61.8558 - lr: 0.0010\n",
      "Epoch 48/20000\n",
      "26460/26460 [==============================] - 80s 3ms/step - loss: 61.7774 - mae: 61.7774 - val_loss: 60.3354 - val_mae: 60.3354 - lr: 0.0010\n",
      "Epoch 49/20000\n",
      "26460/26460 [==============================] - 81s 3ms/step - loss: 61.7154 - mae: 61.7154 - val_loss: 61.1487 - val_mae: 61.1487 - lr: 0.0010\n",
      "Epoch 50/20000\n",
      "26460/26460 [==============================] - 81s 3ms/step - loss: 61.6002 - mae: 61.6002 - val_loss: 60.8885 - val_mae: 60.8885 - lr: 0.0010\n",
      "Epoch 51/20000\n",
      "26460/26460 [==============================] - 82s 3ms/step - loss: 61.5450 - mae: 61.5450 - val_loss: 60.6105 - val_mae: 60.6105 - lr: 0.0010\n",
      "Epoch 52/20000\n",
      "26460/26460 [==============================] - 87s 3ms/step - loss: 61.4525 - mae: 61.4525 - val_loss: 61.1639 - val_mae: 61.1639 - lr: 0.0010\n",
      "Epoch 53/20000\n",
      "26460/26460 [==============================] - 86s 3ms/step - loss: 61.3562 - mae: 61.3562 - val_loss: 64.0331 - val_mae: 64.0331 - lr: 0.0010\n",
      "計算にかかった時間: 4320.303271532059秒\n"
     ]
    }
   ],
   "source": [
    "start_time = time.time()\n",
    "callbacks1 = tf.keras.callbacks.ReduceLROnPlateau(monitor='val_mae',\n",
    "                            factor=0.2,\n",
    "                            patience=5,\n",
    "                            mode=\"auto\",\n",
    "                            min_lr=0.001) #最初は0.001だった\n",
    "callbacks2 = tf.keras.callbacks.EarlyStopping(monitor=\"val_mae\",\n",
    "                                              patience=5, #20→5\n",
    "                                              mode=\"auto\")\n",
    "history =  model.fit(x=x_train,\n",
    "                     y=y_train,\n",
    "                     epochs = 20000,\n",
    "                     batch_size=200,\n",
    "                     validation_data=(x_test, y_test),\n",
    "                     callbacks=[callbacks1,callbacks2])\n",
    "end_time = time.time()\n",
    "elapsed_time = end_time - start_time   #経過時間を計算して表示\n",
    "print(f\"計算にかかった時間: {elapsed_time}秒\")"
   ]
  },
  {
   "cell_type": "code",
   "execution_count": 13,
   "id": "fd9f2af9",
   "metadata": {},
   "outputs": [
    {
     "data": {
      "text/plain": [
       "dict_keys(['loss', 'mae', 'val_loss', 'val_mae', 'lr'])"
      ]
     },
     "execution_count": 13,
     "metadata": {},
     "output_type": "execute_result"
    }
   ],
   "source": [
    "history_dict = history.history\n",
    "history_dict.keys()"
   ]
  },
  {
   "cell_type": "code",
   "execution_count": 14,
   "id": "b2421dc8",
   "metadata": {},
   "outputs": [
    {
     "data": {
      "image/png": "[encoded data removed]",
      "text/plain": [
       "<Figure size 1200x800 with 1 Axes>"
      ]
     },
     "metadata": {},
     "output_type": "display_data"
    }
   ],
   "source": [
    "mae = history_dict['mae']\n",
    "val_mse = history_dict['val_mae']\n",
    "epochs = range(1, len(mae) + 1)\n",
    "\n",
    "plt.rcParams[\"font.size\"] = 15\n",
    "plt.figure(figsize=(12, 8))\n",
    "plt.plot(epochs, mae, label='mae')\n",
    "plt.plot(epochs, val_mse, label='val_mae')\n",
    "plt.xlabel(\"epochs\",fontsize=20)\n",
    "plt.ylabel(\"error\",fontsize=20)\n",
    "plt.ylim((0,750))\n",
    "plt.legend(loc = 'best',fontsize=20)\n",
    "#plt.savefig('mae_transition.png')\n",
    "plt.show()"
   ]
  },
  {
   "cell_type": "code",
   "execution_count": 15,
   "id": "c937eb63",
   "metadata": {},
   "outputs": [],
   "source": [
    "weights = [com.get_weights() for com in model.layers[0:]] \n",
    "model.layers[0].set_weights(weights[0])\n",
    "model.layers[1].set_weights(weights[1])\n",
    "model.layers[2].set_weights(weights[2])"
   ]
  },
  {
   "cell_type": "code",
   "execution_count": 16,
   "id": "ce774755",
   "metadata": {},
   "outputs": [
    {
     "name": "stdout",
     "output_type": "stream",
     "text": [
      "INFO:tensorflow:Assets written to: i_predict CD_3Ddist2\\assets\n"
     ]
    }
   ],
   "source": [
    "model.save('i_predict CD_3Ddist2')"
   ]
  },
  {
   "cell_type": "code",
   "execution_count": 21,
   "id": "59641780",
   "metadata": {},
   "outputs": [
    {
     "name": "stderr",
     "output_type": "stream",
     "text": [
      "c:\\Users\\aruhy\\anaconda3\\envs\\MLMO\\lib\\site-packages\\tqdm\\auto.py:21: TqdmWarning: IProgress not found. Please update jupyter and ipywidgets. See https://ipywidgets.readthedocs.io/en/stable/user_install.html\n",
      "  from .autonotebook import tqdm as notebook_tqdm\n"
     ]
    }
   ],
   "source": [
    "import shap"
   ]
  },
  {
   "cell_type": "code",
   "execution_count": null,
   "id": "13ce06e4",
   "metadata": {},
   "outputs": [],
   "source": [
    "# SHAPの準備\n",
    "explainer = shap.Explainer(model, x_train)\n",
    "\n",
    "# SHAP値の計算\n",
    "shap_values = explainer(x_train)\n",
    "\n",
    "# SHAP値をプロットする\n",
    "shap.summary_plot(shap_values, x_train)"
   ]
  },
  {
   "cell_type": "code",
   "execution_count": null,
   "id": "c4c47912",
   "metadata": {},
   "outputs": [],
   "source": [
    "from sklearn.ensemble import RandomForestRegressor\n",
    "from sklearn.inspection import partial_dependence\n",
    "# 部分依存プロットを計算する\n",
    "# feature_idxは目的の特徴量のインデックス、ここでは 0 と仮定しています\n",
    "# もし複数の特徴量を調べたい場合は、feature_idx=[0, 1, ...] のようにインデックスを指定します\n",
    "partial_dependence(model, x_train, features=['x座標','y座標','z座標','V[V]','T_cell[℃]','W_ch[mm]'])\n"
   ]
  }
 ],
 "metadata": {
  "kernelspec": {
   "display_name": "Python 3 (ipykernel)",
   "language": "python",
   "name": "python3"
  },
  "language_info": {
   "codemirror_mode": {
    "name": "ipython",
    "version": 3
   },
   "file_extension": ".py",
   "mimetype": "text/x-python",
   "name": "python",
   "nbconvert_exporter": "python",
   "pygments_lexer": "ipython3",
   "version": "3.9.18"
  }
 },
 "nbformat": 4,
 "nbformat_minor": 5
}
