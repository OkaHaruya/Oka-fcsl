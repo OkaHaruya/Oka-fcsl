{
 "cells": [
  {
   "cell_type": "code",
   "execution_count": 27,
   "id": "ce7824c4",
   "metadata": {},
   "outputs": [],
   "source": [
    "import warnings\n",
    "warnings.simplefilter('ignore', FutureWarning)"
   ]
  },
  {
   "cell_type": "code",
   "execution_count": 28,
   "id": "eab3a947",
   "metadata": {},
   "outputs": [],
   "source": [
    "import tensorflow as tf\n",
    "import numpy as np\n",
    "import matplotlib.pyplot as plt\n",
    "import pandas as pd\n",
    "import sklearn\n",
    "import time"
   ]
  },
  {
   "cell_type": "code",
   "execution_count": 29,
   "id": "5753432b",
   "metadata": {},
   "outputs": [],
   "source": [
    "#from tensorflow.keras import models\n",
    "#from tensorflow.keras import layers\n",
    "from sklearn.model_selection import train_test_split"
   ]
  },
  {
   "cell_type": "code",
   "execution_count": 30,
   "id": "61385086",
   "metadata": {},
   "outputs": [],
   "source": [
    "df_input = pd.read_csv(\"CD3D_100-150℃_0.2-1.6mm_0.4-0.9V_std\", usecols=[1,2,3,4,5,6])"
   ]
  },
  {
   "cell_type": "code",
   "execution_count": 31,
   "id": "bee2e1cb",
   "metadata": {},
   "outputs": [],
   "source": [
    "df_output = pd. read_csv(\"CD3D_100-150℃_0.2-1.6mm_0.4-0.9V\", usecols=[7])"
   ]
  },
  {
   "cell_type": "code",
   "execution_count": 32,
   "id": "6aa258fc",
   "metadata": {},
   "outputs": [
    {
     "data": {
      "text/plain": [
       "(5940000, 6)"
      ]
     },
     "execution_count": 32,
     "metadata": {},
     "output_type": "execute_result"
    }
   ],
   "source": [
    "df_input.shape"
   ]
  },
  {
   "cell_type": "code",
   "execution_count": 33,
   "id": "0c9360c2",
   "metadata": {},
   "outputs": [
    {
     "data": {
      "text/plain": [
       "(5940000, 1)"
      ]
     },
     "execution_count": 33,
     "metadata": {},
     "output_type": "execute_result"
    }
   ],
   "source": [
    "df_output.shape"
   ]
  },
  {
   "cell_type": "code",
   "execution_count": 34,
   "id": "67c463de",
   "metadata": {},
   "outputs": [],
   "source": [
    "x_train, x_test, y_train, y_test = train_test_split(df_input, df_output, test_size=0.1, random_state=0)"
   ]
  },
  {
   "cell_type": "code",
   "execution_count": 35,
   "id": "9b16ab26",
   "metadata": {},
   "outputs": [
    {
     "name": "stdout",
     "output_type": "stream",
     "text": [
      "(5346000, 6) (594000, 6)\n"
     ]
    }
   ],
   "source": [
    "print(x_train.shape,x_test.shape)"
   ]
  },
  {
   "cell_type": "code",
   "execution_count": 36,
   "id": "e2036ac2",
   "metadata": {},
   "outputs": [
    {
     "data": {
      "text/html": [
       "<div>\n",
       "<style scoped>\n",
       "    .dataframe tbody tr th:only-of-type {\n",
       "        vertical-align: middle;\n",
       "    }\n",
       "\n",
       "    .dataframe tbody tr th {\n",
       "        vertical-align: top;\n",
       "    }\n",
       "\n",
       "    .dataframe thead th {\n",
       "        text-align: right;\n",
       "    }\n",
       "</style>\n",
       "<table border=\"1\" class=\"dataframe\">\n",
       "  <thead>\n",
       "    <tr style=\"text-align: right;\">\n",
       "      <th></th>\n",
       "      <th>x座標</th>\n",
       "      <th>y座標</th>\n",
       "      <th>z座標</th>\n",
       "      <th>V[V]</th>\n",
       "      <th>T_cell[℃]</th>\n",
       "      <th>W_ch[mm]</th>\n",
       "    </tr>\n",
       "  </thead>\n",
       "  <tbody>\n",
       "    <tr>\n",
       "      <th>5398873</th>\n",
       "      <td>-0.725381</td>\n",
       "      <td>-1.457382</td>\n",
       "      <td>-0.386858</td>\n",
       "      <td>-9.486833e-01</td>\n",
       "      <td>1.46385</td>\n",
       "      <td>-0.267261</td>\n",
       "    </tr>\n",
       "    <tr>\n",
       "      <th>5593541</th>\n",
       "      <td>-0.950124</td>\n",
       "      <td>1.710197</td>\n",
       "      <td>0.019343</td>\n",
       "      <td>1.581139e+00</td>\n",
       "      <td>1.46385</td>\n",
       "      <td>-0.267261</td>\n",
       "    </tr>\n",
       "    <tr>\n",
       "      <th>1157183</th>\n",
       "      <td>-0.013693</td>\n",
       "      <td>-0.126999</td>\n",
       "      <td>0.902670</td>\n",
       "      <td>-3.162278e-01</td>\n",
       "      <td>-0.87831</td>\n",
       "      <td>-1.069045</td>\n",
       "    </tr>\n",
       "    <tr>\n",
       "      <th>4758896</th>\n",
       "      <td>-0.159360</td>\n",
       "      <td>-1.199858</td>\n",
       "      <td>-1.401718</td>\n",
       "      <td>2.808667e-15</td>\n",
       "      <td>0.87831</td>\n",
       "      <td>1.336306</td>\n",
       "    </tr>\n",
       "    <tr>\n",
       "      <th>5713770</th>\n",
       "      <td>2.129693</td>\n",
       "      <td>1.646846</td>\n",
       "      <td>-1.418481</td>\n",
       "      <td>-9.486833e-01</td>\n",
       "      <td>1.46385</td>\n",
       "      <td>1.336306</td>\n",
       "    </tr>\n",
       "    <tr>\n",
       "      <th>...</th>\n",
       "      <td>...</td>\n",
       "      <td>...</td>\n",
       "      <td>...</td>\n",
       "      <td>...</td>\n",
       "      <td>...</td>\n",
       "      <td>...</td>\n",
       "    </tr>\n",
       "    <tr>\n",
       "      <th>2249467</th>\n",
       "      <td>-0.862724</td>\n",
       "      <td>-0.374387</td>\n",
       "      <td>1.418482</td>\n",
       "      <td>1.264911e+00</td>\n",
       "      <td>-0.29277</td>\n",
       "      <td>-1.069045</td>\n",
       "    </tr>\n",
       "    <tr>\n",
       "      <th>5157699</th>\n",
       "      <td>-0.779486</td>\n",
       "      <td>0.173604</td>\n",
       "      <td>1.094810</td>\n",
       "      <td>6.324555e-01</td>\n",
       "      <td>1.46385</td>\n",
       "      <td>-1.069045</td>\n",
       "    </tr>\n",
       "    <tr>\n",
       "      <th>2215104</th>\n",
       "      <td>-1.145734</td>\n",
       "      <td>-0.570460</td>\n",
       "      <td>1.388823</td>\n",
       "      <td>3.162278e-01</td>\n",
       "      <td>-0.29277</td>\n",
       "      <td>-1.069045</td>\n",
       "    </tr>\n",
       "    <tr>\n",
       "      <th>1484405</th>\n",
       "      <td>0.098678</td>\n",
       "      <td>-0.697163</td>\n",
       "      <td>-0.644764</td>\n",
       "      <td>-3.162278e-01</td>\n",
       "      <td>-0.87831</td>\n",
       "      <td>-0.267261</td>\n",
       "    </tr>\n",
       "    <tr>\n",
       "      <th>4500015</th>\n",
       "      <td>-1.124925</td>\n",
       "      <td>-1.591054</td>\n",
       "      <td>-0.386858</td>\n",
       "      <td>3.162278e-01</td>\n",
       "      <td>0.87831</td>\n",
       "      <td>-0.267261</td>\n",
       "    </tr>\n",
       "  </tbody>\n",
       "</table>\n",
       "<p>5346000 rows × 6 columns</p>\n",
       "</div>"
      ],
      "text/plain": [
       "              x座標       y座標       z座標          V[V]  T_cell[℃]  W_ch[mm]\n",
       "5398873 -0.725381 -1.457382 -0.386858 -9.486833e-01    1.46385 -0.267261\n",
       "5593541 -0.950124  1.710197  0.019343  1.581139e+00    1.46385 -0.267261\n",
       "1157183 -0.013693 -0.126999  0.902670 -3.162278e-01   -0.87831 -1.069045\n",
       "4758896 -0.159360 -1.199858 -1.401718  2.808667e-15    0.87831  1.336306\n",
       "5713770  2.129693  1.646846 -1.418481 -9.486833e-01    1.46385  1.336306\n",
       "...           ...       ...       ...           ...        ...       ...\n",
       "2249467 -0.862724 -0.374387  1.418482  1.264911e+00   -0.29277 -1.069045\n",
       "5157699 -0.779486  0.173604  1.094810  6.324555e-01    1.46385 -1.069045\n",
       "2215104 -1.145734 -0.570460  1.388823  3.162278e-01   -0.29277 -1.069045\n",
       "1484405  0.098678 -0.697163 -0.644764 -3.162278e-01   -0.87831 -0.267261\n",
       "4500015 -1.124925 -1.591054 -0.386858  3.162278e-01    0.87831 -0.267261\n",
       "\n",
       "[5346000 rows x 6 columns]"
      ]
     },
     "execution_count": 36,
     "metadata": {},
     "output_type": "execute_result"
    }
   ],
   "source": [
    "x_train"
   ]
  },
  {
   "cell_type": "code",
   "execution_count": 37,
   "id": "5f2b908c",
   "metadata": {},
   "outputs": [
    {
     "data": {
      "text/html": [
       "<div>\n",
       "<style scoped>\n",
       "    .dataframe tbody tr th:only-of-type {\n",
       "        vertical-align: middle;\n",
       "    }\n",
       "\n",
       "    .dataframe tbody tr th {\n",
       "        vertical-align: top;\n",
       "    }\n",
       "\n",
       "    .dataframe thead th {\n",
       "        text-align: right;\n",
       "    }\n",
       "</style>\n",
       "<table border=\"1\" class=\"dataframe\">\n",
       "  <thead>\n",
       "    <tr style=\"text-align: right;\">\n",
       "      <th></th>\n",
       "      <th>i[A/m^2]</th>\n",
       "    </tr>\n",
       "  </thead>\n",
       "  <tbody>\n",
       "    <tr>\n",
       "      <th>5398873</th>\n",
       "      <td>19442.601314</td>\n",
       "    </tr>\n",
       "    <tr>\n",
       "      <th>5593541</th>\n",
       "      <td>2065.691483</td>\n",
       "    </tr>\n",
       "    <tr>\n",
       "      <th>1157183</th>\n",
       "      <td>10227.007299</td>\n",
       "    </tr>\n",
       "    <tr>\n",
       "      <th>4758896</th>\n",
       "      <td>6683.722003</td>\n",
       "    </tr>\n",
       "    <tr>\n",
       "      <th>5713770</th>\n",
       "      <td>171.972111</td>\n",
       "    </tr>\n",
       "    <tr>\n",
       "      <th>...</th>\n",
       "      <td>...</td>\n",
       "    </tr>\n",
       "    <tr>\n",
       "      <th>2249467</th>\n",
       "      <td>1320.610081</td>\n",
       "    </tr>\n",
       "    <tr>\n",
       "      <th>5157699</th>\n",
       "      <td>7631.123529</td>\n",
       "    </tr>\n",
       "    <tr>\n",
       "      <th>2215104</th>\n",
       "      <td>6594.117734</td>\n",
       "    </tr>\n",
       "    <tr>\n",
       "      <th>1484405</th>\n",
       "      <td>8238.851449</td>\n",
       "    </tr>\n",
       "    <tr>\n",
       "      <th>4500015</th>\n",
       "      <td>9116.800839</td>\n",
       "    </tr>\n",
       "  </tbody>\n",
       "</table>\n",
       "<p>5346000 rows × 1 columns</p>\n",
       "</div>"
      ],
      "text/plain": [
       "             i[A/m^2]\n",
       "5398873  19442.601314\n",
       "5593541   2065.691483\n",
       "1157183  10227.007299\n",
       "4758896   6683.722003\n",
       "5713770    171.972111\n",
       "...               ...\n",
       "2249467   1320.610081\n",
       "5157699   7631.123529\n",
       "2215104   6594.117734\n",
       "1484405   8238.851449\n",
       "4500015   9116.800839\n",
       "\n",
       "[5346000 rows x 1 columns]"
      ]
     },
     "execution_count": 37,
     "metadata": {},
     "output_type": "execute_result"
    }
   ],
   "source": [
    "y_train"
   ]
  },
  {
   "cell_type": "code",
   "execution_count": 38,
   "id": "e8453f27",
   "metadata": {},
   "outputs": [],
   "source": [
    "from tensorflow.keras.models import Sequential\n",
    "from tensorflow.keras.layers import Dense, Activation\n",
    "from tensorflow.keras import regularizers, initializers\n",
    "\n",
    "model = Sequential()\n",
    "\n",
    "weights = [com.get_weights() for com in model.layers[0:]]  #重さを抽出（※始めに回すときだけ下の行と入れ替える）\n",
    "\n",
    "\n",
    "\n",
    "model.add(Dense(units=32, input_shape=(6,), activation='relu'))  \n",
    "model.add(Dense(units=10, activation='relu'))  #\n",
    "model.add(Dense(units=10, activation='relu'))\n",
    "model.add(Dense(units=1, activation='linear'))  #隠れ層3層でやってみる\n",
    "\n",
    "model.compile(loss='mean_absolute_error',    \n",
    "              optimizer='adam',             #とりあえずadamで\n",
    "              metrics=['mae'],\n",
    "              run_eagerly=False)   #計算時間5倍くらいかかる"
   ]
  },
  {
   "cell_type": "code",
   "execution_count": 39,
   "id": "232c27be",
   "metadata": {},
   "outputs": [
    {
     "name": "stdout",
     "output_type": "stream",
     "text": [
      "Epoch 1/20000\n",
      "26730/26730 [==============================] - 43s 2ms/step - loss: 730.7924 - mae: 730.7924 - val_loss: 297.6403 - val_mae: 297.6403 - lr: 0.0010\n",
      "Epoch 2/20000\n",
      "26730/26730 [==============================] - 38s 1ms/step - loss: 247.1337 - mae: 247.1337 - val_loss: 197.8310 - val_mae: 197.8310 - lr: 0.0010\n",
      "Epoch 3/20000\n",
      "26730/26730 [==============================] - 38s 1ms/step - loss: 171.2878 - mae: 171.2878 - val_loss: 154.0339 - val_mae: 154.0339 - lr: 0.0010\n",
      "Epoch 4/20000\n",
      "26730/26730 [==============================] - 37s 1ms/step - loss: 148.8576 - mae: 148.8576 - val_loss: 145.7508 - val_mae: 145.7508 - lr: 0.0010\n",
      "Epoch 5/20000\n",
      "26730/26730 [==============================] - 38s 1ms/step - loss: 139.9353 - mae: 139.9353 - val_loss: 134.8091 - val_mae: 134.8091 - lr: 0.0010\n",
      "Epoch 6/20000\n",
      "26730/26730 [==============================] - 75s 3ms/step - loss: 130.1803 - mae: 130.1803 - val_loss: 127.9940 - val_mae: 127.9940 - lr: 0.0010\n",
      "Epoch 7/20000\n",
      "26730/26730 [==============================] - 41s 2ms/step - loss: 122.0799 - mae: 122.0799 - val_loss: 118.2206 - val_mae: 118.2206 - lr: 0.0010\n",
      "Epoch 8/20000\n",
      "26730/26730 [==============================] - 40s 2ms/step - loss: 115.3283 - mae: 115.3283 - val_loss: 112.8887 - val_mae: 112.8887 - lr: 0.0010\n",
      "Epoch 9/20000\n",
      "26730/26730 [==============================] - 40s 1ms/step - loss: 111.1946 - mae: 111.1946 - val_loss: 110.5451 - val_mae: 110.5451 - lr: 0.0010\n",
      "Epoch 10/20000\n",
      "26730/26730 [==============================] - 41s 2ms/step - loss: 108.6261 - mae: 108.6261 - val_loss: 107.8465 - val_mae: 107.8465 - lr: 0.0010\n",
      "Epoch 11/20000\n",
      "26730/26730 [==============================] - 41s 2ms/step - loss: 106.6719 - mae: 106.6719 - val_loss: 104.9749 - val_mae: 104.9749 - lr: 0.0010\n",
      "Epoch 12/20000\n",
      "26730/26730 [==============================] - 42s 2ms/step - loss: 104.9349 - mae: 104.9349 - val_loss: 104.1618 - val_mae: 104.1618 - lr: 0.0010\n",
      "Epoch 13/20000\n",
      "26730/26730 [==============================] - 44s 2ms/step - loss: 103.0797 - mae: 103.0797 - val_loss: 103.3887 - val_mae: 103.3887 - lr: 0.0010\n",
      "Epoch 14/20000\n",
      "26730/26730 [==============================] - 44s 2ms/step - loss: 101.5568 - mae: 101.5568 - val_loss: 101.1570 - val_mae: 101.1570 - lr: 0.0010\n",
      "Epoch 15/20000\n",
      "26730/26730 [==============================] - 42s 2ms/step - loss: 100.1344 - mae: 100.1344 - val_loss: 100.0942 - val_mae: 100.0942 - lr: 0.0010\n",
      "Epoch 16/20000\n",
      "26730/26730 [==============================] - 41s 2ms/step - loss: 98.8607 - mae: 98.8607 - val_loss: 97.6952 - val_mae: 97.6952 - lr: 0.0010\n",
      "Epoch 17/20000\n",
      "26730/26730 [==============================] - 41s 2ms/step - loss: 97.6801 - mae: 97.6801 - val_loss: 96.5403 - val_mae: 96.5403 - lr: 0.0010\n",
      "Epoch 18/20000\n",
      "26730/26730 [==============================] - 40s 2ms/step - loss: 96.6572 - mae: 96.6572 - val_loss: 96.8607 - val_mae: 96.8607 - lr: 0.0010\n",
      "Epoch 19/20000\n",
      "26730/26730 [==============================] - 40s 1ms/step - loss: 95.9920 - mae: 95.9920 - val_loss: 97.4152 - val_mae: 97.4151 - lr: 0.0010\n",
      "Epoch 20/20000\n",
      "26730/26730 [==============================] - 39s 1ms/step - loss: 95.4526 - mae: 95.4526 - val_loss: 94.6949 - val_mae: 94.6949 - lr: 0.0010\n",
      "Epoch 21/20000\n",
      "26730/26730 [==============================] - 39s 1ms/step - loss: 94.9575 - mae: 94.9575 - val_loss: 94.1190 - val_mae: 94.1190 - lr: 0.0010\n",
      "Epoch 22/20000\n",
      "26730/26730 [==============================] - 39s 1ms/step - loss: 94.5544 - mae: 94.5544 - val_loss: 93.9126 - val_mae: 93.9126 - lr: 0.0010\n",
      "Epoch 23/20000\n",
      "26730/26730 [==============================] - 38s 1ms/step - loss: 94.2252 - mae: 94.2252 - val_loss: 96.1417 - val_mae: 96.1417 - lr: 0.0010\n",
      "Epoch 24/20000\n",
      "26730/26730 [==============================] - 38s 1ms/step - loss: 93.8556 - mae: 93.8556 - val_loss: 93.1001 - val_mae: 93.1001 - lr: 0.0010\n",
      "Epoch 25/20000\n",
      "26730/26730 [==============================] - 38s 1ms/step - loss: 93.5286 - mae: 93.5286 - val_loss: 93.8666 - val_mae: 93.8666 - lr: 0.0010\n",
      "Epoch 26/20000\n",
      "26730/26730 [==============================] - 41s 2ms/step - loss: 93.1757 - mae: 93.1757 - val_loss: 92.9886 - val_mae: 92.9886 - lr: 0.0010\n",
      "Epoch 27/20000\n",
      "26730/26730 [==============================] - 42s 2ms/step - loss: 92.8495 - mae: 92.8495 - val_loss: 93.9918 - val_mae: 93.9918 - lr: 0.0010\n",
      "Epoch 28/20000\n",
      "26730/26730 [==============================] - 42s 2ms/step - loss: 92.4493 - mae: 92.4493 - val_loss: 93.3953 - val_mae: 93.3953 - lr: 0.0010\n",
      "Epoch 29/20000\n",
      "26730/26730 [==============================] - 42s 2ms/step - loss: 92.1162 - mae: 92.1162 - val_loss: 91.3451 - val_mae: 91.3451 - lr: 0.0010\n",
      "Epoch 30/20000\n",
      "26730/26730 [==============================] - 42s 2ms/step - loss: 91.6970 - mae: 91.6970 - val_loss: 91.1399 - val_mae: 91.1399 - lr: 0.0010\n",
      "Epoch 31/20000\n",
      "26730/26730 [==============================] - 42s 2ms/step - loss: 91.3120 - mae: 91.3120 - val_loss: 91.3448 - val_mae: 91.3448 - lr: 0.0010\n",
      "Epoch 32/20000\n",
      "26730/26730 [==============================] - 42s 2ms/step - loss: 91.0409 - mae: 91.0409 - val_loss: 90.8544 - val_mae: 90.8544 - lr: 0.0010\n",
      "Epoch 33/20000\n",
      "26730/26730 [==============================] - 42s 2ms/step - loss: 90.8063 - mae: 90.8063 - val_loss: 90.4211 - val_mae: 90.4211 - lr: 0.0010\n",
      "Epoch 34/20000\n",
      "26730/26730 [==============================] - 41s 2ms/step - loss: 90.5070 - mae: 90.5070 - val_loss: 90.4793 - val_mae: 90.4793 - lr: 0.0010\n",
      "Epoch 35/20000\n",
      "26730/26730 [==============================] - 41s 2ms/step - loss: 90.2522 - mae: 90.2522 - val_loss: 91.6258 - val_mae: 91.6258 - lr: 0.0010\n",
      "Epoch 36/20000\n",
      "26730/26730 [==============================] - 42s 2ms/step - loss: 89.9563 - mae: 89.9563 - val_loss: 89.5777 - val_mae: 89.5777 - lr: 0.0010\n",
      "Epoch 37/20000\n",
      "26730/26730 [==============================] - 42s 2ms/step - loss: 89.6825 - mae: 89.6825 - val_loss: 90.1461 - val_mae: 90.1461 - lr: 0.0010\n",
      "Epoch 38/20000\n",
      "26730/26730 [==============================] - 42s 2ms/step - loss: 89.5267 - mae: 89.5267 - val_loss: 90.6716 - val_mae: 90.6716 - lr: 0.0010\n",
      "Epoch 39/20000\n",
      "26730/26730 [==============================] - 42s 2ms/step - loss: 89.3524 - mae: 89.3524 - val_loss: 89.7402 - val_mae: 89.7402 - lr: 0.0010\n",
      "Epoch 40/20000\n",
      "26730/26730 [==============================] - 41s 2ms/step - loss: 89.1193 - mae: 89.1193 - val_loss: 88.1034 - val_mae: 88.1034 - lr: 0.0010\n",
      "Epoch 41/20000\n",
      "26730/26730 [==============================] - 39s 1ms/step - loss: 88.9715 - mae: 88.9715 - val_loss: 89.3658 - val_mae: 89.3658 - lr: 0.0010\n",
      "Epoch 42/20000\n",
      "26730/26730 [==============================] - 38s 1ms/step - loss: 88.8163 - mae: 88.8163 - val_loss: 89.4677 - val_mae: 89.4677 - lr: 0.0010\n",
      "Epoch 43/20000\n",
      "26730/26730 [==============================] - 38s 1ms/step - loss: 88.6326 - mae: 88.6326 - val_loss: 87.5912 - val_mae: 87.5912 - lr: 0.0010\n",
      "Epoch 44/20000\n",
      "26730/26730 [==============================] - 38s 1ms/step - loss: 88.4952 - mae: 88.4952 - val_loss: 87.7511 - val_mae: 87.7511 - lr: 0.0010\n",
      "Epoch 45/20000\n",
      "26730/26730 [==============================] - 40s 1ms/step - loss: 88.3533 - mae: 88.3533 - val_loss: 90.6403 - val_mae: 90.6403 - lr: 0.0010\n",
      "Epoch 46/20000\n",
      "26730/26730 [==============================] - 39s 1ms/step - loss: 88.1933 - mae: 88.1933 - val_loss: 88.1630 - val_mae: 88.1630 - lr: 0.0010\n",
      "Epoch 47/20000\n",
      "26730/26730 [==============================] - 38s 1ms/step - loss: 88.0445 - mae: 88.0445 - val_loss: 90.2589 - val_mae: 90.2589 - lr: 0.0010\n",
      "Epoch 48/20000\n",
      "26730/26730 [==============================] - 39s 1ms/step - loss: 87.9016 - mae: 87.9016 - val_loss: 86.6098 - val_mae: 86.6098 - lr: 0.0010\n",
      "Epoch 49/20000\n",
      "26730/26730 [==============================] - 39s 1ms/step - loss: 87.7827 - mae: 87.7827 - val_loss: 88.1306 - val_mae: 88.1306 - lr: 0.0010\n",
      "Epoch 50/20000\n",
      "26730/26730 [==============================] - 39s 1ms/step - loss: 87.6544 - mae: 87.6544 - val_loss: 86.6132 - val_mae: 86.6132 - lr: 0.0010\n",
      "Epoch 51/20000\n",
      "26730/26730 [==============================] - 39s 1ms/step - loss: 87.4855 - mae: 87.4855 - val_loss: 87.9649 - val_mae: 87.9649 - lr: 0.0010\n",
      "Epoch 52/20000\n",
      "26730/26730 [==============================] - 40s 1ms/step - loss: 87.3726 - mae: 87.3726 - val_loss: 87.8292 - val_mae: 87.8292 - lr: 0.0010\n",
      "Epoch 53/20000\n",
      "26730/26730 [==============================] - 43s 2ms/step - loss: 87.2141 - mae: 87.2141 - val_loss: 87.6028 - val_mae: 87.6028 - lr: 0.0010\n",
      "計算にかかった時間: 2173.2721991539秒\n"
     ]
    }
   ],
   "source": [
    "start_time = time.time()\n",
    "callbacks1 = tf.keras.callbacks.ReduceLROnPlateau(monitor='val_mae',\n",
    "                            factor=0.2,\n",
    "                            patience=5,\n",
    "                            mode=\"auto\",\n",
    "                            min_lr=0.00001) #最初は0.001だった\n",
    "callbacks2 = tf.keras.callbacks.EarlyStopping(monitor=\"val_mae\",\n",
    "                                              patience=5, #20→5\n",
    "                                              mode=\"auto\")\n",
    "history =  model.fit(x=x_train,\n",
    "                     y=y_train,\n",
    "                     epochs = 20000,\n",
    "                     batch_size=200,\n",
    "                     validation_data=(x_test, y_test),\n",
    "                     callbacks=[callbacks1,callbacks2])\n",
    "end_time = time.time()\n",
    "elapsed_time = end_time - start_time   #経過時間を計算して表示\n",
    "print(f\"計算にかかった時間: {elapsed_time}秒\")"
   ]
  },
  {
   "cell_type": "code",
   "execution_count": 44,
   "id": "fd9f2af9",
   "metadata": {},
   "outputs": [
    {
     "data": {
      "text/plain": [
       "dict_keys(['loss', 'mae', 'val_loss', 'val_mae', 'lr'])"
      ]
     },
     "execution_count": 44,
     "metadata": {},
     "output_type": "execute_result"
    }
   ],
   "source": [
    "history_dict = history.history\n",
    "history_dict.keys()"
   ]
  },
  {
   "cell_type": "code",
   "execution_count": 46,
   "id": "b2421dc8",
   "metadata": {},
   "outputs": [
    {
     "data": {
      "image/png": "[encoded data removed]",
      "text/plain": [
       "<Figure size 1200x800 with 1 Axes>"
      ]
     },
     "metadata": {},
     "output_type": "display_data"
    }
   ],
   "source": [
    "mae = history_dict['mae']\n",
    "val_mse = history_dict['val_mae']\n",
    "epochs = range(1, len(mae) + 1)\n",
    "\n",
    "plt.rcParams[\"font.size\"] = 15\n",
    "plt.figure(figsize=(12, 8))\n",
    "plt.plot(epochs, mae, label='mae')\n",
    "plt.plot(epochs, val_mse, label='val_mae')\n",
    "plt.xlabel(\"epochs\",fontsize=20)\n",
    "plt.ylabel(\"error\",fontsize=20)\n",
    "plt.ylim((0,750))\n",
    "plt.legend(loc = 'best',fontsize=20)\n",
    "#plt.savefig('mae_transition.png')\n",
    "plt.show()"
   ]
  },
  {
   "cell_type": "code",
   "execution_count": 47,
   "id": "c937eb63",
   "metadata": {},
   "outputs": [],
   "source": [
    "weights = [com.get_weights() for com in model.layers[0:]] \n",
    "model.layers[0].set_weights(weights[0])\n",
    "model.layers[1].set_weights(weights[1])\n",
    "model.layers[2].set_weights(weights[2])"
   ]
  },
  {
   "cell_type": "code",
   "execution_count": 48,
   "id": "ce774755",
   "metadata": {},
   "outputs": [
    {
     "name": "stdout",
     "output_type": "stream",
     "text": [
      "INFO:tensorflow:Assets written to: i_predict CD_3Ddist2\\assets\n"
     ]
    }
   ],
   "source": [
    "model.save('i_predict CD_3Ddist2')"
   ]
  }
 ],
 "metadata": {
  "kernelspec": {
   "display_name": "Python 3 (ipykernel)",
   "language": "python",
   "name": "python3"
  },
  "language_info": {
   "codemirror_mode": {
    "name": "ipython",
    "version": 3
   },
   "file_extension": ".py",
   "mimetype": "text/x-python",
   "name": "python",
   "nbconvert_exporter": "python",
   "pygments_lexer": "ipython3",
   "version": "3.9.18"
  }
 },
 "nbformat": 4,
 "nbformat_minor": 5
}
