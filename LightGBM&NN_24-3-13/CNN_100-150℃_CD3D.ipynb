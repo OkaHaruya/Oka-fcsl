{
 "cells": [
  {
   "cell_type": "code",
   "execution_count": 1,
   "id": "ce7824c4",
   "metadata": {},
   "outputs": [],
   "source": [
    "import warnings\n",
    "warnings.simplefilter('ignore', FutureWarning)"
   ]
  },
  {
   "cell_type": "code",
   "execution_count": 2,
   "id": "eab3a947",
   "metadata": {},
   "outputs": [],
   "source": [
    "import tensorflow as tf\n",
    "import numpy as np\n",
    "import matplotlib.pyplot as plt\n",
    "import pandas as pd\n",
    "import sklearn \n",
    "import time"
   ]
  },
  {
   "cell_type": "code",
   "execution_count": 3,
   "id": "5753432b",
   "metadata": {},
   "outputs": [],
   "source": [
    "#from tensorflow.keras import models\n",
    "#from tensorflow.keras import layers\n",
    "from sklearn.model_selection import train_test_split"
   ]
  },
  {
   "cell_type": "code",
   "execution_count": 5,
   "id": "61385086",
   "metadata": {},
   "outputs": [],
   "source": [
    "df_input = pd.read_csv(\"CD3D_100-150℃_0.2-1.6mm_0.4-0.9V_std\", usecols=[1,2,3,4,5,6])"
   ]
  },
  {
   "cell_type": "code",
   "execution_count": 6,
   "id": "bee2e1cb",
   "metadata": {},
   "outputs": [],
   "source": [
    "df_output = pd. read_csv(\"CD3D_100-150℃_0.2-1.6mm_0.4-0.9V\", usecols=[7])"
   ]
  },
  {
   "cell_type": "code",
   "execution_count": 7,
   "id": "6aa258fc",
   "metadata": {},
   "outputs": [
    {
     "data": {
      "text/plain": [
       "(5910000, 6)"
      ]
     },
     "execution_count": 7,
     "metadata": {},
     "output_type": "execute_result"
    }
   ],
   "source": [
    "df_input.shape #0.45V20℃1.5ms1.6mmと0.65V130℃1.5ms1.6mmのデータなし"
   ]
  },
  {
   "cell_type": "code",
   "execution_count": 8,
   "id": "0c9360c2",
   "metadata": {},
   "outputs": [
    {
     "data": {
      "text/plain": [
       "(5910000, 1)"
      ]
     },
     "execution_count": 8,
     "metadata": {},
     "output_type": "execute_result"
    }
   ],
   "source": [
    "df_output.shape"
   ]
  },
  {
   "cell_type": "code",
   "execution_count": 9,
   "id": "67c463de",
   "metadata": {},
   "outputs": [],
   "source": [
    "x_train, x_test, y_train, y_test = train_test_split(df_input, df_output, test_size=0.1, random_state=0)"
   ]
  },
  {
   "cell_type": "code",
   "execution_count": 10,
   "id": "9b16ab26",
   "metadata": {},
   "outputs": [
    {
     "name": "stdout",
     "output_type": "stream",
     "text": [
      "(5319000, 6) (591000, 6)\n"
     ]
    }
   ],
   "source": [
    "print(x_train.shape,x_test.shape)"
   ]
  },
  {
   "cell_type": "code",
   "execution_count": 11,
   "id": "e2036ac2",
   "metadata": {},
   "outputs": [
    {
     "data": {
      "text/html": [
       "<div>\n",
       "<style scoped>\n",
       "    .dataframe tbody tr th:only-of-type {\n",
       "        vertical-align: middle;\n",
       "    }\n",
       "\n",
       "    .dataframe tbody tr th {\n",
       "        vertical-align: top;\n",
       "    }\n",
       "\n",
       "    .dataframe thead th {\n",
       "        text-align: right;\n",
       "    }\n",
       "</style>\n",
       "<table border=\"1\" class=\"dataframe\">\n",
       "  <thead>\n",
       "    <tr style=\"text-align: right;\">\n",
       "      <th></th>\n",
       "      <th>x座標</th>\n",
       "      <th>y座標</th>\n",
       "      <th>z座標</th>\n",
       "      <th>V[V]</th>\n",
       "      <th>T_cell[℃]</th>\n",
       "      <th>W_ch[mm]</th>\n",
       "    </tr>\n",
       "  </thead>\n",
       "  <tbody>\n",
       "    <tr>\n",
       "      <th>3442285</th>\n",
       "      <td>-1.299222</td>\n",
       "      <td>-0.783800</td>\n",
       "      <td>-0.310973</td>\n",
       "      <td>-0.315428</td>\n",
       "      <td>0.288147</td>\n",
       "      <td>-0.261005</td>\n",
       "    </tr>\n",
       "    <tr>\n",
       "      <th>3553278</th>\n",
       "      <td>0.102587</td>\n",
       "      <td>-0.063361</td>\n",
       "      <td>-0.558638</td>\n",
       "      <td>0.946285</td>\n",
       "      <td>0.288147</td>\n",
       "      <td>-0.261005</td>\n",
       "    </tr>\n",
       "    <tr>\n",
       "      <th>633342</th>\n",
       "      <td>0.853556</td>\n",
       "      <td>-1.584075</td>\n",
       "      <td>-0.392238</td>\n",
       "      <td>1.577141</td>\n",
       "      <td>-1.467472</td>\n",
       "      <td>-0.261005</td>\n",
       "    </tr>\n",
       "    <tr>\n",
       "      <th>1505247</th>\n",
       "      <td>-1.098964</td>\n",
       "      <td>0.954884</td>\n",
       "      <td>-0.383209</td>\n",
       "      <td>0.630856</td>\n",
       "      <td>-0.882266</td>\n",
       "      <td>-0.261005</td>\n",
       "    </tr>\n",
       "    <tr>\n",
       "      <th>865126</th>\n",
       "      <td>-0.573285</td>\n",
       "      <td>-0.126724</td>\n",
       "      <td>-1.072025</td>\n",
       "      <td>0.630856</td>\n",
       "      <td>-1.467472</td>\n",
       "      <td>1.345807</td>\n",
       "    </tr>\n",
       "    <tr>\n",
       "      <th>...</th>\n",
       "      <td>...</td>\n",
       "      <td>...</td>\n",
       "      <td>...</td>\n",
       "      <td>...</td>\n",
       "      <td>...</td>\n",
       "      <td>...</td>\n",
       "    </tr>\n",
       "    <tr>\n",
       "      <th>2249467</th>\n",
       "      <td>-0.210317</td>\n",
       "      <td>0.380180</td>\n",
       "      <td>1.413648</td>\n",
       "      <td>0.946285</td>\n",
       "      <td>-0.297059</td>\n",
       "      <td>-1.064411</td>\n",
       "    </tr>\n",
       "    <tr>\n",
       "      <th>5157699</th>\n",
       "      <td>-0.327134</td>\n",
       "      <td>-1.584075</td>\n",
       "      <td>1.479434</td>\n",
       "      <td>0.315428</td>\n",
       "      <td>1.458560</td>\n",
       "      <td>-1.064411</td>\n",
       "    </tr>\n",
       "    <tr>\n",
       "      <th>2215104</th>\n",
       "      <td>-1.161545</td>\n",
       "      <td>-0.902605</td>\n",
       "      <td>1.671632</td>\n",
       "      <td>1.261713</td>\n",
       "      <td>-0.297059</td>\n",
       "      <td>-1.064411</td>\n",
       "    </tr>\n",
       "    <tr>\n",
       "      <th>1484405</th>\n",
       "      <td>0.377942</td>\n",
       "      <td>0.570270</td>\n",
       "      <td>-0.303234</td>\n",
       "      <td>-0.315428</td>\n",
       "      <td>-0.882266</td>\n",
       "      <td>-0.261005</td>\n",
       "    </tr>\n",
       "    <tr>\n",
       "      <th>4500015</th>\n",
       "      <td>-0.373027</td>\n",
       "      <td>-1.248885</td>\n",
       "      <td>-0.392238</td>\n",
       "      <td>1.261713</td>\n",
       "      <td>0.873354</td>\n",
       "      <td>-0.261005</td>\n",
       "    </tr>\n",
       "  </tbody>\n",
       "</table>\n",
       "<p>5319000 rows × 6 columns</p>\n",
       "</div>"
      ],
      "text/plain": [
       "              x座標       y座標       z座標      V[V]  T_cell[℃]  W_ch[mm]\n",
       "3442285 -1.299222 -0.783800 -0.310973 -0.315428   0.288147 -0.261005\n",
       "3553278  0.102587 -0.063361 -0.558638  0.946285   0.288147 -0.261005\n",
       "633342   0.853556 -1.584075 -0.392238  1.577141  -1.467472 -0.261005\n",
       "1505247 -1.098964  0.954884 -0.383209  0.630856  -0.882266 -0.261005\n",
       "865126  -0.573285 -0.126724 -1.072025  0.630856  -1.467472  1.345807\n",
       "...           ...       ...       ...       ...        ...       ...\n",
       "2249467 -0.210317  0.380180  1.413648  0.946285  -0.297059 -1.064411\n",
       "5157699 -0.327134 -1.584075  1.479434  0.315428   1.458560 -1.064411\n",
       "2215104 -1.161545 -0.902605  1.671632  1.261713  -0.297059 -1.064411\n",
       "1484405  0.377942  0.570270 -0.303234 -0.315428  -0.882266 -0.261005\n",
       "4500015 -0.373027 -1.248885 -0.392238  1.261713   0.873354 -0.261005\n",
       "\n",
       "[5319000 rows x 6 columns]"
      ]
     },
     "execution_count": 11,
     "metadata": {},
     "output_type": "execute_result"
    }
   ],
   "source": [
    "x_train"
   ]
  },
  {
   "cell_type": "code",
   "execution_count": 12,
   "id": "5f2b908c",
   "metadata": {},
   "outputs": [
    {
     "data": {
      "text/html": [
       "<div>\n",
       "<style scoped>\n",
       "    .dataframe tbody tr th:only-of-type {\n",
       "        vertical-align: middle;\n",
       "    }\n",
       "\n",
       "    .dataframe tbody tr th {\n",
       "        vertical-align: top;\n",
       "    }\n",
       "\n",
       "    .dataframe thead th {\n",
       "        text-align: right;\n",
       "    }\n",
       "</style>\n",
       "<table border=\"1\" class=\"dataframe\">\n",
       "  <thead>\n",
       "    <tr style=\"text-align: right;\">\n",
       "      <th></th>\n",
       "      <th>i[A/m^2]</th>\n",
       "    </tr>\n",
       "  </thead>\n",
       "  <tbody>\n",
       "    <tr>\n",
       "      <th>3442285</th>\n",
       "      <td>12995.531686</td>\n",
       "    </tr>\n",
       "    <tr>\n",
       "      <th>3553278</th>\n",
       "      <td>3055.575745</td>\n",
       "    </tr>\n",
       "    <tr>\n",
       "      <th>633342</th>\n",
       "      <td>112.443434</td>\n",
       "    </tr>\n",
       "    <tr>\n",
       "      <th>1505247</th>\n",
       "      <td>3336.692384</td>\n",
       "    </tr>\n",
       "    <tr>\n",
       "      <th>865126</th>\n",
       "      <td>2012.825255</td>\n",
       "    </tr>\n",
       "    <tr>\n",
       "      <th>...</th>\n",
       "      <td>...</td>\n",
       "    </tr>\n",
       "    <tr>\n",
       "      <th>2249467</th>\n",
       "      <td>2625.451201</td>\n",
       "    </tr>\n",
       "    <tr>\n",
       "      <th>5157699</th>\n",
       "      <td>10222.695302</td>\n",
       "    </tr>\n",
       "    <tr>\n",
       "      <th>2215104</th>\n",
       "      <td>1338.378940</td>\n",
       "    </tr>\n",
       "    <tr>\n",
       "      <th>1484405</th>\n",
       "      <td>8674.221463</td>\n",
       "    </tr>\n",
       "    <tr>\n",
       "      <th>4500015</th>\n",
       "      <td>2482.373037</td>\n",
       "    </tr>\n",
       "  </tbody>\n",
       "</table>\n",
       "<p>5319000 rows × 1 columns</p>\n",
       "</div>"
      ],
      "text/plain": [
       "             i[A/m^2]\n",
       "3442285  12995.531686\n",
       "3553278   3055.575745\n",
       "633342     112.443434\n",
       "1505247   3336.692384\n",
       "865126    2012.825255\n",
       "...               ...\n",
       "2249467   2625.451201\n",
       "5157699  10222.695302\n",
       "2215104   1338.378940\n",
       "1484405   8674.221463\n",
       "4500015   2482.373037\n",
       "\n",
       "[5319000 rows x 1 columns]"
      ]
     },
     "execution_count": 12,
     "metadata": {},
     "output_type": "execute_result"
    }
   ],
   "source": [
    "y_train"
   ]
  },
  {
   "cell_type": "code",
   "execution_count": 13,
   "id": "e8453f27",
   "metadata": {},
   "outputs": [],
   "source": [
    "from tensorflow.keras.models import Sequential\n",
    "from tensorflow.keras.layers import Dense, Activation\n",
    "from tensorflow.keras import regularizers, initializers\n",
    "\n",
    "model = Sequential()\n",
    "\n",
    "weights = [com.get_weights() for com in model.layers[0:]]  #重さを抽出（※始めに回すときだけ下の行と入れ替える）\n",
    "\n",
    "\n",
    "\n",
    "model.add(Dense(units=32, input_shape=(6,), activation='relu'))  \n",
    "model.add(Dense(units=10, activation='relu'))  #\n",
    "model.add(Dense(units=10, activation='relu'))\n",
    "model.add(Dense(units=1, activation='linear'))  #隠れ層3層でやってみる\n",
    "\n",
    "model.compile(loss='mean_absolute_error',    \n",
    "              optimizer='adam',             #とりあえずadamで\n",
    "              metrics=['mae'],\n",
    "              run_eagerly=False)   #計算時間5倍くらいかかる"
   ]
  },
  {
   "cell_type": "code",
   "execution_count": 14,
   "id": "232c27be",
   "metadata": {},
   "outputs": [
    {
     "name": "stdout",
     "output_type": "stream",
     "text": [
      "Epoch 1/20000\n",
      "26595/26595 [==============================] - 40s 1ms/step - loss: 765.3643 - mae: 765.3643 - val_loss: 315.1161 - val_mae: 315.1161 - lr: 0.0010\n",
      "Epoch 2/20000\n",
      "26595/26595 [==============================] - 42s 2ms/step - loss: 202.2845 - mae: 202.2845 - val_loss: 132.6764 - val_mae: 132.6764 - lr: 0.0010\n",
      "Epoch 3/20000\n",
      "26595/26595 [==============================] - 40s 2ms/step - loss: 122.1703 - mae: 122.1703 - val_loss: 116.1457 - val_mae: 116.1457 - lr: 0.0010\n",
      "Epoch 4/20000\n",
      "26595/26595 [==============================] - 39s 1ms/step - loss: 111.3279 - mae: 111.3279 - val_loss: 107.6111 - val_mae: 107.6111 - lr: 0.0010\n",
      "Epoch 5/20000\n",
      "26595/26595 [==============================] - 39s 1ms/step - loss: 105.2151 - mae: 105.2151 - val_loss: 109.9017 - val_mae: 109.9017 - lr: 0.0010\n",
      "Epoch 6/20000\n",
      "26595/26595 [==============================] - 39s 1ms/step - loss: 100.8389 - mae: 100.8389 - val_loss: 97.7269 - val_mae: 97.7269 - lr: 0.0010\n",
      "Epoch 7/20000\n",
      "26595/26595 [==============================] - 39s 1ms/step - loss: 96.4392 - mae: 96.4392 - val_loss: 93.4109 - val_mae: 93.4109 - lr: 0.0010\n",
      "Epoch 8/20000\n",
      "26595/26595 [==============================] - 39s 1ms/step - loss: 92.7520 - mae: 92.7520 - val_loss: 91.2108 - val_mae: 91.2108 - lr: 0.0010\n",
      "Epoch 9/20000\n",
      "26595/26595 [==============================] - 38s 1ms/step - loss: 90.2971 - mae: 90.2971 - val_loss: 88.1567 - val_mae: 88.1567 - lr: 0.0010\n",
      "Epoch 10/20000\n",
      "26595/26595 [==============================] - 38s 1ms/step - loss: 88.2305 - mae: 88.2305 - val_loss: 86.0554 - val_mae: 86.0554 - lr: 0.0010\n",
      "Epoch 11/20000\n",
      "26595/26595 [==============================] - 38s 1ms/step - loss: 86.0382 - mae: 86.0382 - val_loss: 84.4139 - val_mae: 84.4139 - lr: 0.0010\n",
      "Epoch 12/20000\n",
      "26595/26595 [==============================] - 39s 1ms/step - loss: 83.8558 - mae: 83.8558 - val_loss: 81.7142 - val_mae: 81.7142 - lr: 0.0010\n",
      "Epoch 13/20000\n",
      "26595/26595 [==============================] - 38s 1ms/step - loss: 82.0613 - mae: 82.0613 - val_loss: 81.7608 - val_mae: 81.7608 - lr: 0.0010\n",
      "Epoch 14/20000\n",
      "26595/26595 [==============================] - 39s 1ms/step - loss: 80.8872 - mae: 80.8872 - val_loss: 80.0293 - val_mae: 80.0293 - lr: 0.0010\n",
      "Epoch 15/20000\n",
      "26595/26595 [==============================] - 39s 1ms/step - loss: 79.8068 - mae: 79.8068 - val_loss: 78.9671 - val_mae: 78.9671 - lr: 0.0010\n",
      "Epoch 16/20000\n",
      "26595/26595 [==============================] - 39s 1ms/step - loss: 78.7058 - mae: 78.7058 - val_loss: 77.9551 - val_mae: 77.9551 - lr: 0.0010\n",
      "Epoch 17/20000\n",
      "26595/26595 [==============================] - 39s 1ms/step - loss: 77.5945 - mae: 77.5945 - val_loss: 75.8970 - val_mae: 75.8970 - lr: 0.0010\n",
      "Epoch 18/20000\n",
      "26595/26595 [==============================] - 40s 2ms/step - loss: 76.5653 - mae: 76.5653 - val_loss: 76.0319 - val_mae: 76.0319 - lr: 0.0010\n",
      "Epoch 19/20000\n",
      "26595/26595 [==============================] - 38s 1ms/step - loss: 75.6410 - mae: 75.6410 - val_loss: 74.2317 - val_mae: 74.2317 - lr: 0.0010\n",
      "Epoch 20/20000\n",
      "26595/26595 [==============================] - 38s 1ms/step - loss: 74.9086 - mae: 74.9086 - val_loss: 78.9151 - val_mae: 78.9151 - lr: 0.0010\n",
      "Epoch 21/20000\n",
      "26595/26595 [==============================] - 38s 1ms/step - loss: 74.1495 - mae: 74.1495 - val_loss: 73.1998 - val_mae: 73.1998 - lr: 0.0010\n",
      "Epoch 22/20000\n",
      "26595/26595 [==============================] - 38s 1ms/step - loss: 73.4697 - mae: 73.4697 - val_loss: 72.6891 - val_mae: 72.6892 - lr: 0.0010\n",
      "Epoch 23/20000\n",
      "26595/26595 [==============================] - 38s 1ms/step - loss: 72.9028 - mae: 72.9028 - val_loss: 71.3565 - val_mae: 71.3565 - lr: 0.0010\n",
      "Epoch 24/20000\n",
      "26595/26595 [==============================] - 37s 1ms/step - loss: 72.3223 - mae: 72.3223 - val_loss: 70.9767 - val_mae: 70.9767 - lr: 0.0010\n",
      "Epoch 25/20000\n",
      "26595/26595 [==============================] - 37s 1ms/step - loss: 71.8118 - mae: 71.8118 - val_loss: 71.8929 - val_mae: 71.8929 - lr: 0.0010\n",
      "Epoch 26/20000\n",
      "26595/26595 [==============================] - 37s 1ms/step - loss: 71.3564 - mae: 71.3564 - val_loss: 70.2796 - val_mae: 70.2796 - lr: 0.0010\n",
      "Epoch 27/20000\n",
      "26595/26595 [==============================] - 38s 1ms/step - loss: 70.9059 - mae: 70.9059 - val_loss: 71.2331 - val_mae: 71.2331 - lr: 0.0010\n",
      "Epoch 28/20000\n",
      "26595/26595 [==============================] - 37s 1ms/step - loss: 70.5428 - mae: 70.5428 - val_loss: 70.7055 - val_mae: 70.7055 - lr: 0.0010\n",
      "Epoch 29/20000\n",
      "26595/26595 [==============================] - 38s 1ms/step - loss: 69.9745 - mae: 69.9745 - val_loss: 69.5560 - val_mae: 69.5560 - lr: 0.0010\n",
      "Epoch 30/20000\n",
      "26595/26595 [==============================] - 38s 1ms/step - loss: 69.3348 - mae: 69.3348 - val_loss: 68.3379 - val_mae: 68.3379 - lr: 0.0010\n",
      "Epoch 31/20000\n",
      "26595/26595 [==============================] - 38s 1ms/step - loss: 68.8794 - mae: 68.8794 - val_loss: 68.0945 - val_mae: 68.0945 - lr: 0.0010\n",
      "Epoch 32/20000\n",
      "26595/26595 [==============================] - 37s 1ms/step - loss: 68.2507 - mae: 68.2507 - val_loss: 67.7444 - val_mae: 67.7444 - lr: 0.0010\n",
      "Epoch 33/20000\n",
      "26595/26595 [==============================] - 37s 1ms/step - loss: 67.8848 - mae: 67.8848 - val_loss: 67.3890 - val_mae: 67.3890 - lr: 0.0010\n",
      "Epoch 34/20000\n",
      "26595/26595 [==============================] - 36s 1ms/step - loss: 67.4954 - mae: 67.4954 - val_loss: 68.1250 - val_mae: 68.1250 - lr: 0.0010\n",
      "Epoch 35/20000\n",
      "26595/26595 [==============================] - 37s 1ms/step - loss: 67.1811 - mae: 67.1811 - val_loss: 66.3695 - val_mae: 66.3695 - lr: 0.0010\n",
      "Epoch 36/20000\n",
      "26595/26595 [==============================] - 37s 1ms/step - loss: 66.8999 - mae: 66.8999 - val_loss: 65.8109 - val_mae: 65.8109 - lr: 0.0010\n",
      "Epoch 37/20000\n",
      "26595/26595 [==============================] - 37s 1ms/step - loss: 66.6395 - mae: 66.6395 - val_loss: 65.0443 - val_mae: 65.0443 - lr: 0.0010\n",
      "Epoch 38/20000\n",
      "26595/26595 [==============================] - 37s 1ms/step - loss: 66.4036 - mae: 66.4036 - val_loss: 68.9537 - val_mae: 68.9537 - lr: 0.0010\n",
      "Epoch 39/20000\n",
      "26595/26595 [==============================] - 38s 1ms/step - loss: 66.0163 - mae: 66.0163 - val_loss: 66.4741 - val_mae: 66.4741 - lr: 0.0010\n",
      "Epoch 40/20000\n",
      "26595/26595 [==============================] - 38s 1ms/step - loss: 65.6568 - mae: 65.6568 - val_loss: 71.1750 - val_mae: 71.1750 - lr: 0.0010\n",
      "Epoch 41/20000\n",
      "26595/26595 [==============================] - 37s 1ms/step - loss: 65.2970 - mae: 65.2970 - val_loss: 64.3700 - val_mae: 64.3700 - lr: 0.0010\n",
      "Epoch 42/20000\n",
      "26595/26595 [==============================] - 37s 1ms/step - loss: 64.9805 - mae: 64.9805 - val_loss: 64.4404 - val_mae: 64.4404 - lr: 0.0010\n",
      "Epoch 43/20000\n",
      "26595/26595 [==============================] - 36s 1ms/step - loss: 64.7231 - mae: 64.7231 - val_loss: 65.8941 - val_mae: 65.8941 - lr: 0.0010\n",
      "Epoch 44/20000\n",
      "26595/26595 [==============================] - 36s 1ms/step - loss: 64.5276 - mae: 64.5276 - val_loss: 63.3029 - val_mae: 63.3029 - lr: 0.0010\n",
      "Epoch 45/20000\n",
      "26595/26595 [==============================] - 37s 1ms/step - loss: 64.3452 - mae: 64.3452 - val_loss: 63.6599 - val_mae: 63.6599 - lr: 0.0010\n",
      "Epoch 46/20000\n",
      "26595/26595 [==============================] - 37s 1ms/step - loss: 64.1842 - mae: 64.1842 - val_loss: 63.8137 - val_mae: 63.8137 - lr: 0.0010\n",
      "Epoch 47/20000\n",
      "26595/26595 [==============================] - 36s 1ms/step - loss: 63.9095 - mae: 63.9095 - val_loss: 62.8381 - val_mae: 62.8381 - lr: 0.0010\n",
      "Epoch 48/20000\n",
      "26595/26595 [==============================] - 36s 1ms/step - loss: 63.6821 - mae: 63.6821 - val_loss: 63.0773 - val_mae: 63.0773 - lr: 0.0010\n",
      "Epoch 49/20000\n",
      "26595/26595 [==============================] - 37s 1ms/step - loss: 63.4926 - mae: 63.4926 - val_loss: 62.4951 - val_mae: 62.4951 - lr: 0.0010\n",
      "Epoch 50/20000\n",
      "26595/26595 [==============================] - 37s 1ms/step - loss: 63.3023 - mae: 63.3023 - val_loss: 61.9317 - val_mae: 61.9317 - lr: 0.0010\n",
      "Epoch 51/20000\n",
      "26595/26595 [==============================] - 37s 1ms/step - loss: 63.1617 - mae: 63.1617 - val_loss: 62.5131 - val_mae: 62.5131 - lr: 0.0010\n",
      "Epoch 52/20000\n",
      "26595/26595 [==============================] - 37s 1ms/step - loss: 62.9680 - mae: 62.9680 - val_loss: 61.9603 - val_mae: 61.9603 - lr: 0.0010\n",
      "Epoch 53/20000\n",
      "26595/26595 [==============================] - 37s 1ms/step - loss: 62.8203 - mae: 62.8203 - val_loss: 63.8671 - val_mae: 63.8671 - lr: 0.0010\n",
      "Epoch 54/20000\n",
      "26595/26595 [==============================] - 37s 1ms/step - loss: 62.6577 - mae: 62.6577 - val_loss: 64.0467 - val_mae: 64.0467 - lr: 0.0010\n",
      "Epoch 55/20000\n",
      "26595/26595 [==============================] - 37s 1ms/step - loss: 62.4865 - mae: 62.4865 - val_loss: 62.5480 - val_mae: 62.5480 - lr: 0.0010\n",
      "計算にかかった時間: 2079.7761051654816秒\n"
     ]
    }
   ],
   "source": [
    "start_time = time.time()\n",
    "callbacks1 = tf.keras.callbacks.ReduceLROnPlateau(monitor='val_mae',\n",
    "                            factor=0.2,\n",
    "                            patience=5,\n",
    "                            mode=\"auto\",\n",
    "                            min_lr=0.001) #最初は0.001だった\n",
    "callbacks2 = tf.keras.callbacks.EarlyStopping(monitor=\"val_mae\",\n",
    "                                              patience=5, #20→5\n",
    "                                              mode=\"auto\")\n",
    "history =  model.fit(x=x_train,\n",
    "                     y=y_train,\n",
    "                     epochs = 20000,\n",
    "                     batch_size=200,\n",
    "                     validation_data=(x_test, y_test),\n",
    "                     callbacks=[callbacks1,callbacks2])\n",
    "end_time = time.time()\n",
    "elapsed_time = end_time - start_time   #経過時間を計算して表示\n",
    "print(f\"計算にかかった時間: {elapsed_time}秒\")"
   ]
  },
  {
   "cell_type": "code",
   "execution_count": 15,
   "id": "fd9f2af9",
   "metadata": {},
   "outputs": [
    {
     "data": {
      "text/plain": [
       "dict_keys(['loss', 'mae', 'val_loss', 'val_mae', 'lr'])"
      ]
     },
     "execution_count": 15,
     "metadata": {},
     "output_type": "execute_result"
    }
   ],
   "source": [
    "history_dict = history.history\n",
    "history_dict.keys()"
   ]
  },
  {
   "cell_type": "code",
   "execution_count": 16,
   "id": "b2421dc8",
   "metadata": {},
   "outputs": [
    {
     "data": {
      "image/png": "[encoded data removed]",
      "text/plain": [
       "<Figure size 1200x800 with 1 Axes>"
      ]
     },
     "metadata": {},
     "output_type": "display_data"
    }
   ],
   "source": [
    "mae = history_dict['mae']\n",
    "val_mse = history_dict['val_mae']\n",
    "epochs = range(1, len(mae) + 1)\n",
    "\n",
    "plt.rcParams[\"font.size\"] = 15\n",
    "plt.figure(figsize=(12, 8))\n",
    "plt.plot(epochs, mae, label='mae')\n",
    "plt.plot(epochs, val_mse, label='val_mae')\n",
    "plt.xlabel(\"epochs\",fontsize=20)\n",
    "plt.ylabel(\"error\",fontsize=20)\n",
    "plt.ylim((0,750))\n",
    "plt.legend(loc = 'best',fontsize=20)\n",
    "#plt.savefig('mae_transition.png')\n",
    "plt.show()"
   ]
  },
  {
   "cell_type": "code",
   "execution_count": 17,
   "id": "c937eb63",
   "metadata": {},
   "outputs": [],
   "source": [
    "weights = [com.get_weights() for com in model.layers[0:]] \n",
    "model.layers[0].set_weights(weights[0])\n",
    "model.layers[1].set_weights(weights[1])\n",
    "model.layers[2].set_weights(weights[2])"
   ]
  },
  {
   "cell_type": "code",
   "execution_count": 18,
   "id": "ce774755",
   "metadata": {},
   "outputs": [
    {
     "name": "stdout",
     "output_type": "stream",
     "text": [
      "INFO:tensorflow:Assets written to: i_predict CD_3Ddist2\\assets\n"
     ]
    }
   ],
   "source": [
    "model.save('i_predict CD_3Ddist2')"
   ]
  },
  {
   "cell_type": "code",
   "execution_count": 19,
   "id": "59641780",
   "metadata": {},
   "outputs": [
    {
     "ename": "ModuleNotFoundError",
     "evalue": "No module named 'shap'",
     "output_type": "error",
     "traceback": [
      "\u001b[1;31m---------------------------------------------------------------------------\u001b[0m",
      "\u001b[1;31mModuleNotFoundError\u001b[0m                       Traceback (most recent call last)",
      "Cell \u001b[1;32mIn[19], line 1\u001b[0m\n\u001b[1;32m----> 1\u001b[0m \u001b[38;5;28;01mimport\u001b[39;00m \u001b[38;5;21;01mshap\u001b[39;00m\n",
      "\u001b[1;31mModuleNotFoundError\u001b[0m: No module named 'shap'"
     ]
    }
   ],
   "source": [
    "import shap"
   ]
  },
  {
   "cell_type": "code",
   "execution_count": null,
   "id": "13ce06e4",
   "metadata": {},
   "outputs": [],
   "source": [
    "# SHAPの準備\n",
    "explainer = shap.Explainer(model, x_train)\n",
    "\n",
    "# SHAP値の計算\n",
    "shap_values = explainer(x_train)\n",
    "\n",
    "# SHAP値をプロットする\n",
    "shap.summary_plot(shap_values, x_train)"
   ]
  },
  {
   "cell_type": "code",
   "execution_count": null,
   "id": "c4c47912",
   "metadata": {},
   "outputs": [],
   "source": [
    "from sklearn.ensemble import RandomForestRegressor\n",
    "from sklearn.inspection import partial_dependence\n",
    "# 部分依存プロットを計算する\n",
    "# feature_idxは目的の特徴量のインデックス、ここでは 0 と仮定しています\n",
    "# もし複数の特徴量を調べたい場合は、feature_idx=[0, 1, ...] のようにインデックスを指定します\n",
    "partial_dependence(model, x_train, features=['x座標','y座標','z座標','V[V]','T_cell[℃]','W_ch[mm]'])\n"
   ]
  }
 ],
 "metadata": {
  "kernelspec": {
   "display_name": "Python 3 (ipykernel)",
   "language": "python",
   "name": "python3"
  },
  "language_info": {
   "codemirror_mode": {
    "name": "ipython",
    "version": 3
   },
   "file_extension": ".py",
   "mimetype": "text/x-python",
   "name": "python",
   "nbconvert_exporter": "python",
   "pygments_lexer": "ipython3",
   "version": "3.9.18"
  }
 },
 "nbformat": 4,
 "nbformat_minor": 5
}
